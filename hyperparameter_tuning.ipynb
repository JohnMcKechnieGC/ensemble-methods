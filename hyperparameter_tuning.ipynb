{
 "cells": [
  {
   "cell_type": "markdown",
   "metadata": {},
   "source": [
    "# Optimizing our Models"
   ]
  },
  {
   "cell_type": "code",
   "execution_count": 1,
   "metadata": {},
   "outputs": [],
   "source": [
    "import pandas as pd\n",
    "from sklearn.model_selection import train_test_split\n",
    "from sklearn.preprocessing import OrdinalEncoder\n",
    "from sklearn.model_selection import GridSearchCV\n",
    "import xgboost as xgb\n",
    "from sklearn.tree import DecisionTreeRegressor\n",
    "from sklearn.ensemble import RandomForestRegressor\n",
    "from sklearn.ensemble import HistGradientBoostingRegressor"
   ]
  },
  {
   "cell_type": "markdown",
   "metadata": {},
   "source": [
    "## Load and Process the Data\n",
    "This is using the same procedure as in housing_prices.ipynb. It would make sense to extract this into its own distinct process so that we didn't have to duplicate the code."
   ]
  },
  {
   "cell_type": "code",
   "execution_count": 2,
   "metadata": {},
   "outputs": [],
   "source": [
    "df = pd.read_csv('data/housing.csv')\n",
    "df = df.dropna()"
   ]
  },
  {
   "cell_type": "code",
   "execution_count": 3,
   "metadata": {},
   "outputs": [],
   "source": [
    "X = df.drop('median_house_value', axis=1)\n",
    "y = df['median_house_value']"
   ]
  },
  {
   "cell_type": "code",
   "execution_count": 4,
   "metadata": {},
   "outputs": [],
   "source": [
    "X_train, X_test, y_train, y_test = train_test_split(\n",
    "    X,\n",
    "    y,\n",
    "    test_size=0.3,\n",
    "    random_state=42)"
   ]
  },
  {
   "cell_type": "code",
   "execution_count": 5,
   "metadata": {},
   "outputs": [],
   "source": [
    "# Define the categories in the desired order for encoding\n",
    "categories = [['INLAND', '<1H OCEAN', 'NEAR OCEAN', 'NEAR BAY', 'ISLAND']]\n",
    "encoder = OrdinalEncoder(categories=categories)\n",
    "X_train['ocean_proximity'] = encoder.fit_transform(\n",
    "    X_train[['ocean_proximity']])"
   ]
  },
  {
   "cell_type": "code",
   "execution_count": 6,
   "metadata": {},
   "outputs": [
    {
     "data": {
      "application/vnd.microsoft.datawrangler.viewer.v0+json": {
       "columns": [
        {
         "name": "index",
         "rawType": "int64",
         "type": "integer"
        },
        {
         "name": "longitude",
         "rawType": "float64",
         "type": "float"
        },
        {
         "name": "latitude",
         "rawType": "float64",
         "type": "float"
        },
        {
         "name": "housing_median_age",
         "rawType": "float64",
         "type": "float"
        },
        {
         "name": "total_rooms",
         "rawType": "float64",
         "type": "float"
        },
        {
         "name": "total_bedrooms",
         "rawType": "float64",
         "type": "float"
        },
        {
         "name": "population",
         "rawType": "float64",
         "type": "float"
        },
        {
         "name": "households",
         "rawType": "float64",
         "type": "float"
        },
        {
         "name": "median_income",
         "rawType": "float64",
         "type": "float"
        },
        {
         "name": "ocean_proximity",
         "rawType": "float64",
         "type": "float"
        }
       ],
       "ref": "99848168-4723-4f84-8593-b7ae204dfe6d",
       "rows": [
        [
         "19566",
         "-120.96",
         "37.61",
         "23.0",
         "3497.0",
         "887.0",
         "2467.0",
         "816.0",
         "1.9444",
         "0.0"
        ],
        [
         "7292",
         "-118.22",
         "33.98",
         "34.0",
         "2225.0",
         "753.0",
         "2980.0",
         "736.0",
         "1.6685",
         "1.0"
        ],
        [
         "17618",
         "-121.94",
         "37.28",
         "27.0",
         "2859.0",
         "464.0",
         "1144.0",
         "430.0",
         "5.0822",
         "1.0"
        ],
        [
         "17518",
         "-121.91",
         "37.34",
         "35.0",
         "2189.0",
         "607.0",
         "1193.0",
         "562.0",
         "2.8042",
         "1.0"
        ],
        [
         "5172",
         "-118.28",
         "33.95",
         "41.0",
         "835.0",
         "208.0",
         "707.0",
         "192.0",
         "1.4103",
         "1.0"
        ]
       ],
       "shape": {
        "columns": 9,
        "rows": 5
       }
      },
      "text/html": [
       "<div>\n",
       "<style scoped>\n",
       "    .dataframe tbody tr th:only-of-type {\n",
       "        vertical-align: middle;\n",
       "    }\n",
       "\n",
       "    .dataframe tbody tr th {\n",
       "        vertical-align: top;\n",
       "    }\n",
       "\n",
       "    .dataframe thead th {\n",
       "        text-align: right;\n",
       "    }\n",
       "</style>\n",
       "<table border=\"1\" class=\"dataframe\">\n",
       "  <thead>\n",
       "    <tr style=\"text-align: right;\">\n",
       "      <th></th>\n",
       "      <th>longitude</th>\n",
       "      <th>latitude</th>\n",
       "      <th>housing_median_age</th>\n",
       "      <th>total_rooms</th>\n",
       "      <th>total_bedrooms</th>\n",
       "      <th>population</th>\n",
       "      <th>households</th>\n",
       "      <th>median_income</th>\n",
       "      <th>ocean_proximity</th>\n",
       "    </tr>\n",
       "  </thead>\n",
       "  <tbody>\n",
       "    <tr>\n",
       "      <th>19566</th>\n",
       "      <td>-120.96</td>\n",
       "      <td>37.61</td>\n",
       "      <td>23.0</td>\n",
       "      <td>3497.0</td>\n",
       "      <td>887.0</td>\n",
       "      <td>2467.0</td>\n",
       "      <td>816.0</td>\n",
       "      <td>1.9444</td>\n",
       "      <td>0.0</td>\n",
       "    </tr>\n",
       "    <tr>\n",
       "      <th>7292</th>\n",
       "      <td>-118.22</td>\n",
       "      <td>33.98</td>\n",
       "      <td>34.0</td>\n",
       "      <td>2225.0</td>\n",
       "      <td>753.0</td>\n",
       "      <td>2980.0</td>\n",
       "      <td>736.0</td>\n",
       "      <td>1.6685</td>\n",
       "      <td>1.0</td>\n",
       "    </tr>\n",
       "    <tr>\n",
       "      <th>17618</th>\n",
       "      <td>-121.94</td>\n",
       "      <td>37.28</td>\n",
       "      <td>27.0</td>\n",
       "      <td>2859.0</td>\n",
       "      <td>464.0</td>\n",
       "      <td>1144.0</td>\n",
       "      <td>430.0</td>\n",
       "      <td>5.0822</td>\n",
       "      <td>1.0</td>\n",
       "    </tr>\n",
       "    <tr>\n",
       "      <th>17518</th>\n",
       "      <td>-121.91</td>\n",
       "      <td>37.34</td>\n",
       "      <td>35.0</td>\n",
       "      <td>2189.0</td>\n",
       "      <td>607.0</td>\n",
       "      <td>1193.0</td>\n",
       "      <td>562.0</td>\n",
       "      <td>2.8042</td>\n",
       "      <td>1.0</td>\n",
       "    </tr>\n",
       "    <tr>\n",
       "      <th>5172</th>\n",
       "      <td>-118.28</td>\n",
       "      <td>33.95</td>\n",
       "      <td>41.0</td>\n",
       "      <td>835.0</td>\n",
       "      <td>208.0</td>\n",
       "      <td>707.0</td>\n",
       "      <td>192.0</td>\n",
       "      <td>1.4103</td>\n",
       "      <td>1.0</td>\n",
       "    </tr>\n",
       "  </tbody>\n",
       "</table>\n",
       "</div>"
      ],
      "text/plain": [
       "       longitude  latitude  housing_median_age  total_rooms  total_bedrooms  \\\n",
       "19566    -120.96     37.61                23.0       3497.0           887.0   \n",
       "7292     -118.22     33.98                34.0       2225.0           753.0   \n",
       "17618    -121.94     37.28                27.0       2859.0           464.0   \n",
       "17518    -121.91     37.34                35.0       2189.0           607.0   \n",
       "5172     -118.28     33.95                41.0        835.0           208.0   \n",
       "\n",
       "       population  households  median_income  ocean_proximity  \n",
       "19566      2467.0       816.0         1.9444              0.0  \n",
       "7292       2980.0       736.0         1.6685              1.0  \n",
       "17618      1144.0       430.0         5.0822              1.0  \n",
       "17518      1193.0       562.0         2.8042              1.0  \n",
       "5172        707.0       192.0         1.4103              1.0  "
      ]
     },
     "execution_count": 6,
     "metadata": {},
     "output_type": "execute_result"
    }
   ],
   "source": [
    "X_train.head()"
   ]
  },
  {
   "cell_type": "code",
   "execution_count": 7,
   "metadata": {},
   "outputs": [
    {
     "data": {
      "application/vnd.microsoft.datawrangler.viewer.v0+json": {
       "columns": [
        {
         "name": "index",
         "rawType": "int64",
         "type": "integer"
        },
        {
         "name": "median_house_value",
         "rawType": "float64",
         "type": "float"
        }
       ],
       "ref": "ae74b1a7-8a28-4571-a32a-3dad6e1417ca",
       "rows": [
        [
         "19566",
         "93400.0"
        ],
        [
         "7292",
         "128800.0"
        ],
        [
         "17618",
         "327500.0"
        ],
        [
         "17518",
         "240900.0"
        ],
        [
         "5172",
         "86200.0"
        ]
       ],
       "shape": {
        "columns": 1,
        "rows": 5
       }
      },
      "text/plain": [
       "19566     93400.0\n",
       "7292     128800.0\n",
       "17618    327500.0\n",
       "17518    240900.0\n",
       "5172      86200.0\n",
       "Name: median_house_value, dtype: float64"
      ]
     },
     "execution_count": 7,
     "metadata": {},
     "output_type": "execute_result"
    }
   ],
   "source": [
    "y_train.head()"
   ]
  },
  {
   "cell_type": "markdown",
   "metadata": {},
   "source": [
    "Encode the ocean_proximity column in our validation and test sets as well."
   ]
  },
  {
   "cell_type": "code",
   "execution_count": 8,
   "metadata": {},
   "outputs": [],
   "source": [
    "X_test['ocean_proximity'] = encoder.fit_transform(\n",
    "    X_test[['ocean_proximity']])"
   ]
  },
  {
   "cell_type": "markdown",
   "metadata": {},
   "source": [
    "## Optimize our Models with Grid Search\n",
    "https://scikit-learn.org/stable/modules/generated/sklearn.model_selection.GridSearchCV.html"
   ]
  },
  {
   "cell_type": "markdown",
   "metadata": {},
   "source": [
    "The function below performs a grid search. To use it, we will define the parameters (including the type of model we wish to optimize)."
   ]
  },
  {
   "cell_type": "code",
   "execution_count": 9,
   "metadata": {},
   "outputs": [],
   "source": [
    "def perform_grid_search(parameters):\n",
    "    results = {}\n",
    "    for name, setup in parameters.items():\n",
    "        grid_search = GridSearchCV(\n",
    "            setup['model'],\n",
    "            setup['params'],\n",
    "            cv=3,\n",
    "            scoring='neg_mean_squared_error',\n",
    "            n_jobs=-1)\n",
    "\n",
    "        grid_search.fit(X_train, y_train)\n",
    "\n",
    "        results[name] = {\n",
    "            'best_score': grid_search.best_score_,\n",
    "            'best_params': grid_search.best_params_}\n",
    "    return results\n",
    "\n",
    "\n",
    "# An example of the parameters sent to the function:\n",
    "# random_forest_params = {\n",
    "#     'RandomForest': {\n",
    "#         'model': RandomForestRegressor(random_state=42),\n",
    "#         'params': {\n",
    "#             'n_estimators': [10, 100, 400],\n",
    "#             'max_features': [None, 'sqrt', 'log2']\n",
    "#         }\n",
    "#     }\n",
    "# }"
   ]
  },
  {
   "cell_type": "markdown",
   "metadata": {},
   "source": [
    "### Sidebar: k-Fold Cross-Validation\n",
    "You may have noticed the cv=3 argument to GridSearchCV. This refers to \"cross-validation\".\n",
    "\n",
    "k-Fold Cross-Validation is a technique used to evaluate how well a machine learning model will perform on unseen data. Instead of splitting the data into just one training set and one test set, k-fold cross-validation splits the data into k equal-sized parts called folds.\n",
    "\n",
    "1. The dataset is shuffled (optional, but usually recommended) to make sure the data is randomly ordered.\n",
    "2. The data is then split into k folds (for example, if k=3, you split the data into 3 parts of roughly equal size).\n",
    "3. The model is trained k times — each time using k-1 folds for training and the remaining fold for validation.\n",
    "4. Each fold gets a turn to be the validation set exactly once.\n",
    "5. At the end, you calculate the average performance across all k runs to get a more reliable estimate of how the model performs.\n",
    "\n",
    "\n",
    "#### Example (k=3)\n",
    "\n",
    "| Fold # | Training Folds | Validation Fold |\n",
    "|---|---|---|\n",
    "| 1 | Folds 2, 3 | Fold 1 |\n",
    "| 2 | Folds 1, 3 | Fold 2 |\n",
    "| 3 | Folds 1, 2 | Fold 3 |\n",
    "\n",
    "\n",
    "\n",
    "#### Why Use k-Fold Cross-Validation?\n",
    "\n",
    "- It makes better use of your data — instead of losing data to a fixed validation set, every data point gets used for both training and validation.\n",
    "- It gives a more reliable estimate of performance, because you're testing on multiple different slices of the data.\n",
    "- It helps you detect overfitting — if the model does great on some folds but poorly on others, that's a sign the model might be too sensitive to the training data.\n",
    "\n",
    "#### k-Fold for Regression vs Classification\n",
    "\n",
    "- For regression, you can split the data into k regular folds (each fold gets a roughly equal number of samples).\n",
    "- For classification, you might want to use Stratified k-Fold. This ensures that each fold contains roughly the same proportion of each class (important if your classes are imbalanced)."
   ]
  },
  {
   "cell_type": "markdown",
   "metadata": {},
   "source": [
    "### Decision Tree"
   ]
  },
  {
   "cell_type": "code",
   "execution_count": 10,
   "metadata": {},
   "outputs": [],
   "source": [
    "decision_tree_params = {\n",
    "    'DecisionTree': {\n",
    "        'model': DecisionTreeRegressor(random_state=42),\n",
    "        'params': {\n",
    "            'criterion': ['squared_error', 'friedman_mse', 'absolute_error', 'poisson'],\n",
    "            #'splitter': ['best', 'random'],\n",
    "            'max_depth': [None, 10],\n",
    "            'min_samples_split': [2, 3],\n",
    "            'min_samples_leaf': [1, 14, 20],\n",
    "            'min_weight_fraction_leaf': [0.0, 0.01],\n",
    "            'max_features': [None, 'sqrt', 'log2'],\n",
    "            'max_leaf_nodes': [None, 100, 150],\n",
    "            'min_impurity_decrease': [0.0, 0.01],\n",
    "            'ccp_alpha': [0.0, 0.01, 0.02]\n",
    "        }\n",
    "    }\n",
    "}"
   ]
  },
  {
   "cell_type": "code",
   "execution_count": 11,
   "metadata": {},
   "outputs": [
    {
     "data": {
      "text/plain": [
       "{'DecisionTree': {'best_score': -3427705884.6115246,\n",
       "  'best_params': {'ccp_alpha': 0.0,\n",
       "   'criterion': 'poisson',\n",
       "   'max_depth': None,\n",
       "   'max_features': None,\n",
       "   'max_leaf_nodes': None,\n",
       "   'min_impurity_decrease': 0.01,\n",
       "   'min_samples_leaf': 14,\n",
       "   'min_samples_split': 2,\n",
       "   'min_weight_fraction_leaf': 0.0}}}"
      ]
     },
     "execution_count": 11,
     "metadata": {},
     "output_type": "execute_result"
    }
   ],
   "source": [
    "perform_grid_search(decision_tree_params)"
   ]
  },
  {
   "cell_type": "markdown",
   "metadata": {},
   "source": [
    "### Random Forest"
   ]
  },
  {
   "cell_type": "code",
   "execution_count": 12,
   "metadata": {},
   "outputs": [],
   "source": [
    "random_forest_params = {\n",
    "    'RandomForest': {\n",
    "        'model': RandomForestRegressor(random_state=42),\n",
    "        'params': {\n",
    "            'n_estimators': [10, 100, 400],\n",
    "            'max_features': [None, 'sqrt', 'log2']\n",
    "        }\n",
    "    }\n",
    "}"
   ]
  },
  {
   "cell_type": "code",
   "execution_count": 13,
   "metadata": {},
   "outputs": [
    {
     "data": {
      "text/plain": [
       "{'RandomForest': {'best_score': -2573219444.0531,\n",
       "  'best_params': {'max_features': 'sqrt', 'n_estimators': 400}}}"
      ]
     },
     "execution_count": 13,
     "metadata": {},
     "output_type": "execute_result"
    }
   ],
   "source": [
    "perform_grid_search(random_forest_params)"
   ]
  },
  {
   "cell_type": "markdown",
   "metadata": {},
   "source": [
    "### Gradient Boosting"
   ]
  },
  {
   "cell_type": "code",
   "execution_count": 14,
   "metadata": {},
   "outputs": [],
   "source": [
    "gradient_boosting_params = {\n",
    "    'HistGradientBoosting': {\n",
    "        'model': HistGradientBoostingRegressor(random_state=42),\n",
    "        'params': {\n",
    "            'max_iter': [50, 100, 150],\n",
    "            'learning_rate': [0.01, 0.1, 0.2]\n",
    "        }\n",
    "    }\n",
    "}"
   ]
  },
  {
   "cell_type": "code",
   "execution_count": 15,
   "metadata": {},
   "outputs": [
    {
     "data": {
      "text/plain": [
       "{'HistGradientBoosting': {'best_score': -2300070904.601216,\n",
       "  'best_params': {'learning_rate': 0.2, 'max_iter': 150}}}"
      ]
     },
     "execution_count": 15,
     "metadata": {},
     "output_type": "execute_result"
    }
   ],
   "source": [
    "perform_grid_search(gradient_boosting_params)"
   ]
  },
  {
   "cell_type": "markdown",
   "metadata": {},
   "source": [
    "### XGBoost"
   ]
  },
  {
   "cell_type": "code",
   "execution_count": null,
   "metadata": {},
   "outputs": [],
   "source": [
    "xgboost_params = {\n",
    "    'XGBoost': {\n",
    "        'model': xgb.XGBRegressor(random_state=42, device='cuda'),\n",
    "        'params': {\n",
    "            'n_estimators': [100, 200, 300],\n",
    "            'learning_rate': [0.01, 0.1, 0.2],\n",
    "            'max_depth': [3, 6, 9],\n",
    "            'subsample': [0.5, 0.7, 1.0],\n",
    "            'colsample_bytree': [0.5, 0.7, 1.0]\n",
    "        }\n",
    "    }\n",
    "}"
   ]
  },
  {
   "cell_type": "code",
   "execution_count": 25,
   "metadata": {},
   "outputs": [
    {
     "data": {
      "text/plain": [
       "{'XGBoost': {'best_score': -2265082406.696934,\n",
       "  'best_params': {'colsample_bytree': 1.0,\n",
       "   'learning_rate': 0.1,\n",
       "   'max_depth': 6,\n",
       "   'n_estimators': 300,\n",
       "   'subsample': 0.7}}}"
      ]
     },
     "execution_count": 25,
     "metadata": {},
     "output_type": "execute_result"
    }
   ],
   "source": [
    "perform_grid_search(xgboost_params)"
   ]
  },
  {
   "cell_type": "markdown",
   "metadata": {},
   "source": [
    "## Build and Evaluate Models Using Optimized Hyperparameters"
   ]
  },
  {
   "cell_type": "code",
   "execution_count": 18,
   "metadata": {},
   "outputs": [],
   "source": [
    "from sklearn.metrics import mean_squared_error, r2_score"
   ]
  },
  {
   "cell_type": "markdown",
   "metadata": {},
   "source": [
    "### Decision tree\n",
    "\n",
    "Best parameters from grid search:\n",
    "'ccp_alpha': 0.0, 'criterion': 'poisson', 'max_depth': None, 'max_features': None, 'max_leaf_nodes': None, 'min_impurity_decrease': 0.01, 'min_samples_leaf': 14, 'min_samples_split': 2, 'min_weight_fraction_leaf': 0.0"
   ]
  },
  {
   "cell_type": "code",
   "execution_count": 19,
   "metadata": {},
   "outputs": [
    {
     "name": "stdout",
     "output_type": "stream",
     "text": [
      "Decision Tree MSE: 3152051207.5525823\n",
      "Decision Treet R² Score: 0.7635535831938253\n"
     ]
    }
   ],
   "source": [
    "tree_regressor = DecisionTreeRegressor(\n",
    "    ccp_alpha=0.0, \n",
    "    criterion='poisson',\n",
    "    max_depth=None,\n",
    "    max_features=None,\n",
    "    max_leaf_nodes=None,\n",
    "    min_impurity_decrease=0.01,\n",
    "    min_samples_leaf=14,\n",
    "    min_samples_split=2,\n",
    "    min_weight_fraction_leaf=0.0,\n",
    "    random_state=42)\n",
    "\n",
    "tree_regressor.fit(X_train, y_train)\n",
    "\n",
    "y_pred_tree = tree_regressor.predict(X_test)\n",
    "\n",
    "mse_tree = mean_squared_error(y_test, y_pred_tree)\n",
    "r2_tree = r2_score(y_test, y_pred_tree)\n",
    "\n",
    "print(\"Decision Tree MSE:\", mse_tree)\n",
    "print(\"Decision Treet R² Score:\", r2_tree)"
   ]
  },
  {
   "cell_type": "markdown",
   "metadata": {},
   "source": [
    " ### Random forest\n",
    " Best parameters from grid search: 'max_features': 'sqrt', 'n_estimators': 400"
   ]
  },
  {
   "cell_type": "code",
   "execution_count": 20,
   "metadata": {},
   "outputs": [
    {
     "name": "stdout",
     "output_type": "stream",
     "text": [
      "Random Forest MSE: 2371179840.1664042\n",
      "Random Forest R² Score: 0.8221294833450031\n"
     ]
    }
   ],
   "source": [
    "forest_regressor = RandomForestRegressor(\n",
    "    max_features='sqrt',\n",
    "    n_estimators=400,\n",
    "    random_state=42)\n",
    "\n",
    "forest_regressor.fit(X_train, y_train)\n",
    "\n",
    "y_pred_forest = forest_regressor.predict(X_test)\n",
    "\n",
    "mse_forest = mean_squared_error(y_test, y_pred_forest)\n",
    "r2_forest = r2_score(y_test, y_pred_forest)\n",
    "\n",
    "print(\"Random Forest MSE:\", mse_forest)\n",
    "print(\"Random Forest R² Score:\", r2_forest)"
   ]
  },
  {
   "cell_type": "markdown",
   "metadata": {},
   "source": [
    "### Gradient boosting\n",
    "Best parameters from grid search: 'learning_rate': 0.2, 'max_iter': 150"
   ]
  },
  {
   "cell_type": "code",
   "execution_count": 21,
   "metadata": {},
   "outputs": [
    {
     "name": "stdout",
     "output_type": "stream",
     "text": [
      "HistGradientBoostingRegressor MSE: 2165946320.011851\n",
      "HistGradientBoostingRegressor R²: 0.8375247695423809\n"
     ]
    }
   ],
   "source": [
    "hist_regressor = HistGradientBoostingRegressor(\n",
    "    learning_rate=0.2,\n",
    "    max_iter=150,\n",
    "    random_state=42)\n",
    "\n",
    "hist_regressor.fit(X_train, y_train)\n",
    "\n",
    "y_pred_hist = hist_regressor.predict(X_test)\n",
    "\n",
    "mse_hist = mean_squared_error(y_test, y_pred_hist)\n",
    "r2_hist = r2_score(y_test, y_pred_hist)\n",
    "\n",
    "print(\"HistGradientBoostingRegressor MSE:\", mse_hist)\n",
    "print(\"HistGradientBoostingRegressor R²:\", r2_hist)"
   ]
  },
  {
   "cell_type": "markdown",
   "metadata": {},
   "source": [
    "### XGBoost\n",
    "Best parameters from grid search: 'colsample_bytree': 1.0, 'learning_rate': 0.1, 'max_depth': 6, 'n_estimators': 300, 'subsample': 0.7"
   ]
  },
  {
   "cell_type": "code",
   "execution_count": 22,
   "metadata": {},
   "outputs": [
    {
     "name": "stdout",
     "output_type": "stream",
     "text": [
      "XGBoost MSE: 2124919474.2667944\n",
      "XGBoost R² Score: 0.8406023371421821\n"
     ]
    }
   ],
   "source": [
    "xgb_reg = xgb.XGBRegressor(\n",
    "    colsample_bytree=1.0,\n",
    "    learning_rate=0.1,\n",
    "    max_depth=6,\n",
    "    n_estimators=300,\n",
    "    subsample=0.7,\n",
    "    seed=42)\n",
    "\n",
    "xgb_reg.fit(X_train, y_train)\n",
    "\n",
    "y_pred_xgb = xgb_reg.predict(X_test)\n",
    "\n",
    "mse_xgb = mean_squared_error(y_test, y_pred_xgb)\n",
    "r2_xgb = r2_score(y_test, y_pred_xgb)\n",
    "\n",
    "print(\"XGBoost MSE:\", mse_xgb)\n",
    "print(\"XGBoost R² Score:\", r2_xgb)"
   ]
  },
  {
   "cell_type": "markdown",
   "metadata": {},
   "source": [
    "# Activities"
   ]
  },
  {
   "cell_type": "markdown",
   "metadata": {},
   "source": [
    "## Perform a Grid Search\n",
    "Compare the results of using grid search to tune hyperparameters with the results of the corresponding models in the housing_prices.ipynb notebook. Did we improve on the results for all classifiers?\n",
    "\n",
    "Where we got worse results, this suggests that we didn't configure our search to explore thoroughly enough. Examine the hyperparameters for each model type and use those to prepare a more thorough hyperparameter optimization.\n",
    " - https://scikit-learn.org/stable/modules/generated/sklearn.tree.DecisionTreeRegressor.html\n",
    " - https://scikit-learn.org/stable/modules/generated/sklearn.ensemble.RandomForestRegressor.html\n",
    " - https://scikit-learn.org/stable/modules/generated/sklearn.ensemble.HistGradientBoostingRegressor.html\n",
    " - https://xgboost.readthedocs.io/en/stable/python/python_api.html\n",
    " - https://scikit-learn.org/stable/modules/generated/sklearn.ensemble.AdaBoostRegressor.html\n",
    "\n",
    "Experiment with hyperparameter optimization and compare your results with the default regressors we used in the ensemble methods session (housing_prices.ipynb).\n",
    "\n",
    "__CAUTION__: The goal is to get familiar with hyperparameter tuning, not to use electricity for hours and hours training models. It is easy to get carried away!"
   ]
  },
  {
   "cell_type": "markdown",
   "metadata": {},
   "source": [
    "## Activity: Examine Other Solutions\n",
    "Examine the solutions that other people have developed for the California Housing Prices dataset with a view to understanding how they have tried to improve their models. For example, user OMARAYMANATIA achieves an MSE of 48911 at https://www.kaggle.com/code/omaraymanatia/california-housing-prices-prediction.\n",
    "\n",
    "Kaggle conveniently shows you the rating of users (OMARAYMANATIA is a rated Kaggle Expert because of his notebooks) so we can focus on the work of the more experienced Kaggle users.\n",
    "\n",
    "From your explorations, compile a list of questions and ideas to try. Sort these by priority, taking into account how much work is involved (effort) and estimated likely payoff (value). Low-effort high-value actions are a great place to continue building your knowledge and skills. What list did you come up with?\n",
    "\n"
   ]
  },
  {
   "cell_type": "markdown",
   "metadata": {},
   "source": [
    "## Optional Activity: Experiment with Other Optimizers \n",
    "Scikit-learn has other hyperparameter optimizers and there are other optimization libraries. You may find that you get better results more quickly with those. For example, the Optuna code below found a set of hyperparameter values in just over 30 seconds that were as good as the ones that took GridSearch over 12 minutes to find. See https://optuna.org/ and for more information."
   ]
  },
  {
   "cell_type": "code",
   "execution_count": 23,
   "metadata": {},
   "outputs": [],
   "source": [
    "import optuna  # Optuna needs to be installed first\n",
    "from sklearn.model_selection import cross_val_score"
   ]
  },
  {
   "cell_type": "code",
   "execution_count": 26,
   "metadata": {},
   "outputs": [
    {
     "name": "stderr",
     "output_type": "stream",
     "text": [
      "[I 2025-09-19 09:48:55,969] A new study created in memory with name: no-name-5a9e263a-0d7d-47f4-bff6-19d73680538d\n",
      "[I 2025-09-19 09:48:56,184] Trial 0 finished with value: 2405925680.657123 and parameters: {'criterion': 'friedman_mse', 'max_depth': None, 'min_samples_split': 3, 'min_samples_leaf': 1, 'min_weight_fraction_leaf': 0.009369979257923813, 'max_features': None, 'max_leaf_nodes': None, 'min_impurity_decrease': 0.0014515836819523943, 'ccp_alpha': 0.0035932150331431734}. Best is trial 0 with value: 2405925680.657123.\n",
      "[I 2025-09-19 09:48:56,377] Trial 1 finished with value: 2405925680.657123 and parameters: {'criterion': 'absolute_error', 'max_depth': None, 'min_samples_split': 3, 'min_samples_leaf': 20, 'min_weight_fraction_leaf': 0.00985795755477586, 'max_features': 'sqrt', 'max_leaf_nodes': 100, 'min_impurity_decrease': 0.0053657743681687535, 'ccp_alpha': 0.0066186047010684135}. Best is trial 0 with value: 2405925680.657123.\n",
      "[I 2025-09-19 09:48:56,570] Trial 2 finished with value: 2405925680.657123 and parameters: {'criterion': 'poisson', 'max_depth': None, 'min_samples_split': 3, 'min_samples_leaf': 14, 'min_weight_fraction_leaf': 0.0051113444566270785, 'max_features': 'sqrt', 'max_leaf_nodes': 100, 'min_impurity_decrease': 0.0020328896018367336, 'ccp_alpha': 0.0062119665239046265}. Best is trial 0 with value: 2405925680.657123.\n",
      "[I 2025-09-19 09:48:57,631] Trial 3 finished with value: 2567891666.9600487 and parameters: {'criterion': 'squared_error', 'max_depth': 10, 'min_samples_split': 2, 'min_samples_leaf': 20, 'min_weight_fraction_leaf': 0.002592351393859439, 'max_features': None, 'max_leaf_nodes': 100, 'min_impurity_decrease': 0.006336681753466257, 'ccp_alpha': 0.017112129588587554}. Best is trial 0 with value: 2405925680.657123.\n",
      "[I 2025-09-19 09:48:58,667] Trial 4 finished with value: 2567891666.9600487 and parameters: {'criterion': 'squared_error', 'max_depth': 10, 'min_samples_split': 2, 'min_samples_leaf': 20, 'min_weight_fraction_leaf': 0.0019141598268535187, 'max_features': 'sqrt', 'max_leaf_nodes': 100, 'min_impurity_decrease': 0.002977291353145367, 'ccp_alpha': 0.007526894942630893}. Best is trial 0 with value: 2405925680.657123.\n",
      "[I 2025-09-19 09:48:58,890] Trial 5 finished with value: 2405925680.657123 and parameters: {'criterion': 'squared_error', 'max_depth': None, 'min_samples_split': 3, 'min_samples_leaf': 14, 'min_weight_fraction_leaf': 0.007022380006512496, 'max_features': None, 'max_leaf_nodes': 150, 'min_impurity_decrease': 0.005373332276774103, 'ccp_alpha': 0.002391063823608912}. Best is trial 0 with value: 2405925680.657123.\n",
      "[I 2025-09-19 09:48:59,869] Trial 6 finished with value: 2567891666.9600487 and parameters: {'criterion': 'squared_error', 'max_depth': 10, 'min_samples_split': 2, 'min_samples_leaf': 20, 'min_weight_fraction_leaf': 0.005630982107398628, 'max_features': None, 'max_leaf_nodes': None, 'min_impurity_decrease': 0.005251724645687909, 'ccp_alpha': 0.004621700099105566}. Best is trial 0 with value: 2405925680.657123.\n",
      "[I 2025-09-19 09:49:00,063] Trial 7 finished with value: 2405925680.657123 and parameters: {'criterion': 'absolute_error', 'max_depth': None, 'min_samples_split': 2, 'min_samples_leaf': 14, 'min_weight_fraction_leaf': 0.0022209560411899742, 'max_features': None, 'max_leaf_nodes': None, 'min_impurity_decrease': 0.004743588630313174, 'ccp_alpha': 0.001604738286360501}. Best is trial 0 with value: 2405925680.657123.\n",
      "[I 2025-09-19 09:49:00,257] Trial 8 finished with value: 2405925680.657123 and parameters: {'criterion': 'friedman_mse', 'max_depth': None, 'min_samples_split': 2, 'min_samples_leaf': 14, 'min_weight_fraction_leaf': 0.0031949642517812393, 'max_features': 'sqrt', 'max_leaf_nodes': 150, 'min_impurity_decrease': 0.0037171926026784165, 'ccp_alpha': 0.0002588476192411382}. Best is trial 0 with value: 2405925680.657123.\n",
      "[I 2025-09-19 09:49:00,451] Trial 9 finished with value: 2405925680.657123 and parameters: {'criterion': 'poisson', 'max_depth': None, 'min_samples_split': 2, 'min_samples_leaf': 20, 'min_weight_fraction_leaf': 0.0011868530958551616, 'max_features': 'log2', 'max_leaf_nodes': 150, 'min_impurity_decrease': 0.007782330575430537, 'ccp_alpha': 0.0021593163250255287}. Best is trial 0 with value: 2405925680.657123.\n",
      "[I 2025-09-19 09:49:01,464] Trial 10 finished with value: 2567891666.9600487 and parameters: {'criterion': 'friedman_mse', 'max_depth': 10, 'min_samples_split': 3, 'min_samples_leaf': 1, 'min_weight_fraction_leaf': 0.009812330785731268, 'max_features': 'log2', 'max_leaf_nodes': None, 'min_impurity_decrease': 0.00014805188356014493, 'ccp_alpha': 0.012729430650281103}. Best is trial 0 with value: 2405925680.657123.\n",
      "[I 2025-09-19 09:49:01,691] Trial 11 finished with value: 2405925680.657123 and parameters: {'criterion': 'absolute_error', 'max_depth': None, 'min_samples_split': 3, 'min_samples_leaf': 1, 'min_weight_fraction_leaf': 0.009743549458463556, 'max_features': 'sqrt', 'max_leaf_nodes': None, 'min_impurity_decrease': 0.009690360469589442, 'ccp_alpha': 0.011686456856576592}. Best is trial 0 with value: 2405925680.657123.\n",
      "[I 2025-09-19 09:49:01,896] Trial 12 finished with value: 2405925680.657123 and parameters: {'criterion': 'absolute_error', 'max_depth': None, 'min_samples_split': 3, 'min_samples_leaf': 1, 'min_weight_fraction_leaf': 0.007975699494209386, 'max_features': None, 'max_leaf_nodes': 100, 'min_impurity_decrease': 0.0006022139774597469, 'ccp_alpha': 0.00866138134341736}. Best is trial 0 with value: 2405925680.657123.\n",
      "[I 2025-09-19 09:49:02,111] Trial 13 finished with value: 2405925680.657123 and parameters: {'criterion': 'friedman_mse', 'max_depth': None, 'min_samples_split': 3, 'min_samples_leaf': 1, 'min_weight_fraction_leaf': 0.008115208575598366, 'max_features': 'sqrt', 'max_leaf_nodes': 100, 'min_impurity_decrease': 0.007379696965304902, 'ccp_alpha': 0.005016425241466779}. Best is trial 0 with value: 2405925680.657123.\n",
      "[I 2025-09-19 09:49:02,319] Trial 14 finished with value: 2405925680.657123 and parameters: {'criterion': 'friedman_mse', 'max_depth': None, 'min_samples_split': 3, 'min_samples_leaf': 20, 'min_weight_fraction_leaf': 0.008537201843642308, 'max_features': 'log2', 'max_leaf_nodes': None, 'min_impurity_decrease': 0.0019311125171456566, 'ccp_alpha': 0.011006598433642888}. Best is trial 0 with value: 2405925680.657123.\n",
      "[I 2025-09-19 09:49:02,533] Trial 15 finished with value: 2405925680.657123 and parameters: {'criterion': 'absolute_error', 'max_depth': None, 'min_samples_split': 3, 'min_samples_leaf': 1, 'min_weight_fraction_leaf': 0.006365778644475425, 'max_features': None, 'max_leaf_nodes': 100, 'min_impurity_decrease': 0.0036721606212118223, 'ccp_alpha': 0.014752855101448064}. Best is trial 0 with value: 2405925680.657123.\n",
      "[I 2025-09-19 09:49:02,738] Trial 16 finished with value: 2405925680.657123 and parameters: {'criterion': 'absolute_error', 'max_depth': None, 'min_samples_split': 3, 'min_samples_leaf': 20, 'min_weight_fraction_leaf': 0.0043025062227545026, 'max_features': 'sqrt', 'max_leaf_nodes': None, 'min_impurity_decrease': 0.0015809885585722585, 'ccp_alpha': 0.004397251889610937}. Best is trial 0 with value: 2405925680.657123.\n",
      "[I 2025-09-19 09:49:02,946] Trial 17 finished with value: 2405925680.657123 and parameters: {'criterion': 'friedman_mse', 'max_depth': None, 'min_samples_split': 3, 'min_samples_leaf': 1, 'min_weight_fraction_leaf': 0.008892182539559548, 'max_features': 'sqrt', 'max_leaf_nodes': None, 'min_impurity_decrease': 0.006881071584495956, 'ccp_alpha': 0.009040473659300184}. Best is trial 0 with value: 2405925680.657123.\n",
      "[I 2025-09-19 09:49:03,952] Trial 18 finished with value: 2567891666.9600487 and parameters: {'criterion': 'poisson', 'max_depth': 10, 'min_samples_split': 3, 'min_samples_leaf': 20, 'min_weight_fraction_leaf': 0.007287785203697992, 'max_features': None, 'max_leaf_nodes': 100, 'min_impurity_decrease': 0.008772835537213353, 'ccp_alpha': 0.006545818831402408}. Best is trial 0 with value: 2405925680.657123.\n",
      "[I 2025-09-19 09:49:04,159] Trial 19 finished with value: 2405925680.657123 and parameters: {'criterion': 'friedman_mse', 'max_depth': None, 'min_samples_split': 3, 'min_samples_leaf': 1, 'min_weight_fraction_leaf': 0.009971849247119866, 'max_features': 'log2', 'max_leaf_nodes': 150, 'min_impurity_decrease': 0.004323944448648521, 'ccp_alpha': 0.019955422098578243}. Best is trial 0 with value: 2405925680.657123.\n",
      "[I 2025-09-19 09:49:04,367] Trial 20 finished with value: 2405925680.657123 and parameters: {'criterion': 'absolute_error', 'max_depth': None, 'min_samples_split': 3, 'min_samples_leaf': 20, 'min_weight_fraction_leaf': 0.003967341403589456, 'max_features': None, 'max_leaf_nodes': 100, 'min_impurity_decrease': 0.0029051757718187607, 'ccp_alpha': 0.003612914104199898}. Best is trial 0 with value: 2405925680.657123.\n",
      "[I 2025-09-19 09:49:04,574] Trial 21 finished with value: 2405925680.657123 and parameters: {'criterion': 'poisson', 'max_depth': None, 'min_samples_split': 3, 'min_samples_leaf': 14, 'min_weight_fraction_leaf': 0.0003369382258059661, 'max_features': 'sqrt', 'max_leaf_nodes': 100, 'min_impurity_decrease': 0.0015559985567386583, 'ccp_alpha': 0.0062852051012236634}. Best is trial 0 with value: 2405925680.657123.\n",
      "[I 2025-09-19 09:49:04,770] Trial 22 finished with value: 2405925680.657123 and parameters: {'criterion': 'poisson', 'max_depth': None, 'min_samples_split': 3, 'min_samples_leaf': 14, 'min_weight_fraction_leaf': 0.005480423917611983, 'max_features': 'sqrt', 'max_leaf_nodes': 100, 'min_impurity_decrease': 0.0025751266239523326, 'ccp_alpha': 0.0065966733728132065}. Best is trial 0 with value: 2405925680.657123.\n",
      "[I 2025-09-19 09:49:04,977] Trial 23 finished with value: 2405925680.657123 and parameters: {'criterion': 'poisson', 'max_depth': None, 'min_samples_split': 3, 'min_samples_leaf': 14, 'min_weight_fraction_leaf': 0.009058297955143095, 'max_features': 'sqrt', 'max_leaf_nodes': 100, 'min_impurity_decrease': 0.0012185305684869817, 'ccp_alpha': 0.009612280997154624}. Best is trial 0 with value: 2405925680.657123.\n",
      "[I 2025-09-19 09:49:05,185] Trial 24 finished with value: 2405925680.657123 and parameters: {'criterion': 'poisson', 'max_depth': None, 'min_samples_split': 3, 'min_samples_leaf': 14, 'min_weight_fraction_leaf': 0.007075998200486142, 'max_features': 'sqrt', 'max_leaf_nodes': 100, 'min_impurity_decrease': 0.006180963104492939, 'ccp_alpha': 0.007801711514786848}. Best is trial 0 with value: 2405925680.657123.\n",
      "[I 2025-09-19 09:49:05,394] Trial 25 finished with value: 2405925680.657123 and parameters: {'criterion': 'poisson', 'max_depth': None, 'min_samples_split': 3, 'min_samples_leaf': 14, 'min_weight_fraction_leaf': 0.006258475388908553, 'max_features': 'sqrt', 'max_leaf_nodes': None, 'min_impurity_decrease': 0.002341102023109191, 'ccp_alpha': 0.0001670506908481536}. Best is trial 0 with value: 2405925680.657123.\n",
      "[I 2025-09-19 09:49:06,412] Trial 26 finished with value: 2567891666.9600487 and parameters: {'criterion': 'absolute_error', 'max_depth': 10, 'min_samples_split': 3, 'min_samples_leaf': 1, 'min_weight_fraction_leaf': 0.004721072271183965, 'max_features': 'sqrt', 'max_leaf_nodes': 100, 'min_impurity_decrease': 0.0036785169064276497, 'ccp_alpha': 0.005551966797383857}. Best is trial 0 with value: 2405925680.657123.\n",
      "[I 2025-09-19 09:49:06,617] Trial 27 finished with value: 2405925680.657123 and parameters: {'criterion': 'friedman_mse', 'max_depth': None, 'min_samples_split': 3, 'min_samples_leaf': 14, 'min_weight_fraction_leaf': 0.00787306665081942, 'max_features': 'sqrt', 'max_leaf_nodes': 100, 'min_impurity_decrease': 0.0006948895598230594, 'ccp_alpha': 0.0028309983115108774}. Best is trial 0 with value: 2405925680.657123.\n",
      "[I 2025-09-19 09:49:06,833] Trial 28 finished with value: 2405925680.657123 and parameters: {'criterion': 'friedman_mse', 'max_depth': None, 'min_samples_split': 3, 'min_samples_leaf': 20, 'min_weight_fraction_leaf': 0.009061179368686063, 'max_features': 'log2', 'max_leaf_nodes': 150, 'min_impurity_decrease': 0.005846683647103245, 'ccp_alpha': 0.0035586501164406423}. Best is trial 0 with value: 2405925680.657123.\n",
      "[I 2025-09-19 09:49:07,852] Trial 29 finished with value: 2567891666.9600487 and parameters: {'criterion': 'squared_error', 'max_depth': 10, 'min_samples_split': 2, 'min_samples_leaf': 1, 'min_weight_fraction_leaf': 0.003797568074233786, 'max_features': None, 'max_leaf_nodes': None, 'min_impurity_decrease': 0.004288106039228187, 'ccp_alpha': 0.014452338353474996}. Best is trial 0 with value: 2405925680.657123.\n",
      "[I 2025-09-19 09:49:08,067] Trial 30 finished with value: 2405925680.657123 and parameters: {'criterion': 'absolute_error', 'max_depth': None, 'min_samples_split': 3, 'min_samples_leaf': 20, 'min_weight_fraction_leaf': 0.009337914074152074, 'max_features': None, 'max_leaf_nodes': 100, 'min_impurity_decrease': 8.921997356623607e-05, 'ccp_alpha': 0.010687426326286179}. Best is trial 0 with value: 2405925680.657123.\n",
      "[I 2025-09-19 09:49:08,275] Trial 31 finished with value: 2405925680.657123 and parameters: {'criterion': 'squared_error', 'max_depth': None, 'min_samples_split': 3, 'min_samples_leaf': 14, 'min_weight_fraction_leaf': 0.0071432937704581576, 'max_features': None, 'max_leaf_nodes': 150, 'min_impurity_decrease': 0.005426859077468601, 'ccp_alpha': 0.003518989749144473}. Best is trial 0 with value: 2405925680.657123.\n",
      "[I 2025-09-19 09:49:08,490] Trial 32 finished with value: 2405925680.657123 and parameters: {'criterion': 'squared_error', 'max_depth': None, 'min_samples_split': 3, 'min_samples_leaf': 14, 'min_weight_fraction_leaf': 0.006336864171574541, 'max_features': None, 'max_leaf_nodes': 150, 'min_impurity_decrease': 0.006500742853109332, 'ccp_alpha': 0.0014765831095152296}. Best is trial 0 with value: 2405925680.657123.\n",
      "[I 2025-09-19 09:49:08,700] Trial 33 finished with value: 2405925680.657123 and parameters: {'criterion': 'squared_error', 'max_depth': None, 'min_samples_split': 3, 'min_samples_leaf': 14, 'min_weight_fraction_leaf': 0.005539897607046742, 'max_features': None, 'max_leaf_nodes': 150, 'min_impurity_decrease': 0.005581613127591691, 'ccp_alpha': 0.007750461136964631}. Best is trial 0 with value: 2405925680.657123.\n",
      "[I 2025-09-19 09:49:09,724] Trial 34 finished with value: 2567891666.9600487 and parameters: {'criterion': 'squared_error', 'max_depth': 10, 'min_samples_split': 2, 'min_samples_leaf': 14, 'min_weight_fraction_leaf': 0.0074630206953959725, 'max_features': None, 'max_leaf_nodes': 150, 'min_impurity_decrease': 0.00463573685162945, 'ccp_alpha': 0.005116578196377812}. Best is trial 0 with value: 2405925680.657123.\n",
      "[I 2025-09-19 09:49:09,928] Trial 35 finished with value: 2405925680.657123 and parameters: {'criterion': 'squared_error', 'max_depth': None, 'min_samples_split': 3, 'min_samples_leaf': 14, 'min_weight_fraction_leaf': 0.008464726915419038, 'max_features': None, 'max_leaf_nodes': 150, 'min_impurity_decrease': 0.0031167744912344846, 'ccp_alpha': 0.0014830999708057842}. Best is trial 0 with value: 2405925680.657123.\n",
      "[I 2025-09-19 09:49:10,146] Trial 36 finished with value: 2405925680.657123 and parameters: {'criterion': 'squared_error', 'max_depth': None, 'min_samples_split': 2, 'min_samples_leaf': 20, 'min_weight_fraction_leaf': 0.00502619588498839, 'max_features': 'sqrt', 'max_leaf_nodes': None, 'min_impurity_decrease': 0.005201250154245531, 'ccp_alpha': 0.005999815841545512}. Best is trial 0 with value: 2405925680.657123.\n",
      "[I 2025-09-19 09:49:11,131] Trial 37 finished with value: 2567891666.9600487 and parameters: {'criterion': 'poisson', 'max_depth': 10, 'min_samples_split': 3, 'min_samples_leaf': 14, 'min_weight_fraction_leaf': 0.006835954750379144, 'max_features': None, 'max_leaf_nodes': 100, 'min_impurity_decrease': 0.0033082686894234277, 'ccp_alpha': 0.0022965108893477516}. Best is trial 0 with value: 2405925680.657123.\n",
      "[I 2025-09-19 09:49:11,339] Trial 38 finished with value: 2405925680.657123 and parameters: {'criterion': 'absolute_error', 'max_depth': None, 'min_samples_split': 2, 'min_samples_leaf': 20, 'min_weight_fraction_leaf': 0.009596825562449951, 'max_features': 'sqrt', 'max_leaf_nodes': 150, 'min_impurity_decrease': 0.007686426905175936, 'ccp_alpha': 0.0073625199028797455}. Best is trial 0 with value: 2405925680.657123.\n",
      "[I 2025-09-19 09:49:11,553] Trial 39 finished with value: 2405925680.657123 and parameters: {'criterion': 'friedman_mse', 'max_depth': None, 'min_samples_split': 3, 'min_samples_leaf': 1, 'min_weight_fraction_leaf': 0.0016276839800679964, 'max_features': 'log2', 'max_leaf_nodes': None, 'min_impurity_decrease': 0.004958347141968754, 'ccp_alpha': 0.004345985050467979}. Best is trial 0 with value: 2405925680.657123.\n",
      "[I 2025-09-19 09:49:11,768] Trial 40 finished with value: 2405925680.657123 and parameters: {'criterion': 'squared_error', 'max_depth': None, 'min_samples_split': 3, 'min_samples_leaf': 14, 'min_weight_fraction_leaf': 0.0029568130724312823, 'max_features': None, 'max_leaf_nodes': 100, 'min_impurity_decrease': 0.004267531202943896, 'ccp_alpha': 0.001145930648521038}. Best is trial 0 with value: 2405925680.657123.\n",
      "[I 2025-09-19 09:49:11,976] Trial 41 finished with value: 2405925680.657123 and parameters: {'criterion': 'absolute_error', 'max_depth': None, 'min_samples_split': 2, 'min_samples_leaf': 14, 'min_weight_fraction_leaf': 0.0032546582739808793, 'max_features': None, 'max_leaf_nodes': None, 'min_impurity_decrease': 0.006773094448786829, 'ccp_alpha': 0.002778536645075343}. Best is trial 0 with value: 2405925680.657123.\n",
      "[I 2025-09-19 09:49:12,195] Trial 42 finished with value: 2405925680.657123 and parameters: {'criterion': 'absolute_error', 'max_depth': None, 'min_samples_split': 2, 'min_samples_leaf': 14, 'min_weight_fraction_leaf': 0.00029907746832106424, 'max_features': None, 'max_leaf_nodes': None, 'min_impurity_decrease': 0.0008461901161260302, 'ccp_alpha': 0.0006431446738782392}. Best is trial 0 with value: 2405925680.657123.\n",
      "[I 2025-09-19 09:49:12,403] Trial 43 finished with value: 2405925680.657123 and parameters: {'criterion': 'absolute_error', 'max_depth': None, 'min_samples_split': 2, 'min_samples_leaf': 14, 'min_weight_fraction_leaf': 0.0026821249625719945, 'max_features': None, 'max_leaf_nodes': None, 'min_impurity_decrease': 0.0022491595880025834, 'ccp_alpha': 0.0020607595359931428}. Best is trial 0 with value: 2405925680.657123.\n",
      "[I 2025-09-19 09:49:12,619] Trial 44 finished with value: 2405925680.657123 and parameters: {'criterion': 'absolute_error', 'max_depth': None, 'min_samples_split': 2, 'min_samples_leaf': 1, 'min_weight_fraction_leaf': 0.0018525918784370729, 'max_features': None, 'max_leaf_nodes': None, 'min_impurity_decrease': 0.0060769761483209705, 'ccp_alpha': 0.0041930932055847985}. Best is trial 0 with value: 2405925680.657123.\n",
      "[I 2025-09-19 09:49:12,837] Trial 45 finished with value: 2405925680.657123 and parameters: {'criterion': 'friedman_mse', 'max_depth': None, 'min_samples_split': 3, 'min_samples_leaf': 20, 'min_weight_fraction_leaf': 0.008438068244134636, 'max_features': 'sqrt', 'max_leaf_nodes': None, 'min_impurity_decrease': 0.004873746980489188, 'ccp_alpha': 0.0029893913406078905}. Best is trial 0 with value: 2405925680.657123.\n",
      "[I 2025-09-19 09:49:13,043] Trial 46 finished with value: 2405925680.657123 and parameters: {'criterion': 'absolute_error', 'max_depth': None, 'min_samples_split': 2, 'min_samples_leaf': 1, 'min_weight_fraction_leaf': 0.0077060658129638, 'max_features': 'log2', 'max_leaf_nodes': None, 'min_impurity_decrease': 0.008247105857566984, 'ccp_alpha': 0.008403988890145002}. Best is trial 0 with value: 2405925680.657123.\n",
      "[I 2025-09-19 09:49:14,051] Trial 47 finished with value: 2567891666.9600487 and parameters: {'criterion': 'poisson', 'max_depth': 10, 'min_samples_split': 3, 'min_samples_leaf': 14, 'min_weight_fraction_leaf': 0.004784554606875068, 'max_features': None, 'max_leaf_nodes': 150, 'min_impurity_decrease': 0.009982535940004696, 'ccp_alpha': 0.004539682474997945}. Best is trial 0 with value: 2405925680.657123.\n",
      "[I 2025-09-19 09:49:14,279] Trial 48 finished with value: 2405925680.657123 and parameters: {'criterion': 'friedman_mse', 'max_depth': None, 'min_samples_split': 3, 'min_samples_leaf': 20, 'min_weight_fraction_leaf': 0.0011183805722994376, 'max_features': 'sqrt', 'max_leaf_nodes': 100, 'min_impurity_decrease': 0.007111558823171424, 'ccp_alpha': 0.0071878283284280515}. Best is trial 0 with value: 2405925680.657123.\n",
      "[I 2025-09-19 09:49:14,488] Trial 49 finished with value: 2405925680.657123 and parameters: {'criterion': 'absolute_error', 'max_depth': None, 'min_samples_split': 3, 'min_samples_leaf': 1, 'min_weight_fraction_leaf': 0.0094102335445492, 'max_features': None, 'max_leaf_nodes': None, 'min_impurity_decrease': 0.003965990004150424, 'ccp_alpha': 0.012431342774144425}. Best is trial 0 with value: 2405925680.657123.\n",
      "[I 2025-09-19 09:49:14,698] Trial 50 finished with value: 2405925680.657123 and parameters: {'criterion': 'poisson', 'max_depth': None, 'min_samples_split': 3, 'min_samples_leaf': 14, 'min_weight_fraction_leaf': 0.009997796630600622, 'max_features': 'sqrt', 'max_leaf_nodes': 100, 'min_impurity_decrease': 0.0017588921099441974, 'ccp_alpha': 0.005432914002445465}. Best is trial 0 with value: 2405925680.657123.\n",
      "[I 2025-09-19 09:49:14,916] Trial 51 finished with value: 2405925680.657123 and parameters: {'criterion': 'friedman_mse', 'max_depth': None, 'min_samples_split': 2, 'min_samples_leaf': 14, 'min_weight_fraction_leaf': 0.003316124188208998, 'max_features': 'sqrt', 'max_leaf_nodes': 150, 'min_impurity_decrease': 0.0034790385575957034, 'ccp_alpha': 0.00021059996552790113}. Best is trial 0 with value: 2405925680.657123.\n",
      "[I 2025-09-19 09:49:15,126] Trial 52 finished with value: 2405925680.657123 and parameters: {'criterion': 'friedman_mse', 'max_depth': None, 'min_samples_split': 2, 'min_samples_leaf': 14, 'min_weight_fraction_leaf': 0.0022719062516245673, 'max_features': 'sqrt', 'max_leaf_nodes': 150, 'min_impurity_decrease': 0.0029159046192240422, 'ccp_alpha': 0.0017063143261666746}. Best is trial 0 with value: 2405925680.657123.\n",
      "[I 2025-09-19 09:49:15,337] Trial 53 finished with value: 2405925680.657123 and parameters: {'criterion': 'friedman_mse', 'max_depth': None, 'min_samples_split': 2, 'min_samples_leaf': 14, 'min_weight_fraction_leaf': 0.001168292177449813, 'max_features': 'sqrt', 'max_leaf_nodes': 150, 'min_impurity_decrease': 0.0010859195546203723, 'ccp_alpha': 0.0005691992282789557}. Best is trial 0 with value: 2405925680.657123.\n",
      "[I 2025-09-19 09:49:15,545] Trial 54 finished with value: 2405925680.657123 and parameters: {'criterion': 'friedman_mse', 'max_depth': None, 'min_samples_split': 2, 'min_samples_leaf': 14, 'min_weight_fraction_leaf': 0.00594081694261301, 'max_features': 'sqrt', 'max_leaf_nodes': 150, 'min_impurity_decrease': 0.004529016355991284, 'ccp_alpha': 0.002346971218311806}. Best is trial 0 with value: 2405925680.657123.\n",
      "[I 2025-09-19 09:49:15,753] Trial 55 finished with value: 2405925680.657123 and parameters: {'criterion': 'friedman_mse', 'max_depth': None, 'min_samples_split': 2, 'min_samples_leaf': 20, 'min_weight_fraction_leaf': 0.003885460391692461, 'max_features': 'sqrt', 'max_leaf_nodes': 100, 'min_impurity_decrease': 0.003912215709605561, 'ccp_alpha': 0.0037157964280051417}. Best is trial 0 with value: 2405925680.657123.\n",
      "[I 2025-09-19 09:49:15,980] Trial 56 finished with value: 2405925680.657123 and parameters: {'criterion': 'absolute_error', 'max_depth': None, 'min_samples_split': 3, 'min_samples_leaf': 1, 'min_weight_fraction_leaf': 0.006701991841628252, 'max_features': 'log2', 'max_leaf_nodes': None, 'min_impurity_decrease': 0.005805420993096325, 'ccp_alpha': 0.0008115712702359845}. Best is trial 0 with value: 2405925680.657123.\n",
      "[I 2025-09-19 09:49:16,187] Trial 57 finished with value: 2405925680.657123 and parameters: {'criterion': 'poisson', 'max_depth': None, 'min_samples_split': 3, 'min_samples_leaf': 14, 'min_weight_fraction_leaf': 0.0023782610012379225, 'max_features': 'sqrt', 'max_leaf_nodes': 100, 'min_impurity_decrease': 0.0024041785590408113, 'ccp_alpha': 2.7504145005104467e-05}. Best is trial 0 with value: 2405925680.657123.\n",
      "[I 2025-09-19 09:49:17,195] Trial 58 finished with value: 2567891666.9600487 and parameters: {'criterion': 'friedman_mse', 'max_depth': 10, 'min_samples_split': 3, 'min_samples_leaf': 14, 'min_weight_fraction_leaf': 0.004467251984713216, 'max_features': None, 'max_leaf_nodes': 150, 'min_impurity_decrease': 0.0020591729782651756, 'ccp_alpha': 0.0029930604733011392}. Best is trial 0 with value: 2405925680.657123.\n",
      "[I 2025-09-19 09:49:17,405] Trial 59 finished with value: 2405925680.657123 and parameters: {'criterion': 'absolute_error', 'max_depth': None, 'min_samples_split': 2, 'min_samples_leaf': 20, 'min_weight_fraction_leaf': 0.008731852232188303, 'max_features': 'sqrt', 'max_leaf_nodes': 100, 'min_impurity_decrease': 0.002630546161407849, 'ccp_alpha': 0.017727963670281455}. Best is trial 0 with value: 2405925680.657123.\n",
      "[I 2025-09-19 09:49:17,614] Trial 60 finished with value: 2405925680.657123 and parameters: {'criterion': 'poisson', 'max_depth': None, 'min_samples_split': 3, 'min_samples_leaf': 1, 'min_weight_fraction_leaf': 0.0082941332221738, 'max_features': None, 'max_leaf_nodes': None, 'min_impurity_decrease': 0.0014593724002411558, 'ccp_alpha': 0.006270390226780101}. Best is trial 0 with value: 2405925680.657123.\n",
      "[I 2025-09-19 09:49:17,824] Trial 61 finished with value: 2405925680.657123 and parameters: {'criterion': 'poisson', 'max_depth': None, 'min_samples_split': 2, 'min_samples_leaf': 20, 'min_weight_fraction_leaf': 0.0010427595950333723, 'max_features': 'log2', 'max_leaf_nodes': 150, 'min_impurity_decrease': 0.009235954174038755, 'ccp_alpha': 0.0017521825572023306}. Best is trial 0 with value: 2405925680.657123.\n",
      "[I 2025-09-19 09:49:18,031] Trial 62 finished with value: 2405925680.657123 and parameters: {'criterion': 'poisson', 'max_depth': None, 'min_samples_split': 2, 'min_samples_leaf': 20, 'min_weight_fraction_leaf': 0.0015415694599210572, 'max_features': 'log2', 'max_leaf_nodes': 150, 'min_impurity_decrease': 0.007778992209269327, 'ccp_alpha': 0.0010895199695055034}. Best is trial 0 with value: 2405925680.657123.\n",
      "[I 2025-09-19 09:49:18,240] Trial 63 finished with value: 2405925680.657123 and parameters: {'criterion': 'poisson', 'max_depth': None, 'min_samples_split': 2, 'min_samples_leaf': 20, 'min_weight_fraction_leaf': 0.002172639129971218, 'max_features': 'log2', 'max_leaf_nodes': 150, 'min_impurity_decrease': 0.005059713785142861, 'ccp_alpha': 0.005015416839107882}. Best is trial 0 with value: 2405925680.657123.\n",
      "[I 2025-09-19 09:49:18,457] Trial 64 finished with value: 2405925680.657123 and parameters: {'criterion': 'squared_error', 'max_depth': None, 'min_samples_split': 2, 'min_samples_leaf': 20, 'min_weight_fraction_leaf': 0.0006799718852616163, 'max_features': 'log2', 'max_leaf_nodes': 150, 'min_impurity_decrease': 0.005613478135366131, 'ccp_alpha': 0.009518016938607668}. Best is trial 0 with value: 2405925680.657123.\n",
      "[I 2025-09-19 09:49:18,666] Trial 65 finished with value: 2405925680.657123 and parameters: {'criterion': 'poisson', 'max_depth': None, 'min_samples_split': 3, 'min_samples_leaf': 14, 'min_weight_fraction_leaf': 0.0006427264721307275, 'max_features': 'log2', 'max_leaf_nodes': 150, 'min_impurity_decrease': 0.008544061509806574, 'ccp_alpha': 0.003612006318713337}. Best is trial 0 with value: 2405925680.657123.\n",
      "[I 2025-09-19 09:49:18,876] Trial 66 finished with value: 2405925680.657123 and parameters: {'criterion': 'friedman_mse', 'max_depth': None, 'min_samples_split': 3, 'min_samples_leaf': 20, 'min_weight_fraction_leaf': 0.009109783825209609, 'max_features': 'sqrt', 'max_leaf_nodes': 100, 'min_impurity_decrease': 0.006450072337422678, 'ccp_alpha': 0.00237516279260632}. Best is trial 0 with value: 2405925680.657123.\n",
      "[I 2025-09-19 09:49:19,911] Trial 67 finished with value: 2567891666.9600487 and parameters: {'criterion': 'absolute_error', 'max_depth': 10, 'min_samples_split': 2, 'min_samples_leaf': 14, 'min_weight_fraction_leaf': 0.005953547563143453, 'max_features': None, 'max_leaf_nodes': 150, 'min_impurity_decrease': 0.0039074176293121335, 'ccp_alpha': 0.0029672121790194003}. Best is trial 0 with value: 2405925680.657123.\n",
      "[I 2025-09-19 09:49:20,142] Trial 68 finished with value: 2405925680.657123 and parameters: {'criterion': 'squared_error', 'max_depth': None, 'min_samples_split': 3, 'min_samples_leaf': 1, 'min_weight_fraction_leaf': 0.005303963568445277, 'max_features': None, 'max_leaf_nodes': 100, 'min_impurity_decrease': 0.004654125898528514, 'ccp_alpha': 0.004020100649652729}. Best is trial 0 with value: 2405925680.657123.\n",
      "[I 2025-09-19 09:49:20,363] Trial 69 finished with value: 2405925680.657123 and parameters: {'criterion': 'poisson', 'max_depth': None, 'min_samples_split': 2, 'min_samples_leaf': 14, 'min_weight_fraction_leaf': 0.004175700801228556, 'max_features': 'sqrt', 'max_leaf_nodes': None, 'min_impurity_decrease': 0.0002994457766668556, 'ccp_alpha': 0.006994617117046803}. Best is trial 0 with value: 2405925680.657123.\n",
      "[I 2025-09-19 09:49:20,574] Trial 70 finished with value: 2405925680.657123 and parameters: {'criterion': 'squared_error', 'max_depth': None, 'min_samples_split': 3, 'min_samples_leaf': 20, 'min_weight_fraction_leaf': 0.003684619167924314, 'max_features': None, 'max_leaf_nodes': 150, 'min_impurity_decrease': 0.0004130748093943938, 'ccp_alpha': 0.0012363987387764184}. Best is trial 0 with value: 2405925680.657123.\n",
      "[I 2025-09-19 09:49:20,794] Trial 71 finished with value: 2405925680.657123 and parameters: {'criterion': 'absolute_error', 'max_depth': None, 'min_samples_split': 3, 'min_samples_leaf': 1, 'min_weight_fraction_leaf': 0.009703966792402322, 'max_features': 'sqrt', 'max_leaf_nodes': None, 'min_impurity_decrease': 0.009855374133761582, 'ccp_alpha': 0.012023285812453138}. Best is trial 0 with value: 2405925680.657123.\n",
      "[I 2025-09-19 09:49:21,000] Trial 72 finished with value: 2405925680.657123 and parameters: {'criterion': 'absolute_error', 'max_depth': None, 'min_samples_split': 3, 'min_samples_leaf': 1, 'min_weight_fraction_leaf': 0.008712634185957363, 'max_features': 'sqrt', 'max_leaf_nodes': None, 'min_impurity_decrease': 0.009348071970709245, 'ccp_alpha': 0.013728035165142427}. Best is trial 0 with value: 2405925680.657123.\n",
      "[I 2025-09-19 09:49:21,211] Trial 73 finished with value: 2405925680.657123 and parameters: {'criterion': 'absolute_error', 'max_depth': None, 'min_samples_split': 3, 'min_samples_leaf': 1, 'min_weight_fraction_leaf': 0.009360926111376539, 'max_features': 'sqrt', 'max_leaf_nodes': None, 'min_impurity_decrease': 0.00537143897796019, 'ccp_alpha': 0.010645768485624822}. Best is trial 0 with value: 2405925680.657123.\n",
      "[I 2025-09-19 09:49:21,423] Trial 74 finished with value: 2405925680.657123 and parameters: {'criterion': 'absolute_error', 'max_depth': None, 'min_samples_split': 3, 'min_samples_leaf': 1, 'min_weight_fraction_leaf': 0.009734399653852316, 'max_features': 'sqrt', 'max_leaf_nodes': None, 'min_impurity_decrease': 0.007996255562518234, 'ccp_alpha': 0.0115073238711688}. Best is trial 0 with value: 2405925680.657123.\n",
      "[I 2025-09-19 09:49:21,632] Trial 75 finished with value: 2405925680.657123 and parameters: {'criterion': 'absolute_error', 'max_depth': None, 'min_samples_split': 3, 'min_samples_leaf': 14, 'min_weight_fraction_leaf': 0.002731421611724668, 'max_features': 'sqrt', 'max_leaf_nodes': None, 'min_impurity_decrease': 0.00736159708252143, 'ccp_alpha': 0.008410249861028375}. Best is trial 0 with value: 2405925680.657123.\n",
      "[I 2025-09-19 09:49:21,842] Trial 76 finished with value: 2405925680.657123 and parameters: {'criterion': 'friedman_mse', 'max_depth': None, 'min_samples_split': 3, 'min_samples_leaf': 1, 'min_weight_fraction_leaf': 7.35200447207476e-05, 'max_features': None, 'max_leaf_nodes': 100, 'min_impurity_decrease': 0.009542639620650507, 'ccp_alpha': 0.0057667426198167926}. Best is trial 0 with value: 2405925680.657123.\n",
      "[I 2025-09-19 09:49:22,873] Trial 77 finished with value: 2567891666.9600487 and parameters: {'criterion': 'poisson', 'max_depth': 10, 'min_samples_split': 3, 'min_samples_leaf': 14, 'min_weight_fraction_leaf': 0.009055571279796688, 'max_features': 'log2', 'max_leaf_nodes': None, 'min_impurity_decrease': 0.00872974967808371, 'ccp_alpha': 0.009987994574376914}. Best is trial 0 with value: 2405925680.657123.\n",
      "[I 2025-09-19 09:49:23,084] Trial 78 finished with value: 2405925680.657123 and parameters: {'criterion': 'absolute_error', 'max_depth': None, 'min_samples_split': 3, 'min_samples_leaf': 20, 'min_weight_fraction_leaf': 0.00809457346813091, 'max_features': 'sqrt', 'max_leaf_nodes': 150, 'min_impurity_decrease': 0.0060380806933085914, 'ccp_alpha': 0.001919095196605272}. Best is trial 0 with value: 2405925680.657123.\n",
      "[I 2025-09-19 09:49:23,292] Trial 79 finished with value: 2405925680.657123 and parameters: {'criterion': 'squared_error', 'max_depth': None, 'min_samples_split': 2, 'min_samples_leaf': 14, 'min_weight_fraction_leaf': 0.002006913490409083, 'max_features': None, 'max_leaf_nodes': 100, 'min_impurity_decrease': 0.0014076681570977983, 'ccp_alpha': 0.004800774528419964}. Best is trial 0 with value: 2405925680.657123.\n",
      "[I 2025-09-19 09:49:23,526] Trial 80 finished with value: 2405925680.657123 and parameters: {'criterion': 'friedman_mse', 'max_depth': None, 'min_samples_split': 3, 'min_samples_leaf': 1, 'min_weight_fraction_leaf': 0.00168579176166429, 'max_features': 'sqrt', 'max_leaf_nodes': None, 'min_impurity_decrease': 0.006637841686852002, 'ccp_alpha': 0.01382590282575649}. Best is trial 0 with value: 2405925680.657123.\n",
      "[I 2025-09-19 09:49:23,735] Trial 81 finished with value: 2405925680.657123 and parameters: {'criterion': 'absolute_error', 'max_depth': None, 'min_samples_split': 3, 'min_samples_leaf': 1, 'min_weight_fraction_leaf': 0.009976262978602398, 'max_features': None, 'max_leaf_nodes': 100, 'min_impurity_decrease': 0.0008493167951746405, 'ccp_alpha': 0.009198880830476264}. Best is trial 0 with value: 2405925680.657123.\n",
      "[I 2025-09-19 09:49:23,945] Trial 82 finished with value: 2405925680.657123 and parameters: {'criterion': 'absolute_error', 'max_depth': None, 'min_samples_split': 3, 'min_samples_leaf': 1, 'min_weight_fraction_leaf': 0.007599387169951184, 'max_features': None, 'max_leaf_nodes': 100, 'min_impurity_decrease': 0.0011196125722796497, 'ccp_alpha': 0.008824592069711831}. Best is trial 0 with value: 2405925680.657123.\n",
      "[I 2025-09-19 09:49:24,154] Trial 83 finished with value: 2405925680.657123 and parameters: {'criterion': 'absolute_error', 'max_depth': None, 'min_samples_split': 3, 'min_samples_leaf': 1, 'min_weight_fraction_leaf': 0.008067421504154786, 'max_features': None, 'max_leaf_nodes': 100, 'min_impurity_decrease': 0.0007213149681128715, 'ccp_alpha': 0.006836972497877075}. Best is trial 0 with value: 2405925680.657123.\n",
      "[I 2025-09-19 09:49:24,365] Trial 84 finished with value: 2405925680.657123 and parameters: {'criterion': 'absolute_error', 'max_depth': None, 'min_samples_split': 3, 'min_samples_leaf': 1, 'min_weight_fraction_leaf': 0.007345074235022637, 'max_features': None, 'max_leaf_nodes': 100, 'min_impurity_decrease': 0.0018160425083133735, 'ccp_alpha': 0.0025028046445019977}. Best is trial 0 with value: 2405925680.657123.\n",
      "[I 2025-09-19 09:49:24,582] Trial 85 finished with value: 2405925680.657123 and parameters: {'criterion': 'absolute_error', 'max_depth': None, 'min_samples_split': 3, 'min_samples_leaf': 14, 'min_weight_fraction_leaf': 0.006697616849344533, 'max_features': None, 'max_leaf_nodes': 100, 'min_impurity_decrease': 3.791092574850015e-05, 'ccp_alpha': 0.007953675112360331}. Best is trial 0 with value: 2405925680.657123.\n",
      "[I 2025-09-19 09:49:24,810] Trial 86 finished with value: 2405925680.657123 and parameters: {'criterion': 'poisson', 'max_depth': None, 'min_samples_split': 2, 'min_samples_leaf': 14, 'min_weight_fraction_leaf': 0.009419496532630653, 'max_features': None, 'max_leaf_nodes': 150, 'min_impurity_decrease': 0.003493397481113391, 'ccp_alpha': 0.011264372923093163}. Best is trial 0 with value: 2405925680.657123.\n",
      "[I 2025-09-19 09:49:25,023] Trial 87 finished with value: 2405925680.657123 and parameters: {'criterion': 'friedman_mse', 'max_depth': None, 'min_samples_split': 3, 'min_samples_leaf': 1, 'min_weight_fraction_leaf': 0.00959962692304764, 'max_features': 'sqrt', 'max_leaf_nodes': None, 'min_impurity_decrease': 0.006943429497110475, 'ccp_alpha': 0.00044604105880842405}. Best is trial 0 with value: 2405925680.657123.\n",
      "[I 2025-09-19 09:49:25,243] Trial 88 finished with value: 2405925680.657123 and parameters: {'criterion': 'absolute_error', 'max_depth': None, 'min_samples_split': 3, 'min_samples_leaf': 20, 'min_weight_fraction_leaf': 0.0088157781790313, 'max_features': 'log2', 'max_leaf_nodes': 100, 'min_impurity_decrease': 0.0004415338959121017, 'ccp_alpha': 0.0009932918279093922}. Best is trial 0 with value: 2405925680.657123.\n",
      "[I 2025-09-19 09:49:26,249] Trial 89 finished with value: 2567891666.9600487 and parameters: {'criterion': 'squared_error', 'max_depth': 10, 'min_samples_split': 2, 'min_samples_leaf': 14, 'min_weight_fraction_leaf': 0.003453590269069649, 'max_features': None, 'max_leaf_nodes': 150, 'min_impurity_decrease': 0.00268082202199724, 'ccp_alpha': 0.01013293619187902}. Best is trial 0 with value: 2405925680.657123.\n",
      "[I 2025-09-19 09:49:26,458] Trial 90 finished with value: 2405925680.657123 and parameters: {'criterion': 'friedman_mse', 'max_depth': None, 'min_samples_split': 3, 'min_samples_leaf': 1, 'min_weight_fraction_leaf': 0.001367252391252135, 'max_features': 'sqrt', 'max_leaf_nodes': None, 'min_impurity_decrease': 0.004190239198978853, 'ccp_alpha': 0.015856581361215358}. Best is trial 0 with value: 2405925680.657123.\n",
      "[I 2025-09-19 09:49:26,666] Trial 91 finished with value: 2405925680.657123 and parameters: {'criterion': 'friedman_mse', 'max_depth': None, 'min_samples_split': 3, 'min_samples_leaf': 1, 'min_weight_fraction_leaf': 0.009209755659805731, 'max_features': 'sqrt', 'max_leaf_nodes': 100, 'min_impurity_decrease': 0.007368610599256527, 'ccp_alpha': 0.005614057325069713}. Best is trial 0 with value: 2405925680.657123.\n",
      "[I 2025-09-19 09:49:26,876] Trial 92 finished with value: 2405925680.657123 and parameters: {'criterion': 'friedman_mse', 'max_depth': None, 'min_samples_split': 3, 'min_samples_leaf': 1, 'min_weight_fraction_leaf': 0.007783687759345672, 'max_features': 'sqrt', 'max_leaf_nodes': 100, 'min_impurity_decrease': 0.0047816726739027685, 'ccp_alpha': 0.0031571125019184795}. Best is trial 0 with value: 2405925680.657123.\n",
      "[I 2025-09-19 09:49:27,084] Trial 93 finished with value: 2405925680.657123 and parameters: {'criterion': 'friedman_mse', 'max_depth': None, 'min_samples_split': 3, 'min_samples_leaf': 1, 'min_weight_fraction_leaf': 0.007152042796748798, 'max_features': 'sqrt', 'max_leaf_nodes': 100, 'min_impurity_decrease': 0.005178962736872604, 'ccp_alpha': 0.006220769323012701}. Best is trial 0 with value: 2405925680.657123.\n",
      "[I 2025-09-19 09:49:27,302] Trial 94 finished with value: 2405925680.657123 and parameters: {'criterion': 'poisson', 'max_depth': None, 'min_samples_split': 3, 'min_samples_leaf': 20, 'min_weight_fraction_leaf': 0.0029523470304525573, 'max_features': 'sqrt', 'max_leaf_nodes': 100, 'min_impurity_decrease': 0.006312433997011629, 'ccp_alpha': 0.0052651069408734}. Best is trial 0 with value: 2405925680.657123.\n",
      "[I 2025-09-19 09:49:27,520] Trial 95 finished with value: 2405925680.657123 and parameters: {'criterion': 'friedman_mse', 'max_depth': None, 'min_samples_split': 3, 'min_samples_leaf': 14, 'min_weight_fraction_leaf': 0.00813849254244817, 'max_features': 'sqrt', 'max_leaf_nodes': 150, 'min_impurity_decrease': 0.0083590526641051, 'ccp_alpha': 0.004167468668732789}. Best is trial 0 with value: 2405925680.657123.\n",
      "[I 2025-09-19 09:49:27,740] Trial 96 finished with value: 2405925680.657123 and parameters: {'criterion': 'absolute_error', 'max_depth': None, 'min_samples_split': 2, 'min_samples_leaf': 1, 'min_weight_fraction_leaf': 0.008500057113290738, 'max_features': None, 'max_leaf_nodes': 100, 'min_impurity_decrease': 0.005761927595718367, 'ccp_alpha': 0.0033831925562827396}. Best is trial 0 with value: 2405925680.657123.\n",
      "[I 2025-09-19 09:49:27,950] Trial 97 finished with value: 2405925680.657123 and parameters: {'criterion': 'friedman_mse', 'max_depth': None, 'min_samples_split': 3, 'min_samples_leaf': 14, 'min_weight_fraction_leaf': 0.006901216668629549, 'max_features': 'log2', 'max_leaf_nodes': 150, 'min_impurity_decrease': 0.008900092870153524, 'ccp_alpha': 0.004553149526666092}. Best is trial 0 with value: 2405925680.657123.\n",
      "[I 2025-09-19 09:49:28,160] Trial 98 finished with value: 2405925680.657123 and parameters: {'criterion': 'poisson', 'max_depth': None, 'min_samples_split': 2, 'min_samples_leaf': 20, 'min_weight_fraction_leaf': 0.00895870331098663, 'max_features': 'sqrt', 'max_leaf_nodes': None, 'min_impurity_decrease': 0.0020031163026982485, 'ccp_alpha': 0.006630264057603564}. Best is trial 0 with value: 2405925680.657123.\n",
      "[I 2025-09-19 09:49:28,366] Trial 99 finished with value: 2405925680.657123 and parameters: {'criterion': 'squared_error', 'max_depth': None, 'min_samples_split': 3, 'min_samples_leaf': 1, 'min_weight_fraction_leaf': 0.006038279207389189, 'max_features': None, 'max_leaf_nodes': 100, 'min_impurity_decrease': 0.004456556331734751, 'ccp_alpha': 0.007603009721062278}. Best is trial 0 with value: 2405925680.657123.\n"
     ]
    },
    {
     "name": "stdout",
     "output_type": "stream",
     "text": [
      "Best score: 2405925680.657123\n",
      "Best parameters: {'criterion': 'friedman_mse', 'max_depth': None, 'min_samples_split': 3, 'min_samples_leaf': 1, 'min_weight_fraction_leaf': 0.009369979257923813, 'max_features': None, 'max_leaf_nodes': None, 'min_impurity_decrease': 0.0014515836819523943, 'ccp_alpha': 0.0035932150331431734}\n"
     ]
    }
   ],
   "source": [
    "def objective(trial):\n",
    "    # For ease of comparison, these were kept similar to values for used GridSearch above.\n",
    "    # You are welcome to experiment further.\n",
    "    params = {\n",
    "        'criterion': trial.suggest_categorical('criterion', ['squared_error', 'friedman_mse', 'absolute_error', 'poisson']),\n",
    "        'max_depth': trial.suggest_categorical('max_depth', [None, 10]),\n",
    "        'min_samples_split': trial.suggest_int('min_samples_split', 2, 3),\n",
    "        'min_samples_leaf': trial.suggest_categorical('min_samples_leaf', [1, 14, 20]),\n",
    "        'min_weight_fraction_leaf': trial.suggest_float('min_weight_fraction_leaf', 0.0, 0.01),\n",
    "        'max_features': trial.suggest_categorical('max_features', [None, 'sqrt', 'log2']),\n",
    "        'max_leaf_nodes': trial.suggest_categorical('max_leaf_nodes', [None, 100, 150]),\n",
    "        'min_impurity_decrease': trial.suggest_float('min_impurity_decrease', 0.0, 0.01),\n",
    "        'ccp_alpha': trial.suggest_float('ccp_alpha', 0.0, 0.02)\n",
    "    }\n",
    "\n",
    "    # Create a Decision Tree Regressor with parameters to be tuned\n",
    "    #model = DecisionTreeRegressor(random_state=42, **params)\n",
    "\n",
    "    model = xgb.XGBRegressor(\n",
    "        seed=42,\n",
    "#        devide='cuda'\n",
    "        **params,\n",
    "    )\n",
    "\n",
    "\n",
    "\n",
    "\n",
    "    # Use cross-validation to evaluate the model\n",
    "    scores = cross_val_score(model, X_train, y_train,\n",
    "                             cv=3, scoring='neg_mean_squared_error', n_jobs=-1)\n",
    "    # Since scores are negative mean squared error, we negate it to get positive MSE\n",
    "    mse = -scores.mean()\n",
    "    return mse\n",
    "\n",
    "\n",
    "# Create a study object that will find the hyperparameters that minimize the objective\n",
    "study = optuna.create_study(direction='minimize')\n",
    "# You can adjust the number of trials here\n",
    "study.optimize(objective, n_trials=100)\n",
    "\n",
    "# Fetch the best parameters and the best score achieved\n",
    "best_params = study.best_params\n",
    "best_score = study.best_value\n",
    "\n",
    "print(\"Best score:\", best_score)\n",
    "print(\"Best parameters:\", best_params)"
   ]
  }
 ],
 "metadata": {
  "kernelspec": {
   "display_name": "AI-ML-Bootcamp-24-25",
   "language": "python",
   "name": "python3"
  },
  "language_info": {
   "codemirror_mode": {
    "name": "ipython",
    "version": 3
   },
   "file_extension": ".py",
   "mimetype": "text/x-python",
   "name": "python",
   "nbconvert_exporter": "python",
   "pygments_lexer": "ipython3",
   "version": "3.12.3"
  }
 },
 "nbformat": 4,
 "nbformat_minor": 2
}
