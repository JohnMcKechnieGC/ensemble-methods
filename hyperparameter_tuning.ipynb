{
 "cells": [
  {
   "cell_type": "markdown",
   "metadata": {},
   "source": [
    "# Optimizing our Models"
   ]
  },
  {
   "cell_type": "code",
   "execution_count": 1,
   "metadata": {},
   "outputs": [],
   "source": [
    "import pandas as pd\n",
    "from sklearn.model_selection import train_test_split\n",
    "from sklearn.preprocessing import OrdinalEncoder\n",
    "from sklearn.model_selection import GridSearchCV\n",
    "import xgboost as xgb\n",
    "from sklearn.tree import DecisionTreeRegressor\n",
    "from sklearn.ensemble import RandomForestRegressor\n",
    "from sklearn.ensemble import HistGradientBoostingRegressor"
   ]
  },
  {
   "cell_type": "markdown",
   "metadata": {},
   "source": [
    "## Load and Process the Data\n",
    "This is using the same procedure as in housing_prices.ipynb. It would make sense to extract this into its own distinct process so that we didn't have to duplicate the code."
   ]
  },
  {
   "cell_type": "code",
   "execution_count": 2,
   "metadata": {},
   "outputs": [],
   "source": [
    "df = pd.read_csv('./data/housing.csv')\n",
    "df = df.dropna()"
   ]
  },
  {
   "cell_type": "code",
   "execution_count": 3,
   "metadata": {},
   "outputs": [],
   "source": [
    "X = df.drop('median_house_value', axis=1)\n",
    "y = df['median_house_value']"
   ]
  },
  {
   "cell_type": "code",
   "execution_count": 4,
   "metadata": {},
   "outputs": [],
   "source": [
    "X_train, X_test, y_train, y_test = train_test_split(\n",
    "    X,\n",
    "    y,\n",
    "    test_size=0.3,\n",
    "    random_state=42)"
   ]
  },
  {
   "cell_type": "code",
   "execution_count": 5,
   "metadata": {},
   "outputs": [],
   "source": [
    "# Define the categories in the desired order for encoding\n",
    "categories = [['INLAND', '<1H OCEAN', 'NEAR OCEAN', 'NEAR BAY', 'ISLAND']]\n",
    "encoder = OrdinalEncoder(categories=categories)\n",
    "X_train['ocean_proximity'] = encoder.fit_transform(\n",
    "    X_train[['ocean_proximity']])"
   ]
  },
  {
   "cell_type": "code",
   "execution_count": 6,
   "metadata": {},
   "outputs": [
    {
     "data": {
      "text/html": [
       "<div>\n",
       "<style scoped>\n",
       "    .dataframe tbody tr th:only-of-type {\n",
       "        vertical-align: middle;\n",
       "    }\n",
       "\n",
       "    .dataframe tbody tr th {\n",
       "        vertical-align: top;\n",
       "    }\n",
       "\n",
       "    .dataframe thead th {\n",
       "        text-align: right;\n",
       "    }\n",
       "</style>\n",
       "<table border=\"1\" class=\"dataframe\">\n",
       "  <thead>\n",
       "    <tr style=\"text-align: right;\">\n",
       "      <th></th>\n",
       "      <th>longitude</th>\n",
       "      <th>latitude</th>\n",
       "      <th>housing_median_age</th>\n",
       "      <th>total_rooms</th>\n",
       "      <th>total_bedrooms</th>\n",
       "      <th>population</th>\n",
       "      <th>households</th>\n",
       "      <th>median_income</th>\n",
       "      <th>ocean_proximity</th>\n",
       "    </tr>\n",
       "  </thead>\n",
       "  <tbody>\n",
       "    <tr>\n",
       "      <th>19566</th>\n",
       "      <td>-120.96</td>\n",
       "      <td>37.61</td>\n",
       "      <td>23.0</td>\n",
       "      <td>3497.0</td>\n",
       "      <td>887.0</td>\n",
       "      <td>2467.0</td>\n",
       "      <td>816.0</td>\n",
       "      <td>1.9444</td>\n",
       "      <td>0.0</td>\n",
       "    </tr>\n",
       "    <tr>\n",
       "      <th>7292</th>\n",
       "      <td>-118.22</td>\n",
       "      <td>33.98</td>\n",
       "      <td>34.0</td>\n",
       "      <td>2225.0</td>\n",
       "      <td>753.0</td>\n",
       "      <td>2980.0</td>\n",
       "      <td>736.0</td>\n",
       "      <td>1.6685</td>\n",
       "      <td>1.0</td>\n",
       "    </tr>\n",
       "    <tr>\n",
       "      <th>17618</th>\n",
       "      <td>-121.94</td>\n",
       "      <td>37.28</td>\n",
       "      <td>27.0</td>\n",
       "      <td>2859.0</td>\n",
       "      <td>464.0</td>\n",
       "      <td>1144.0</td>\n",
       "      <td>430.0</td>\n",
       "      <td>5.0822</td>\n",
       "      <td>1.0</td>\n",
       "    </tr>\n",
       "    <tr>\n",
       "      <th>17518</th>\n",
       "      <td>-121.91</td>\n",
       "      <td>37.34</td>\n",
       "      <td>35.0</td>\n",
       "      <td>2189.0</td>\n",
       "      <td>607.0</td>\n",
       "      <td>1193.0</td>\n",
       "      <td>562.0</td>\n",
       "      <td>2.8042</td>\n",
       "      <td>1.0</td>\n",
       "    </tr>\n",
       "    <tr>\n",
       "      <th>5172</th>\n",
       "      <td>-118.28</td>\n",
       "      <td>33.95</td>\n",
       "      <td>41.0</td>\n",
       "      <td>835.0</td>\n",
       "      <td>208.0</td>\n",
       "      <td>707.0</td>\n",
       "      <td>192.0</td>\n",
       "      <td>1.4103</td>\n",
       "      <td>1.0</td>\n",
       "    </tr>\n",
       "  </tbody>\n",
       "</table>\n",
       "</div>"
      ],
      "text/plain": [
       "       longitude  latitude  housing_median_age  total_rooms  total_bedrooms  \\\n",
       "19566    -120.96     37.61                23.0       3497.0           887.0   \n",
       "7292     -118.22     33.98                34.0       2225.0           753.0   \n",
       "17618    -121.94     37.28                27.0       2859.0           464.0   \n",
       "17518    -121.91     37.34                35.0       2189.0           607.0   \n",
       "5172     -118.28     33.95                41.0        835.0           208.0   \n",
       "\n",
       "       population  households  median_income  ocean_proximity  \n",
       "19566      2467.0       816.0         1.9444              0.0  \n",
       "7292       2980.0       736.0         1.6685              1.0  \n",
       "17618      1144.0       430.0         5.0822              1.0  \n",
       "17518      1193.0       562.0         2.8042              1.0  \n",
       "5172        707.0       192.0         1.4103              1.0  "
      ]
     },
     "execution_count": 6,
     "metadata": {},
     "output_type": "execute_result"
    }
   ],
   "source": [
    "X_train.head()"
   ]
  },
  {
   "cell_type": "code",
   "execution_count": 7,
   "metadata": {},
   "outputs": [
    {
     "data": {
      "text/plain": [
       "19566     93400.0\n",
       "7292     128800.0\n",
       "17618    327500.0\n",
       "17518    240900.0\n",
       "5172      86200.0\n",
       "Name: median_house_value, dtype: float64"
      ]
     },
     "execution_count": 7,
     "metadata": {},
     "output_type": "execute_result"
    }
   ],
   "source": [
    "y_train.head()"
   ]
  },
  {
   "cell_type": "code",
   "execution_count": 8,
   "metadata": {},
   "outputs": [],
   "source": [
    "# Encode the ocean_proximity column as well\n",
    "X_test['ocean_proximity'] = encoder.fit_transform(X_test[['ocean_proximity']])"
   ]
  },
  {
   "cell_type": "markdown",
   "metadata": {},
   "source": [
    "## Optimize our Models with Grid Search\n",
    "https://scikit-learn.org/stable/modules/generated/sklearn.model_selection.GridSearchCV.html"
   ]
  },
  {
   "cell_type": "markdown",
   "metadata": {},
   "source": [
    "The function below performs a grid search. To use it, we will define the parameters (including the type of model we wish to optimize)."
   ]
  },
  {
   "cell_type": "code",
   "execution_count": 10,
   "metadata": {},
   "outputs": [],
   "source": [
    "def perform_grid_search(parameters):\n",
    "    results = {}\n",
    "    for name, setup in parameters.items():\n",
    "        grid_search = GridSearchCV(\n",
    "            setup['model'], setup['params'], cv=3, scoring='neg_mean_squared_error', n_jobs=-1)\n",
    "        grid_search.fit(X_train, y_train)\n",
    "        results[name] = {\n",
    "            'best_score': grid_search.best_score_,\n",
    "            'best_params': grid_search.best_params_\n",
    "        }\n",
    "    return results"
   ]
  },
  {
   "cell_type": "markdown",
   "metadata": {},
   "source": [
    "### Decision Tree"
   ]
  },
  {
   "cell_type": "code",
   "execution_count": null,
   "metadata": {},
   "outputs": [],
   "source": [
    "decision_tree_params = {\n",
    "    'DecisionTree': {\n",
    "        'model': DecisionTreeRegressor(random_state=42),\n",
    "        'params': {\n",
    "            'criterion': ['squared_error', 'friedman_mse', 'absolute_error', 'poisson'],\n",
    "            #'splitter': ['best', 'random'],\n",
    "            'max_depth': [None, 10],\n",
    "            'min_samples_split': [2, 3],\n",
    "            'min_samples_leaf': [1, 14, 20],\n",
    "            'min_weight_fraction_leaf': [0.0, 0.01],\n",
    "            'max_features': [None, 'sqrt', 'log2'],\n",
    "            'max_leaf_nodes': [None, 100, 150],\n",
    "            'min_impurity_decrease': [0.0, 0.01],\n",
    "            'ccp_alpha': [0.0, 0.01, 0.02]\n",
    "        }\n",
    "    }\n",
    "}"
   ]
  },
  {
   "cell_type": "code",
   "execution_count": 11,
   "metadata": {},
   "outputs": [
    {
     "data": {
      "text/plain": [
       "{'DecisionTree': {'best_score': -3427705884.6115246,\n",
       "  'best_params': {'ccp_alpha': 0.0,\n",
       "   'criterion': 'poisson',\n",
       "   'max_depth': None,\n",
       "   'max_features': None,\n",
       "   'max_leaf_nodes': None,\n",
       "   'min_impurity_decrease': 0.01,\n",
       "   'min_samples_leaf': 14,\n",
       "   'min_samples_split': 2,\n",
       "   'min_weight_fraction_leaf': 0.0}}}"
      ]
     },
     "execution_count": 11,
     "metadata": {},
     "output_type": "execute_result"
    }
   ],
   "source": [
    "perform_grid_search(decision_tree_params)"
   ]
  },
  {
   "cell_type": "markdown",
   "metadata": {},
   "source": [
    "### Random Forest"
   ]
  },
  {
   "cell_type": "code",
   "execution_count": 12,
   "metadata": {},
   "outputs": [],
   "source": [
    "random_forest_params = {\n",
    "    'RandomForest': {\n",
    "        'model': RandomForestRegressor(random_state=42),\n",
    "        'params': {\n",
    "            'n_estimators': [10, 100, 400],\n",
    "            'max_features': [None, 'sqrt', 'log2']\n",
    "        }\n",
    "    }\n",
    "}"
   ]
  },
  {
   "cell_type": "code",
   "execution_count": 13,
   "metadata": {},
   "outputs": [
    {
     "data": {
      "text/plain": [
       "{'RandomForest': {'best_score': -2573219444.0531,\n",
       "  'best_params': {'max_features': 'sqrt', 'n_estimators': 400}}}"
      ]
     },
     "execution_count": 13,
     "metadata": {},
     "output_type": "execute_result"
    }
   ],
   "source": [
    "perform_grid_search(random_forest_params)"
   ]
  },
  {
   "cell_type": "markdown",
   "metadata": {},
   "source": [
    "### Gradient Boosting"
   ]
  },
  {
   "cell_type": "code",
   "execution_count": 14,
   "metadata": {},
   "outputs": [],
   "source": [
    "gradient_boosting_params = {\n",
    "    'HistGradientBoosting': {\n",
    "        'model': HistGradientBoostingRegressor(random_state=42),\n",
    "        'params': {\n",
    "            'max_iter': [50, 100, 150],\n",
    "            'learning_rate': [0.01, 0.1, 0.2]\n",
    "        }\n",
    "    }\n",
    "}"
   ]
  },
  {
   "cell_type": "code",
   "execution_count": 15,
   "metadata": {},
   "outputs": [
    {
     "data": {
      "text/plain": [
       "{'HistGradientBoosting': {'best_score': -2300070904.601216,\n",
       "  'best_params': {'learning_rate': 0.2, 'max_iter': 150}}}"
      ]
     },
     "execution_count": 15,
     "metadata": {},
     "output_type": "execute_result"
    }
   ],
   "source": [
    "perform_grid_search(gradient_boosting_params)"
   ]
  },
  {
   "cell_type": "markdown",
   "metadata": {},
   "source": [
    "### XGBoost"
   ]
  },
  {
   "cell_type": "code",
   "execution_count": 16,
   "metadata": {},
   "outputs": [],
   "source": [
    "xgboost_params = {\n",
    "    'XGBoost': {\n",
    "        'model': xgb.XGBRegressor(random_state=42),\n",
    "        'params': {\n",
    "            'n_estimators': [100, 200, 300],\n",
    "            'learning_rate': [0.01, 0.1, 0.2],\n",
    "            'max_depth': [3, 6, 9],\n",
    "            'subsample': [0.5, 0.7, 1.0],\n",
    "            'colsample_bytree': [0.5, 0.7, 1.0]\n",
    "        }\n",
    "    }\n",
    "}"
   ]
  },
  {
   "cell_type": "code",
   "execution_count": 17,
   "metadata": {},
   "outputs": [
    {
     "data": {
      "text/plain": [
       "{'XGBoost': {'best_score': -2265082406.696934,\n",
       "  'best_params': {'colsample_bytree': 1.0,\n",
       "   'learning_rate': 0.1,\n",
       "   'max_depth': 6,\n",
       "   'n_estimators': 300,\n",
       "   'subsample': 0.7}}}"
      ]
     },
     "execution_count": 17,
     "metadata": {},
     "output_type": "execute_result"
    }
   ],
   "source": [
    "perform_grid_search(xgboost_params)"
   ]
  },
  {
   "cell_type": "markdown",
   "metadata": {},
   "source": [
    "# Activities"
   ]
  },
  {
   "cell_type": "markdown",
   "metadata": {},
   "source": [
    "## Perform a Grid Search\n",
    "Compare the results of using grid search to tune hyperparameters with the results of the corresponding models in the housing_prices.ipynb notebook. Did we improve on the results for all classifiers?\n",
    "\n",
    "Where we got worse results, this suggests that we didn't configure our search to explore thoroughly enough. Examine the hyperparameters for each model type and use those to prepare a more thorough hyperparameter optimization.\n",
    " - https://scikit-learn.org/stable/modules/generated/sklearn.tree.DecisionTreeRegressor.html\n",
    " - https://scikit-learn.org/stable/modules/generated/sklearn.ensemble.RandomForestRegressor.html\n",
    " - https://scikit-learn.org/stable/modules/generated/sklearn.ensemble.HistGradientBoostingRegressor.html\n",
    " - https://xgboost.readthedocs.io/en/stable/python/python_api.html\n",
    " - https://scikit-learn.org/stable/modules/generated/sklearn.ensemble.AdaBoostRegressor.html\n",
    "\n",
    "Experiment with hyperparameter optimization and compare your results with the default regressors we used in the ensemble methods session (housing_prices.ipynb).\n",
    "\n",
    "Note that The MSE values returned by GridSearchCV refer to the training data. To properly evaluate the regressors, we will still want to create instances of these regressors using the optimized hyperparameters and evaluate them with the test data.\n",
    "\n",
    "__CAUTION__: The goal is to get familiar with hyperparameter tuning, not to use electricity for hours and hours training models. It is easy to get carried away!"
   ]
  },
  {
   "cell_type": "markdown",
   "metadata": {},
   "source": [
    "## Activity: Examine Other Solutions\n",
    "Examine the solutions that other people have developed for the California Housing Prices dataset with a view to understanding how they have tried to improve their models. For example, user OMARAYMANATIA achieves an MSE of 48911 at https://www.kaggle.com/code/omaraymanatia/california-housing-prices-prediction.\n",
    "\n",
    "Kaggle conveniently shows you the rating of users (OMARAYMANATIA is a rated Kaggle Expert because of his notebooks) so we can focus on the work of the more experienced Kaggle users.\n",
    "\n",
    "From your explorations, compile a list of questions and ideas to try. Sort these by priority, taking into account how much work is involved (effort) and estimated likely payoff (value). Low-effort high-value actions are a great place to continue building your knowledge and skills. What list did you come up with?\n",
    "\n"
   ]
  },
  {
   "cell_type": "markdown",
   "metadata": {},
   "source": [
    "## Optional Activity: Experiment with Other Optimizers \n",
    "Scikit-learn has other hyperparameter optimizers and there are additional approaches provided by other modules. You may find that you get better results more quickly with those. For example, the Optuna code below found a set of hyperparameter values in just over 30 seconds that were as good as the ones that took GridSearch over 12 minutes to find. See https://optuna.org/ and for more information."
   ]
  },
  {
   "cell_type": "code",
   "execution_count": 18,
   "metadata": {},
   "outputs": [],
   "source": [
    "import optuna  # Optuna needs to be installed first\n",
    "from sklearn.model_selection import cross_val_score"
   ]
  },
  {
   "cell_type": "code",
   "execution_count": null,
   "metadata": {},
   "outputs": [
    {
     "name": "stderr",
     "output_type": "stream",
     "text": [
      "[I 2024-11-27 21:32:31,867] A new study created in memory with name: no-name-33f96b3a-efac-4a27-a3ef-2667e1428b4a\n",
      "[I 2024-11-27 21:32:31,935] Trial 0 finished with value: 4203536204.5373363 and parameters: {'criterion': 'friedman_mse', 'max_depth': 10, 'min_samples_split': 2, 'min_samples_leaf': 1, 'min_weight_fraction_leaf': 0.008674371674545113, 'max_features': None, 'max_leaf_nodes': 150, 'min_impurity_decrease': 0.005411745683945409, 'ccp_alpha': 0.0015513679472351116}. Best is trial 0 with value: 4203536204.5373363.\n",
      "[I 2024-11-27 21:32:31,982] Trial 1 finished with value: 4627136453.0803995 and parameters: {'criterion': 'poisson', 'max_depth': None, 'min_samples_split': 3, 'min_samples_leaf': 14, 'min_weight_fraction_leaf': 0.0022337914006896097, 'max_features': 'sqrt', 'max_leaf_nodes': 100, 'min_impurity_decrease': 0.006135551720895618, 'ccp_alpha': 0.0014644888517110876}. Best is trial 0 with value: 4203536204.5373363.\n",
      "[I 2024-11-27 21:32:32,050] Trial 2 finished with value: 4124412266.7928047 and parameters: {'criterion': 'poisson', 'max_depth': None, 'min_samples_split': 2, 'min_samples_leaf': 14, 'min_weight_fraction_leaf': 0.009171857486135405, 'max_features': None, 'max_leaf_nodes': None, 'min_impurity_decrease': 0.0013147469010358925, 'ccp_alpha': 0.007800539551670553}. Best is trial 2 with value: 4124412266.7928047.\n",
      "[I 2024-11-27 21:32:33,268] Trial 3 finished with value: 4477870309.915746 and parameters: {'criterion': 'absolute_error', 'max_depth': None, 'min_samples_split': 3, 'min_samples_leaf': 20, 'min_weight_fraction_leaf': 0.002181769816802617, 'max_features': 'log2', 'max_leaf_nodes': None, 'min_impurity_decrease': 0.004659797342854171, 'ccp_alpha': 0.00477302208093253}. Best is trial 2 with value: 4124412266.7928047.\n",
      "[I 2024-11-27 21:32:33,304] Trial 4 finished with value: 4764778740.771176 and parameters: {'criterion': 'friedman_mse', 'max_depth': 10, 'min_samples_split': 2, 'min_samples_leaf': 14, 'min_weight_fraction_leaf': 0.004596241346017457, 'max_features': 'sqrt', 'max_leaf_nodes': None, 'min_impurity_decrease': 0.002717704749585125, 'ccp_alpha': 0.009266696475740495}. Best is trial 2 with value: 4124412266.7928047.\n",
      "[I 2024-11-27 21:32:33,340] Trial 5 finished with value: 4873229737.427659 and parameters: {'criterion': 'squared_error', 'max_depth': 10, 'min_samples_split': 2, 'min_samples_leaf': 20, 'min_weight_fraction_leaf': 0.0069383549833694925, 'max_features': 'sqrt', 'max_leaf_nodes': None, 'min_impurity_decrease': 0.0019657048601579084, 'ccp_alpha': 0.017117146835335762}. Best is trial 2 with value: 4124412266.7928047.\n",
      "[I 2024-11-27 21:32:33,377] Trial 6 finished with value: 4690278182.085835 and parameters: {'criterion': 'squared_error', 'max_depth': None, 'min_samples_split': 2, 'min_samples_leaf': 20, 'min_weight_fraction_leaf': 0.005496228818487749, 'max_features': 'sqrt', 'max_leaf_nodes': None, 'min_impurity_decrease': 0.004326528385093771, 'ccp_alpha': 0.01948496825022371}. Best is trial 2 with value: 4124412266.7928047.\n",
      "[I 2024-11-27 21:32:33,443] Trial 7 finished with value: 3929423118.9387727 and parameters: {'criterion': 'squared_error', 'max_depth': 10, 'min_samples_split': 2, 'min_samples_leaf': 14, 'min_weight_fraction_leaf': 0.005161765516207045, 'max_features': None, 'max_leaf_nodes': 150, 'min_impurity_decrease': 0.0028443020861631117, 'ccp_alpha': 0.016778305145480506}. Best is trial 7 with value: 3929423118.9387727.\n",
      "[I 2024-11-27 21:32:33,511] Trial 8 finished with value: 3973021986.0850177 and parameters: {'criterion': 'poisson', 'max_depth': None, 'min_samples_split': 2, 'min_samples_leaf': 20, 'min_weight_fraction_leaf': 0.0059127794597184655, 'max_features': None, 'max_leaf_nodes': 100, 'min_impurity_decrease': 0.005471237550204754, 'ccp_alpha': 0.018627460291900832}. Best is trial 7 with value: 3929423118.9387727.\n",
      "[I 2024-11-27 21:32:33,578] Trial 9 finished with value: 4170156035.466681 and parameters: {'criterion': 'friedman_mse', 'max_depth': None, 'min_samples_split': 2, 'min_samples_leaf': 20, 'min_weight_fraction_leaf': 0.008430334029017345, 'max_features': None, 'max_leaf_nodes': 150, 'min_impurity_decrease': 0.008049111621790643, 'ccp_alpha': 0.004311431004219482}. Best is trial 7 with value: 3929423118.9387727.\n",
      "[I 2024-11-27 21:32:33,627] Trial 10 finished with value: 4378444943.574311 and parameters: {'criterion': 'squared_error', 'max_depth': 10, 'min_samples_split': 3, 'min_samples_leaf': 1, 'min_weight_fraction_leaf': 0.000477933814950089, 'max_features': 'log2', 'max_leaf_nodes': 150, 'min_impurity_decrease': 0.0002061556988927904, 'ccp_alpha': 0.01450921880135864}. Best is trial 7 with value: 3929423118.9387727.\n",
      "[I 2024-11-27 21:32:33,708] Trial 11 finished with value: 3933814125.6318536 and parameters: {'criterion': 'poisson', 'max_depth': 10, 'min_samples_split': 2, 'min_samples_leaf': 14, 'min_weight_fraction_leaf': 0.004989903297546247, 'max_features': None, 'max_leaf_nodes': 100, 'min_impurity_decrease': 0.007907714101456123, 'ccp_alpha': 0.013875773827968192}. Best is trial 7 with value: 3929423118.9387727.\n",
      "[I 2024-11-27 21:32:36,228] Trial 12 finished with value: 4089484945.6399894 and parameters: {'criterion': 'absolute_error', 'max_depth': 10, 'min_samples_split': 2, 'min_samples_leaf': 14, 'min_weight_fraction_leaf': 0.003892293268760098, 'max_features': None, 'max_leaf_nodes': 100, 'min_impurity_decrease': 0.009826926933955737, 'ccp_alpha': 0.013598765206563243}. Best is trial 7 with value: 3929423118.9387727.\n",
      "[I 2024-11-27 21:32:36,318] Trial 13 finished with value: 3750714067.4840145 and parameters: {'criterion': 'poisson', 'max_depth': 10, 'min_samples_split': 2, 'min_samples_leaf': 14, 'min_weight_fraction_leaf': 0.003404408678652684, 'max_features': None, 'max_leaf_nodes': 150, 'min_impurity_decrease': 0.00740567155562777, 'ccp_alpha': 0.01289657376368988}. Best is trial 13 with value: 3750714067.4840145.\n",
      "[I 2024-11-27 21:32:36,397] Trial 14 finished with value: 3809597487.2166157 and parameters: {'criterion': 'squared_error', 'max_depth': 10, 'min_samples_split': 3, 'min_samples_leaf': 14, 'min_weight_fraction_leaf': 0.002725028199618278, 'max_features': None, 'max_leaf_nodes': 150, 'min_impurity_decrease': 0.003229722588280924, 'ccp_alpha': 0.011511289574075927}. Best is trial 13 with value: 3750714067.4840145.\n",
      "[I 2024-11-27 21:32:36,475] Trial 15 finished with value: 3701507189.608818 and parameters: {'criterion': 'poisson', 'max_depth': 10, 'min_samples_split': 3, 'min_samples_leaf': 14, 'min_weight_fraction_leaf': 0.0029886367230347773, 'max_features': None, 'max_leaf_nodes': 150, 'min_impurity_decrease': 0.007722417526392494, 'ccp_alpha': 0.0114060332209524}. Best is trial 15 with value: 3701507189.608818.\n",
      "[I 2024-11-27 21:32:36,524] Trial 16 finished with value: 4559702489.992297 and parameters: {'criterion': 'poisson', 'max_depth': 10, 'min_samples_split': 3, 'min_samples_leaf': 14, 'min_weight_fraction_leaf': 1.7916299362894482e-05, 'max_features': 'log2', 'max_leaf_nodes': 150, 'min_impurity_decrease': 0.006997847922858579, 'ccp_alpha': 0.011361238458718427}. Best is trial 15 with value: 3701507189.608818.\n",
      "[I 2024-11-27 21:32:36,603] Trial 17 finished with value: 3701422051.485131 and parameters: {'criterion': 'poisson', 'max_depth': 10, 'min_samples_split': 3, 'min_samples_leaf': 1, 'min_weight_fraction_leaf': 0.0030407156276158432, 'max_features': None, 'max_leaf_nodes': 150, 'min_impurity_decrease': 0.009290218966918977, 'ccp_alpha': 0.007404868762770636}. Best is trial 17 with value: 3701422051.485131.\n",
      "[I 2024-11-27 21:32:36,692] Trial 18 finished with value: 3644918745.0979085 and parameters: {'criterion': 'poisson', 'max_depth': 10, 'min_samples_split': 3, 'min_samples_leaf': 1, 'min_weight_fraction_leaf': 0.0013711930388615342, 'max_features': None, 'max_leaf_nodes': 150, 'min_impurity_decrease': 0.009831665332904048, 'ccp_alpha': 0.007307212581604771}. Best is trial 18 with value: 3644918745.0979085.\n",
      "[I 2024-11-27 21:32:36,751] Trial 19 finished with value: 4559702489.992297 and parameters: {'criterion': 'poisson', 'max_depth': 10, 'min_samples_split': 3, 'min_samples_leaf': 1, 'min_weight_fraction_leaf': 0.0014188004462455596, 'max_features': 'log2', 'max_leaf_nodes': 150, 'min_impurity_decrease': 0.009907856989419832, 'ccp_alpha': 0.007001524116616011}. Best is trial 18 with value: 3644918745.0979085.\n",
      "[I 2024-11-27 21:32:39,262] Trial 20 finished with value: 3975875181.3493867 and parameters: {'criterion': 'absolute_error', 'max_depth': 10, 'min_samples_split': 3, 'min_samples_leaf': 1, 'min_weight_fraction_leaf': 0.0010157835808588258, 'max_features': None, 'max_leaf_nodes': 150, 'min_impurity_decrease': 0.009039272342086716, 'ccp_alpha': 0.004877309708960149}. Best is trial 18 with value: 3644918745.0979085.\n",
      "[I 2024-11-27 21:32:39,351] Trial 21 finished with value: 3729994497.320122 and parameters: {'criterion': 'poisson', 'max_depth': 10, 'min_samples_split': 3, 'min_samples_leaf': 1, 'min_weight_fraction_leaf': 0.0032361465297816782, 'max_features': None, 'max_leaf_nodes': 150, 'min_impurity_decrease': 0.008964980722880008, 'ccp_alpha': 0.008996587813721505}. Best is trial 18 with value: 3644918745.0979085.\n",
      "[I 2024-11-27 21:32:39,441] Trial 22 finished with value: 3681189510.9164357 and parameters: {'criterion': 'poisson', 'max_depth': 10, 'min_samples_split': 3, 'min_samples_leaf': 1, 'min_weight_fraction_leaf': 0.0017230940902365557, 'max_features': None, 'max_leaf_nodes': 150, 'min_impurity_decrease': 0.008739408655637333, 'ccp_alpha': 0.006967462556273708}. Best is trial 18 with value: 3644918745.0979085.\n",
      "[I 2024-11-27 21:32:39,532] Trial 23 finished with value: 3660435200.0358977 and parameters: {'criterion': 'poisson', 'max_depth': 10, 'min_samples_split': 3, 'min_samples_leaf': 1, 'min_weight_fraction_leaf': 0.0013522720889291113, 'max_features': None, 'max_leaf_nodes': 150, 'min_impurity_decrease': 0.00892218339754785, 'ccp_alpha': 0.006695640475901698}. Best is trial 18 with value: 3644918745.0979085.\n",
      "[I 2024-11-27 21:32:39,624] Trial 24 finished with value: 3660435200.0358977 and parameters: {'criterion': 'poisson', 'max_depth': 10, 'min_samples_split': 3, 'min_samples_leaf': 1, 'min_weight_fraction_leaf': 0.00131829516936631, 'max_features': None, 'max_leaf_nodes': 150, 'min_impurity_decrease': 0.006550464267920026, 'ccp_alpha': 0.005970826805715515}. Best is trial 18 with value: 3644918745.0979085.\n",
      "[I 2024-11-27 21:32:39,713] Trial 25 finished with value: 3715612052.5102496 and parameters: {'criterion': 'poisson', 'max_depth': 10, 'min_samples_split': 3, 'min_samples_leaf': 1, 'min_weight_fraction_leaf': 0.0007430619856379093, 'max_features': None, 'max_leaf_nodes': 150, 'min_impurity_decrease': 0.006510194564209313, 'ccp_alpha': 0.0034127031861977105}. Best is trial 18 with value: 3644918745.0979085.\n",
      "[I 2024-11-27 21:32:39,804] Trial 26 finished with value: 3676044318.5182076 and parameters: {'criterion': 'poisson', 'max_depth': 10, 'min_samples_split': 3, 'min_samples_leaf': 1, 'min_weight_fraction_leaf': 0.0016151853369837145, 'max_features': None, 'max_leaf_nodes': 150, 'min_impurity_decrease': 0.008508235357632768, 'ccp_alpha': 0.005549642462736765}. Best is trial 18 with value: 3644918745.0979085.\n",
      "[I 2024-11-27 21:32:39,895] Trial 27 finished with value: 3879383136.6459827 and parameters: {'criterion': 'poisson', 'max_depth': 10, 'min_samples_split': 3, 'min_samples_leaf': 1, 'min_weight_fraction_leaf': 2.093540718780835e-06, 'max_features': None, 'max_leaf_nodes': 150, 'min_impurity_decrease': 0.00708988287930589, 'ccp_alpha': 0.003066891263953918}. Best is trial 18 with value: 3644918745.0979085.\n",
      "[I 2024-11-27 21:32:39,945] Trial 28 finished with value: 4544747824.932916 and parameters: {'criterion': 'friedman_mse', 'max_depth': 10, 'min_samples_split': 3, 'min_samples_leaf': 1, 'min_weight_fraction_leaf': 0.002103529834892409, 'max_features': 'log2', 'max_leaf_nodes': 100, 'min_impurity_decrease': 0.009972069625682797, 'ccp_alpha': 0.0061063625009352565}. Best is trial 18 with value: 3644918745.0979085.\n",
      "[I 2024-11-27 21:32:39,994] Trial 29 finished with value: 4624755283.41777 and parameters: {'criterion': 'friedman_mse', 'max_depth': 10, 'min_samples_split': 3, 'min_samples_leaf': 1, 'min_weight_fraction_leaf': 0.003939570163596637, 'max_features': 'sqrt', 'max_leaf_nodes': 150, 'min_impurity_decrease': 0.005570591773161845, 'ccp_alpha': 0.0002693846394628413}. Best is trial 18 with value: 3644918745.0979085.\n",
      "[I 2024-11-27 21:32:42,490] Trial 30 finished with value: 3975875181.3493867 and parameters: {'criterion': 'absolute_error', 'max_depth': 10, 'min_samples_split': 3, 'min_samples_leaf': 1, 'min_weight_fraction_leaf': 0.0009539324895750671, 'max_features': None, 'max_leaf_nodes': 150, 'min_impurity_decrease': 0.00835385837178236, 'ccp_alpha': 0.008483057232252234}. Best is trial 18 with value: 3644918745.0979085.\n",
      "[I 2024-11-27 21:32:42,581] Trial 31 finished with value: 3676044318.5182076 and parameters: {'criterion': 'poisson', 'max_depth': 10, 'min_samples_split': 3, 'min_samples_leaf': 1, 'min_weight_fraction_leaf': 0.0016027171829537214, 'max_features': None, 'max_leaf_nodes': 150, 'min_impurity_decrease': 0.008561942852251918, 'ccp_alpha': 0.005894048448966201}. Best is trial 18 with value: 3644918745.0979085.\n",
      "[I 2024-11-27 21:32:42,671] Trial 32 finished with value: 3660435200.0358977 and parameters: {'criterion': 'poisson', 'max_depth': 10, 'min_samples_split': 3, 'min_samples_leaf': 1, 'min_weight_fraction_leaf': 0.0013274069452776747, 'max_features': None, 'max_leaf_nodes': 150, 'min_impurity_decrease': 0.006518158295507678, 'ccp_alpha': 0.0027756429501474664}. Best is trial 18 with value: 3644918745.0979085.\n",
      "[I 2024-11-27 21:32:42,761] Trial 33 finished with value: 3659682774.844111 and parameters: {'criterion': 'poisson', 'max_depth': 10, 'min_samples_split': 3, 'min_samples_leaf': 1, 'min_weight_fraction_leaf': 0.0021750110912828347, 'max_features': None, 'max_leaf_nodes': 150, 'min_impurity_decrease': 0.00639840571118954, 'ccp_alpha': 0.001705997520210674}. Best is trial 18 with value: 3644918745.0979085.\n",
      "[I 2024-11-27 21:32:42,853] Trial 34 finished with value: 3641931913.031517 and parameters: {'criterion': 'poisson', 'max_depth': None, 'min_samples_split': 3, 'min_samples_leaf': 1, 'min_weight_fraction_leaf': 0.0024304549718381996, 'max_features': None, 'max_leaf_nodes': 150, 'min_impurity_decrease': 0.004266690743816488, 'ccp_alpha': 0.0018586762859756504}. Best is trial 34 with value: 3641931913.031517.\n",
      "[I 2024-11-27 21:32:42,944] Trial 35 finished with value: 3515929687.1764264 and parameters: {'criterion': 'poisson', 'max_depth': None, 'min_samples_split': 3, 'min_samples_leaf': 1, 'min_weight_fraction_leaf': 0.0022894364777291307, 'max_features': None, 'max_leaf_nodes': None, 'min_impurity_decrease': 0.00368170443324404, 'ccp_alpha': 0.0012219581201534466}. Best is trial 35 with value: 3515929687.1764264.\n",
      "[I 2024-11-27 21:32:43,004] Trial 36 finished with value: 4408531128.349444 and parameters: {'criterion': 'poisson', 'max_depth': None, 'min_samples_split': 3, 'min_samples_leaf': 1, 'min_weight_fraction_leaf': 0.002633804296291239, 'max_features': 'sqrt', 'max_leaf_nodes': None, 'min_impurity_decrease': 0.003600083068170073, 'ccp_alpha': 0.001166264060503342}. Best is trial 35 with value: 3515929687.1764264.\n",
      "[I 2024-11-27 21:32:43,094] Trial 37 finished with value: 3515929687.1764264 and parameters: {'criterion': 'poisson', 'max_depth': None, 'min_samples_split': 3, 'min_samples_leaf': 1, 'min_weight_fraction_leaf': 0.00225916227358262, 'max_features': None, 'max_leaf_nodes': None, 'min_impurity_decrease': 0.004338301171557603, 'ccp_alpha': 0.0021087359291816327}. Best is trial 35 with value: 3515929687.1764264.\n",
      "[I 2024-11-27 21:32:44,275] Trial 38 finished with value: 4795047814.47474 and parameters: {'criterion': 'absolute_error', 'max_depth': None, 'min_samples_split': 3, 'min_samples_leaf': 1, 'min_weight_fraction_leaf': 0.004047749992575931, 'max_features': 'sqrt', 'max_leaf_nodes': None, 'min_impurity_decrease': 0.004186660783746048, 'ccp_alpha': 0.00025138850586759994}. Best is trial 35 with value: 3515929687.1764264.\n",
      "[I 2024-11-27 21:32:44,365] Trial 39 finished with value: 4071832416.3876686 and parameters: {'criterion': 'friedman_mse', 'max_depth': None, 'min_samples_split': 3, 'min_samples_leaf': 20, 'min_weight_fraction_leaf': 0.006555775224096843, 'max_features': None, 'max_leaf_nodes': None, 'min_impurity_decrease': 0.004856465475459206, 'ccp_alpha': 0.001582852600358561}. Best is trial 35 with value: 3515929687.1764264.\n",
      "[I 2024-11-27 21:32:44,425] Trial 40 finished with value: 4488545351.757678 and parameters: {'criterion': 'poisson', 'max_depth': None, 'min_samples_split': 3, 'min_samples_leaf': 1, 'min_weight_fraction_leaf': 0.0025027834163899123, 'max_features': 'log2', 'max_leaf_nodes': None, 'min_impurity_decrease': 0.0021688278565694325, 'ccp_alpha': 0.003956759644856407}. Best is trial 35 with value: 3515929687.1764264.\n",
      "[I 2024-11-27 21:32:44,517] Trial 41 finished with value: 3506660596.7755437 and parameters: {'criterion': 'poisson', 'max_depth': None, 'min_samples_split': 3, 'min_samples_leaf': 1, 'min_weight_fraction_leaf': 0.002045816750770811, 'max_features': None, 'max_leaf_nodes': None, 'min_impurity_decrease': 0.0037020375954336026, 'ccp_alpha': 0.0019887810859644216}. Best is trial 41 with value: 3506660596.7755437.\n",
      "[I 2024-11-27 21:32:44,619] Trial 42 finished with value: 3501167934.078182 and parameters: {'criterion': 'poisson', 'max_depth': None, 'min_samples_split': 3, 'min_samples_leaf': 1, 'min_weight_fraction_leaf': 0.0021852393337564923, 'max_features': None, 'max_leaf_nodes': None, 'min_impurity_decrease': 0.003991299697495785, 'ccp_alpha': 0.0023938289129879597}. Best is trial 42 with value: 3501167934.078182.\n",
      "[I 2024-11-27 21:32:44,721] Trial 43 finished with value: 3506660596.7755437 and parameters: {'criterion': 'poisson', 'max_depth': None, 'min_samples_split': 3, 'min_samples_leaf': 1, 'min_weight_fraction_leaf': 0.0020711639140785485, 'max_features': None, 'max_leaf_nodes': None, 'min_impurity_decrease': 0.003894010216374524, 'ccp_alpha': 0.002312629111109273}. Best is trial 42 with value: 3501167934.078182.\n",
      "[I 2024-11-27 21:32:44,801] Trial 44 finished with value: 3760200207.3272815 and parameters: {'criterion': 'squared_error', 'max_depth': None, 'min_samples_split': 3, 'min_samples_leaf': 20, 'min_weight_fraction_leaf': 0.0035318132515986802, 'max_features': None, 'max_leaf_nodes': None, 'min_impurity_decrease': 0.0037567139119421365, 'ccp_alpha': 0.002917638738248086}. Best is trial 42 with value: 3501167934.078182.\n",
      "[I 2024-11-27 21:32:44,882] Trial 45 finished with value: 3800958276.4477277 and parameters: {'criterion': 'poisson', 'max_depth': None, 'min_samples_split': 3, 'min_samples_leaf': 1, 'min_weight_fraction_leaf': 0.004615082738141573, 'max_features': None, 'max_leaf_nodes': None, 'min_impurity_decrease': 0.0025364891629206855, 'ccp_alpha': 0.002326139932069479}. Best is trial 42 with value: 3501167934.078182.\n",
      "[I 2024-11-27 21:32:44,932] Trial 46 finished with value: 5038784966.915056 and parameters: {'criterion': 'poisson', 'max_depth': None, 'min_samples_split': 3, 'min_samples_leaf': 1, 'min_weight_fraction_leaf': 0.008900383049675477, 'max_features': 'sqrt', 'max_leaf_nodes': None, 'min_impurity_decrease': 0.0012724575787089127, 'ccp_alpha': 0.0007914911956151361}. Best is trial 42 with value: 3501167934.078182.\n",
      "[I 2024-11-27 21:32:45,023] Trial 47 finished with value: 3506660596.7755437 and parameters: {'criterion': 'poisson', 'max_depth': None, 'min_samples_split': 3, 'min_samples_leaf': 20, 'min_weight_fraction_leaf': 0.002014979010666396, 'max_features': None, 'max_leaf_nodes': None, 'min_impurity_decrease': 0.005126267732581232, 'ccp_alpha': 0.004017257190025524}. Best is trial 42 with value: 3501167934.078182.\n",
      "[I 2024-11-27 21:32:45,114] Trial 48 finished with value: 3663638436.1626534 and parameters: {'criterion': 'squared_error', 'max_depth': None, 'min_samples_split': 3, 'min_samples_leaf': 20, 'min_weight_fraction_leaf': 0.002058574881433851, 'max_features': None, 'max_leaf_nodes': None, 'min_impurity_decrease': 0.005728152723290091, 'ccp_alpha': 0.004219141747139163}. Best is trial 42 with value: 3501167934.078182.\n",
      "[I 2024-11-27 21:32:45,195] Trial 49 finished with value: 4074014146.231991 and parameters: {'criterion': 'poisson', 'max_depth': None, 'min_samples_split': 2, 'min_samples_leaf': 20, 'min_weight_fraction_leaf': 0.008227838753246584, 'max_features': None, 'max_leaf_nodes': None, 'min_impurity_decrease': 0.005221359348609713, 'ccp_alpha': 0.0001620026619587097}. Best is trial 42 with value: 3501167934.078182.\n",
      "[I 2024-11-27 21:32:45,267] Trial 50 finished with value: 4252053684.6357408 and parameters: {'criterion': 'friedman_mse', 'max_depth': None, 'min_samples_split': 3, 'min_samples_leaf': 20, 'min_weight_fraction_leaf': 0.009642459232966038, 'max_features': None, 'max_leaf_nodes': None, 'min_impurity_decrease': 0.003369984167303382, 'ccp_alpha': 0.004819289789581906}. Best is trial 42 with value: 3501167934.078182.\n",
      "[I 2024-11-27 21:32:45,359] Trial 51 finished with value: 3506660596.7755437 and parameters: {'criterion': 'poisson', 'max_depth': None, 'min_samples_split': 3, 'min_samples_leaf': 20, 'min_weight_fraction_leaf': 0.0004632429239421537, 'max_features': None, 'max_leaf_nodes': None, 'min_impurity_decrease': 0.004626754650274471, 'ccp_alpha': 0.0022156133602312215}. Best is trial 42 with value: 3501167934.078182.\n",
      "[I 2024-11-27 21:32:45,449] Trial 52 finished with value: 3506660596.7755437 and parameters: {'criterion': 'poisson', 'max_depth': None, 'min_samples_split': 3, 'min_samples_leaf': 20, 'min_weight_fraction_leaf': 0.00031616596942014657, 'max_features': None, 'max_leaf_nodes': None, 'min_impurity_decrease': 0.004719398741761104, 'ccp_alpha': 0.003724749677462614}. Best is trial 42 with value: 3501167934.078182.\n",
      "[I 2024-11-27 21:32:45,541] Trial 53 finished with value: 3506660596.7755437 and parameters: {'criterion': 'poisson', 'max_depth': None, 'min_samples_split': 3, 'min_samples_leaf': 20, 'min_weight_fraction_leaf': 0.0003057335519072171, 'max_features': None, 'max_leaf_nodes': None, 'min_impurity_decrease': 0.004750547913232863, 'ccp_alpha': 0.0037396186663806227}. Best is trial 42 with value: 3501167934.078182.\n",
      "[I 2024-11-27 21:32:45,632] Trial 54 finished with value: 3506660596.7755437 and parameters: {'criterion': 'poisson', 'max_depth': None, 'min_samples_split': 3, 'min_samples_leaf': 20, 'min_weight_fraction_leaf': 0.0005608509634285207, 'max_features': None, 'max_leaf_nodes': None, 'min_impurity_decrease': 0.005848917876106844, 'ccp_alpha': 0.0032803017971516943}. Best is trial 42 with value: 3501167934.078182.\n",
      "[I 2024-11-27 21:32:45,692] Trial 55 finished with value: 4370716708.569444 and parameters: {'criterion': 'poisson', 'max_depth': None, 'min_samples_split': 3, 'min_samples_leaf': 20, 'min_weight_fraction_leaf': 0.0008753545405753406, 'max_features': 'log2', 'max_leaf_nodes': None, 'min_impurity_decrease': 0.005122791578974093, 'ccp_alpha': 0.0025692228813923705}. Best is trial 42 with value: 3501167934.078182.\n",
      "[I 2024-11-27 21:32:48,212] Trial 56 finished with value: 3772187324.091006 and parameters: {'criterion': 'absolute_error', 'max_depth': None, 'min_samples_split': 3, 'min_samples_leaf': 20, 'min_weight_fraction_leaf': 0.00038289501777946655, 'max_features': None, 'max_leaf_nodes': None, 'min_impurity_decrease': 0.0031543316884893383, 'ccp_alpha': 0.004809179762371423}. Best is trial 42 with value: 3501167934.078182.\n",
      "[I 2024-11-27 21:32:48,304] Trial 57 finished with value: 3600078197.1757126 and parameters: {'criterion': 'poisson', 'max_depth': None, 'min_samples_split': 3, 'min_samples_leaf': 20, 'min_weight_fraction_leaf': 0.0029431679542587384, 'max_features': None, 'max_leaf_nodes': None, 'min_impurity_decrease': 0.004015625475878251, 'ccp_alpha': 0.0009589449429207096}. Best is trial 42 with value: 3501167934.078182.\n",
      "[I 2024-11-27 21:32:48,375] Trial 58 finished with value: 3872782533.670032 and parameters: {'criterion': 'squared_error', 'max_depth': None, 'min_samples_split': 2, 'min_samples_leaf': 20, 'min_weight_fraction_leaf': 0.0017328572188275541, 'max_features': None, 'max_leaf_nodes': 100, 'min_impurity_decrease': 0.00452682874280371, 'ccp_alpha': 0.015315195806244226}. Best is trial 42 with value: 3501167934.078182.\n",
      "[I 2024-11-27 21:32:48,476] Trial 59 finished with value: 3506660596.7755437 and parameters: {'criterion': 'poisson', 'max_depth': None, 'min_samples_split': 3, 'min_samples_leaf': 20, 'min_weight_fraction_leaf': 0.001027372079111187, 'max_features': None, 'max_leaf_nodes': None, 'min_impurity_decrease': 0.002957353615045421, 'ccp_alpha': 0.004261355330588209}. Best is trial 42 with value: 3501167934.078182.\n",
      "[I 2024-11-27 21:32:48,536] Trial 60 finished with value: 4370716708.569444 and parameters: {'criterion': 'poisson', 'max_depth': None, 'min_samples_split': 3, 'min_samples_leaf': 20, 'min_weight_fraction_leaf': 0.0018846040361243487, 'max_features': 'sqrt', 'max_leaf_nodes': None, 'min_impurity_decrease': 0.006055160405574062, 'ccp_alpha': 0.005203655851969566}. Best is trial 42 with value: 3501167934.078182.\n",
      "[I 2024-11-27 21:32:48,628] Trial 61 finished with value: 3506660596.7755437 and parameters: {'criterion': 'poisson', 'max_depth': None, 'min_samples_split': 3, 'min_samples_leaf': 20, 'min_weight_fraction_leaf': 0.0007331188688059181, 'max_features': None, 'max_leaf_nodes': None, 'min_impurity_decrease': 0.004637451474749549, 'ccp_alpha': 0.003680162655720978}. Best is trial 42 with value: 3501167934.078182.\n",
      "[I 2024-11-27 21:32:48,719] Trial 62 finished with value: 3506660596.7755437 and parameters: {'criterion': 'poisson', 'max_depth': None, 'min_samples_split': 3, 'min_samples_leaf': 20, 'min_weight_fraction_leaf': 0.00037864413408270656, 'max_features': None, 'max_leaf_nodes': None, 'min_impurity_decrease': 0.0048749641942937285, 'ccp_alpha': 0.003745292558418562}. Best is trial 42 with value: 3501167934.078182.\n",
      "[I 2024-11-27 21:32:48,810] Trial 63 finished with value: 3506660596.7755437 and parameters: {'criterion': 'poisson', 'max_depth': None, 'min_samples_split': 3, 'min_samples_leaf': 20, 'min_weight_fraction_leaf': 0.0002705743409659139, 'max_features': None, 'max_leaf_nodes': None, 'min_impurity_decrease': 0.00397145963340359, 'ccp_alpha': 0.0031544485849839573}. Best is trial 42 with value: 3501167934.078182.\n",
      "[I 2024-11-27 21:32:48,912] Trial 64 finished with value: 3427713739.073849 and parameters: {'criterion': 'poisson', 'max_depth': None, 'min_samples_split': 3, 'min_samples_leaf': 14, 'min_weight_fraction_leaf': 0.00022283123125584406, 'max_features': None, 'max_leaf_nodes': None, 'min_impurity_decrease': 0.005272351629806515, 'ccp_alpha': 0.0022262518225208174}. Best is trial 64 with value: 3427713739.073849.\n",
      "[I 2024-11-27 21:32:49,013] Trial 65 finished with value: 3427713739.073849 and parameters: {'criterion': 'poisson', 'max_depth': None, 'min_samples_split': 3, 'min_samples_leaf': 14, 'min_weight_fraction_leaf': 1.3612222080716207e-06, 'max_features': None, 'max_leaf_nodes': None, 'min_impurity_decrease': 0.005381796550310013, 'ccp_alpha': 0.002239297335762686}. Best is trial 64 with value: 3427713739.073849.\n",
      "[I 2024-11-27 21:32:49,105] Trial 66 finished with value: 3769082795.4396195 and parameters: {'criterion': 'poisson', 'max_depth': None, 'min_samples_split': 3, 'min_samples_leaf': 14, 'min_weight_fraction_leaf': 2.7083137631942936e-05, 'max_features': None, 'max_leaf_nodes': 100, 'min_impurity_decrease': 0.005464257973585959, 'ccp_alpha': 0.0017720055415514952}. Best is trial 64 with value: 3427713739.073849.\n",
      "[I 2024-11-27 21:32:49,166] Trial 67 finished with value: 4585271419.569037 and parameters: {'criterion': 'poisson', 'max_depth': None, 'min_samples_split': 3, 'min_samples_leaf': 14, 'min_weight_fraction_leaf': 0.0010875257497605754, 'max_features': 'log2', 'max_leaf_nodes': None, 'min_impurity_decrease': 0.005141089208272525, 'ccp_alpha': 0.0023829650981204093}. Best is trial 64 with value: 3427713739.073849.\n",
      "[I 2024-11-27 21:32:49,257] Trial 68 finished with value: 3581329134.8080597 and parameters: {'criterion': 'poisson', 'max_depth': None, 'min_samples_split': 3, 'min_samples_leaf': 14, 'min_weight_fraction_leaf': 0.0027926785406270707, 'max_features': None, 'max_leaf_nodes': None, 'min_impurity_decrease': 0.006076023207681601, 'ccp_alpha': 0.0008398001601887908}. Best is trial 64 with value: 3427713739.073849.\n",
      "[I 2024-11-27 21:32:51,734] Trial 69 finished with value: 3839095845.097675 and parameters: {'criterion': 'absolute_error', 'max_depth': None, 'min_samples_split': 3, 'min_samples_leaf': 14, 'min_weight_fraction_leaf': 0.0032286234558989166, 'max_features': None, 'max_leaf_nodes': None, 'min_impurity_decrease': 0.0025761315579229008, 'ccp_alpha': 0.0022794031371551385}. Best is trial 64 with value: 3427713739.073849.\n",
      "[I 2024-11-27 21:32:51,824] Trial 70 finished with value: 3683656357.134213 and parameters: {'criterion': 'poisson', 'max_depth': None, 'min_samples_split': 3, 'min_samples_leaf': 14, 'min_weight_fraction_leaf': 0.0036332056664705693, 'max_features': None, 'max_leaf_nodes': None, 'min_impurity_decrease': 0.0033953417914165617, 'ccp_alpha': 5.155772524961626e-05}. Best is trial 64 with value: 3427713739.073849.\n",
      "[I 2024-11-27 21:32:51,917] Trial 71 finished with value: 3427705884.6115246 and parameters: {'criterion': 'poisson', 'max_depth': None, 'min_samples_split': 3, 'min_samples_leaf': 14, 'min_weight_fraction_leaf': 0.0005950955895181408, 'max_features': None, 'max_leaf_nodes': None, 'min_impurity_decrease': 0.004417709694515676, 'ccp_alpha': 0.010074886099655324}. Best is trial 71 with value: 3427705884.6115246.\n",
      "[I 2024-11-27 21:32:52,008] Trial 72 finished with value: 3427705884.6115246 and parameters: {'criterion': 'poisson', 'max_depth': None, 'min_samples_split': 3, 'min_samples_leaf': 14, 'min_weight_fraction_leaf': 0.0006767483601986674, 'max_features': None, 'max_leaf_nodes': None, 'min_impurity_decrease': 0.003934200954573729, 'ccp_alpha': 0.011960736883771396}. Best is trial 71 with value: 3427705884.6115246.\n",
      "[I 2024-11-27 21:32:52,099] Trial 73 finished with value: 3427705884.6115246 and parameters: {'criterion': 'poisson', 'max_depth': None, 'min_samples_split': 3, 'min_samples_leaf': 14, 'min_weight_fraction_leaf': 0.0011855030508459185, 'max_features': None, 'max_leaf_nodes': None, 'min_impurity_decrease': 0.0038917378962016877, 'ccp_alpha': 0.011153669071048778}. Best is trial 71 with value: 3427705884.6115246.\n",
      "[I 2024-11-27 21:32:52,201] Trial 74 finished with value: 3427705884.6115246 and parameters: {'criterion': 'poisson', 'max_depth': None, 'min_samples_split': 3, 'min_samples_leaf': 14, 'min_weight_fraction_leaf': 0.0012421893633798385, 'max_features': None, 'max_leaf_nodes': None, 'min_impurity_decrease': 0.0039498672324920344, 'ccp_alpha': 0.012762246692198217}. Best is trial 71 with value: 3427705884.6115246.\n",
      "[I 2024-11-27 21:32:52,292] Trial 75 finished with value: 3637995990.2610345 and parameters: {'criterion': 'friedman_mse', 'max_depth': None, 'min_samples_split': 3, 'min_samples_leaf': 14, 'min_weight_fraction_leaf': 0.0012049505454495813, 'max_features': None, 'max_leaf_nodes': None, 'min_impurity_decrease': 0.0043571157907676085, 'ccp_alpha': 0.01071048440285845}. Best is trial 71 with value: 3427705884.6115246.\n",
      "[I 2024-11-27 21:32:52,373] Trial 76 finished with value: 3769082795.4396195 and parameters: {'criterion': 'poisson', 'max_depth': None, 'min_samples_split': 3, 'min_samples_leaf': 14, 'min_weight_fraction_leaf': 0.0007528660289490496, 'max_features': None, 'max_leaf_nodes': 100, 'min_impurity_decrease': 0.003085386886722093, 'ccp_alpha': 0.012277659001075924}. Best is trial 71 with value: 3427705884.6115246.\n",
      "[I 2024-11-27 21:32:52,464] Trial 77 finished with value: 3476047015.3405766 and parameters: {'criterion': 'poisson', 'max_depth': None, 'min_samples_split': 3, 'min_samples_leaf': 14, 'min_weight_fraction_leaf': 0.0015001710975913068, 'max_features': None, 'max_leaf_nodes': None, 'min_impurity_decrease': 0.0035962127889737853, 'ccp_alpha': 0.010223363502325847}. Best is trial 71 with value: 3427705884.6115246.\n",
      "[I 2024-11-27 21:32:52,565] Trial 78 finished with value: 3476047015.3405766 and parameters: {'criterion': 'poisson', 'max_depth': None, 'min_samples_split': 3, 'min_samples_leaf': 14, 'min_weight_fraction_leaf': 0.0014888605751910363, 'max_features': None, 'max_leaf_nodes': None, 'min_impurity_decrease': 0.0027814633750732924, 'ccp_alpha': 0.010058220585477085}. Best is trial 71 with value: 3427705884.6115246.\n",
      "[I 2024-11-27 21:32:52,616] Trial 79 finished with value: 4246799895.128681 and parameters: {'criterion': 'squared_error', 'max_depth': None, 'min_samples_split': 3, 'min_samples_leaf': 14, 'min_weight_fraction_leaf': 0.0015174826483374416, 'max_features': 'log2', 'max_leaf_nodes': None, 'min_impurity_decrease': 0.0017779979111752988, 'ccp_alpha': 0.010040706302089218}. Best is trial 71 with value: 3427705884.6115246.\n",
      "[I 2024-11-27 21:32:52,718] Trial 80 finished with value: 3427705884.6115246 and parameters: {'criterion': 'poisson', 'max_depth': None, 'min_samples_split': 3, 'min_samples_leaf': 14, 'min_weight_fraction_leaf': 0.00012869452545672392, 'max_features': None, 'max_leaf_nodes': None, 'min_impurity_decrease': 0.0023684627592053305, 'ccp_alpha': 0.01235392975025799}. Best is trial 71 with value: 3427705884.6115246.\n",
      "[I 2024-11-27 21:32:52,810] Trial 81 finished with value: 3427705884.6115246 and parameters: {'criterion': 'poisson', 'max_depth': None, 'min_samples_split': 3, 'min_samples_leaf': 14, 'min_weight_fraction_leaf': 2.4985873747187604e-05, 'max_features': None, 'max_leaf_nodes': None, 'min_impurity_decrease': 0.0027662362873245028, 'ccp_alpha': 0.012449767437064312}. Best is trial 71 with value: 3427705884.6115246.\n",
      "[I 2024-11-27 21:32:52,901] Trial 82 finished with value: 3427705884.6115246 and parameters: {'criterion': 'poisson', 'max_depth': None, 'min_samples_split': 3, 'min_samples_leaf': 14, 'min_weight_fraction_leaf': 1.0376348140848056e-05, 'max_features': None, 'max_leaf_nodes': None, 'min_impurity_decrease': 0.0022516046220135352, 'ccp_alpha': 0.012526977016598056}. Best is trial 71 with value: 3427705884.6115246.\n",
      "[I 2024-11-27 21:32:52,992] Trial 83 finished with value: 3427705884.6115246 and parameters: {'criterion': 'poisson', 'max_depth': None, 'min_samples_split': 3, 'min_samples_leaf': 14, 'min_weight_fraction_leaf': 1.5793118903024907e-06, 'max_features': None, 'max_leaf_nodes': None, 'min_impurity_decrease': 0.0015887062933051853, 'ccp_alpha': 0.012680645569366582}. Best is trial 71 with value: 3427705884.6115246.\n",
      "[I 2024-11-27 21:32:53,093] Trial 84 finished with value: 3427705884.6115246 and parameters: {'criterion': 'poisson', 'max_depth': None, 'min_samples_split': 3, 'min_samples_leaf': 14, 'min_weight_fraction_leaf': 0.0006663807331888071, 'max_features': None, 'max_leaf_nodes': None, 'min_impurity_decrease': 0.000915556117163421, 'ccp_alpha': 0.012940821254015078}. Best is trial 71 with value: 3427705884.6115246.\n",
      "[I 2024-11-27 21:32:53,155] Trial 85 finished with value: 4585267963.240262 and parameters: {'criterion': 'poisson', 'max_depth': None, 'min_samples_split': 3, 'min_samples_leaf': 14, 'min_weight_fraction_leaf': 0.000580596598887154, 'max_features': 'sqrt', 'max_leaf_nodes': None, 'min_impurity_decrease': 0.000816609184682049, 'ccp_alpha': 0.013274434631579199}. Best is trial 71 with value: 3427705884.6115246.\n",
      "[I 2024-11-27 21:32:53,246] Trial 86 finished with value: 3427705884.6115246 and parameters: {'criterion': 'poisson', 'max_depth': None, 'min_samples_split': 3, 'min_samples_leaf': 14, 'min_weight_fraction_leaf': 0.0008128926100167285, 'max_features': None, 'max_leaf_nodes': None, 'min_impurity_decrease': 1.0196722428285564e-05, 'ccp_alpha': 0.012406176438546211}. Best is trial 71 with value: 3427705884.6115246.\n",
      "[I 2024-11-27 21:32:53,339] Trial 87 finished with value: 3427705884.6115246 and parameters: {'criterion': 'poisson', 'max_depth': None, 'min_samples_split': 3, 'min_samples_leaf': 14, 'min_weight_fraction_leaf': 0.0005947947929009476, 'max_features': None, 'max_leaf_nodes': None, 'min_impurity_decrease': 0.0015063671304834253, 'ccp_alpha': 0.014379043469544342}. Best is trial 71 with value: 3427705884.6115246.\n",
      "[I 2024-11-27 21:32:55,845] Trial 88 finished with value: 3675483983.2162127 and parameters: {'criterion': 'absolute_error', 'max_depth': None, 'min_samples_split': 3, 'min_samples_leaf': 14, 'min_weight_fraction_leaf': 0.0010433936356055908, 'max_features': None, 'max_leaf_nodes': None, 'min_impurity_decrease': 0.0006501172374471854, 'ccp_alpha': 0.011881039960843947}. Best is trial 71 with value: 3427705884.6115246.\n",
      "[I 2024-11-27 21:32:55,939] Trial 89 finished with value: 3637995990.2610345 and parameters: {'criterion': 'friedman_mse', 'max_depth': None, 'min_samples_split': 3, 'min_samples_leaf': 14, 'min_weight_fraction_leaf': 9.92137137364046e-05, 'max_features': None, 'max_leaf_nodes': None, 'min_impurity_decrease': 0.0022823034169761024, 'ccp_alpha': 0.010954196899353303}. Best is trial 71 with value: 3427705884.6115246.\n",
      "[I 2024-11-27 21:32:56,020] Trial 90 finished with value: 3769082795.4396195 and parameters: {'criterion': 'poisson', 'max_depth': None, 'min_samples_split': 3, 'min_samples_leaf': 14, 'min_weight_fraction_leaf': 0.0012318623433553448, 'max_features': None, 'max_leaf_nodes': 100, 'min_impurity_decrease': 0.0010469845609004619, 'ccp_alpha': 0.01556797730462574}. Best is trial 71 with value: 3427705884.6115246.\n",
      "[I 2024-11-27 21:32:56,111] Trial 91 finished with value: 3427705884.6115246 and parameters: {'criterion': 'poisson', 'max_depth': None, 'min_samples_split': 3, 'min_samples_leaf': 14, 'min_weight_fraction_leaf': 0.0008472957311205054, 'max_features': None, 'max_leaf_nodes': None, 'min_impurity_decrease': 0.00016149829452178477, 'ccp_alpha': 0.012681629500938112}. Best is trial 71 with value: 3427705884.6115246.\n",
      "[I 2024-11-27 21:32:56,212] Trial 92 finished with value: 3427705884.6115246 and parameters: {'criterion': 'poisson', 'max_depth': None, 'min_samples_split': 3, 'min_samples_leaf': 14, 'min_weight_fraction_leaf': 0.0007425562924570102, 'max_features': None, 'max_leaf_nodes': None, 'min_impurity_decrease': 0.0004499305620756034, 'ccp_alpha': 0.009367231393034088}. Best is trial 71 with value: 3427705884.6115246.\n",
      "[I 2024-11-27 21:32:56,304] Trial 93 finished with value: 3427705884.6115246 and parameters: {'criterion': 'poisson', 'max_depth': None, 'min_samples_split': 3, 'min_samples_leaf': 14, 'min_weight_fraction_leaf': 0.0005515551808508622, 'max_features': None, 'max_leaf_nodes': None, 'min_impurity_decrease': 0.0019504645180277846, 'ccp_alpha': 0.01376078621122293}. Best is trial 71 with value: 3427705884.6115246.\n",
      "[I 2024-11-27 21:32:56,396] Trial 94 finished with value: 3427705884.6115246 and parameters: {'criterion': 'poisson', 'max_depth': None, 'min_samples_split': 3, 'min_samples_leaf': 14, 'min_weight_fraction_leaf': 0.00024078722279079136, 'max_features': None, 'max_leaf_nodes': None, 'min_impurity_decrease': 0.0015536364769612127, 'ccp_alpha': 0.012876198370942789}. Best is trial 71 with value: 3427705884.6115246.\n",
      "[I 2024-11-27 21:32:56,478] Trial 95 finished with value: 3947428397.854774 and parameters: {'criterion': 'poisson', 'max_depth': None, 'min_samples_split': 3, 'min_samples_leaf': 14, 'min_weight_fraction_leaf': 0.005691432026067836, 'max_features': None, 'max_leaf_nodes': None, 'min_impurity_decrease': 0.0022224651069074016, 'ccp_alpha': 0.011829735415456635}. Best is trial 71 with value: 3427705884.6115246.\n",
      "[I 2024-11-27 21:32:56,581] Trial 96 finished with value: 3427705884.6115246 and parameters: {'criterion': 'poisson', 'max_depth': None, 'min_samples_split': 3, 'min_samples_leaf': 14, 'min_weight_fraction_leaf': 0.0009413352429030917, 'max_features': None, 'max_leaf_nodes': None, 'min_impurity_decrease': 0.001009694699190288, 'ccp_alpha': 0.01247533150480045}. Best is trial 71 with value: 3427705884.6115246.\n",
      "[I 2024-11-27 21:32:56,683] Trial 97 finished with value: 3427705884.6115246 and parameters: {'criterion': 'poisson', 'max_depth': None, 'min_samples_split': 2, 'min_samples_leaf': 14, 'min_weight_fraction_leaf': 0.0005480782419881184, 'max_features': None, 'max_leaf_nodes': None, 'min_impurity_decrease': 0.0005203642374741187, 'ccp_alpha': 0.013285072305237303}. Best is trial 71 with value: 3427705884.6115246.\n",
      "[I 2024-11-27 21:32:56,734] Trial 98 finished with value: 4849399823.583755 and parameters: {'criterion': 'poisson', 'max_depth': None, 'min_samples_split': 3, 'min_samples_leaf': 14, 'min_weight_fraction_leaf': 0.007912970902618992, 'max_features': 'sqrt', 'max_leaf_nodes': None, 'min_impurity_decrease': 4.489314314342652e-05, 'ccp_alpha': 0.014303003521453451}. Best is trial 71 with value: 3427705884.6115246.\n",
      "[I 2024-11-27 21:32:56,827] Trial 99 finished with value: 3637995990.2610345 and parameters: {'criterion': 'squared_error', 'max_depth': None, 'min_samples_split': 3, 'min_samples_leaf': 14, 'min_weight_fraction_leaf': 0.00019914610322270911, 'max_features': None, 'max_leaf_nodes': None, 'min_impurity_decrease': 0.002471348439554694, 'ccp_alpha': 0.012102645804629435}. Best is trial 71 with value: 3427705884.6115246.\n"
     ]
    },
    {
     "name": "stdout",
     "output_type": "stream",
     "text": [
      "Best score: 3427705884.6115246\n",
      "Best parameters: {'criterion': 'poisson', 'max_depth': None, 'min_samples_split': 3, 'min_samples_leaf': 14, 'min_weight_fraction_leaf': 0.0005950955895181408, 'max_features': None, 'max_leaf_nodes': None, 'min_impurity_decrease': 0.004417709694515676, 'ccp_alpha': 0.010074886099655324}\n"
     ]
    }
   ],
   "source": [
    "def objective(trial):\n",
    "    # For ease of comparison, these were kept similar to values for used GridSearch above.\n",
    "    # You are free to experiment further.\n",
    "    params = {\n",
    "        'criterion': trial.suggest_categorical('criterion', ['squared_error', 'friedman_mse', 'absolute_error', 'poisson']),\n",
    "        'max_depth': trial.suggest_categorical('max_depth', [None, 10]),\n",
    "        'min_samples_split': trial.suggest_int('min_samples_split', 2, 3),\n",
    "        'min_samples_leaf': trial.suggest_categorical('min_samples_leaf', [1, 14, 20]),\n",
    "        'min_weight_fraction_leaf': trial.suggest_float('min_weight_fraction_leaf', 0.0, 0.01),\n",
    "        'max_features': trial.suggest_categorical('max_features', [None, 'sqrt', 'log2']),\n",
    "        'max_leaf_nodes': trial.suggest_categorical('max_leaf_nodes', [None, 100, 150]),\n",
    "        'min_impurity_decrease': trial.suggest_float('min_impurity_decrease', 0.0, 0.01),\n",
    "        'ccp_alpha': trial.suggest_float('ccp_alpha', 0.0, 0.02)\n",
    "    }\n",
    "\n",
    "    # Create a Decision Tree Regressor with parameters to be tuned\n",
    "    model = DecisionTreeRegressor(random_state=42, **params)\n",
    "    # Use cross-validation to evaluate the model\n",
    "    scores = cross_val_score(model, X_train, y_train,\n",
    "                             cv=3, scoring='neg_mean_squared_error', n_jobs=-1)\n",
    "    # Since scores are negative mean squared error, we negate it to get positive MSE\n",
    "    mse = -scores.mean()\n",
    "    return mse\n",
    "\n",
    "\n",
    "# Create a study object that will find the hyperparameters that minimize the objective\n",
    "study = optuna.create_study(direction='minimize')\n",
    "# You can adjust the number of trials here\n",
    "study.optimize(objective, n_trials=100)\n",
    "\n",
    "# Fetch the best parameters and the best score achieved\n",
    "best_params = study.best_params\n",
    "best_score = study.best_value\n",
    "\n",
    "print(\"Best score:\", best_score)\n",
    "print(\"Best parameters:\", best_params)"
   ]
  }
 ],
 "metadata": {
  "kernelspec": {
   "display_name": "AI-ML-Bootcamp-24-25",
   "language": "python",
   "name": "python3"
  },
  "language_info": {
   "codemirror_mode": {
    "name": "ipython",
    "version": 3
   },
   "file_extension": ".py",
   "mimetype": "text/x-python",
   "name": "python",
   "nbconvert_exporter": "python",
   "pygments_lexer": "ipython3",
   "version": "3.12.4"
  }
 },
 "nbformat": 4,
 "nbformat_minor": 2
}
