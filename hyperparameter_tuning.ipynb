{
 "cells": [
  {
   "cell_type": "markdown",
   "metadata": {},
   "source": [
    "# Optimizing our Models"
   ]
  },
  {
   "cell_type": "code",
   "execution_count": 1,
   "metadata": {},
   "outputs": [],
   "source": [
    "import pandas as pd\n",
    "from sklearn.model_selection import train_test_split\n",
    "from sklearn.preprocessing import OrdinalEncoder\n",
    "from sklearn.model_selection import GridSearchCV\n",
    "import xgboost as xgb\n",
    "from sklearn.tree import DecisionTreeRegressor\n",
    "from sklearn.ensemble import RandomForestRegressor\n",
    "from sklearn.ensemble import HistGradientBoostingRegressor"
   ]
  },
  {
   "cell_type": "markdown",
   "metadata": {},
   "source": [
    "## Load and Process the Data\n",
    "This is using the same procedure as in housing_prices.ipynb. It would make sense to extract this into its own distinct process so that we didn't have to duplicate the code."
   ]
  },
  {
   "cell_type": "code",
   "execution_count": 2,
   "metadata": {},
   "outputs": [],
   "source": [
    "df = pd.read_csv('data/housing.csv')\n",
    "df = df.dropna()"
   ]
  },
  {
   "cell_type": "code",
   "execution_count": 3,
   "metadata": {},
   "outputs": [],
   "source": [
    "X = df.drop('median_house_value', axis=1)\n",
    "y = df['median_house_value']"
   ]
  },
  {
   "cell_type": "code",
   "execution_count": 4,
   "metadata": {},
   "outputs": [],
   "source": [
    "X_train, X_test, y_train, y_test = train_test_split(\n",
    "    X,\n",
    "    y,\n",
    "    test_size=0.3,\n",
    "    random_state=42)"
   ]
  },
  {
   "cell_type": "code",
   "execution_count": 5,
   "metadata": {},
   "outputs": [],
   "source": [
    "# Define the categories in the desired order for encoding\n",
    "categories = [['INLAND', '<1H OCEAN', 'NEAR OCEAN', 'NEAR BAY', 'ISLAND']]\n",
    "encoder = OrdinalEncoder(categories=categories)\n",
    "X_train['ocean_proximity'] = encoder.fit_transform(\n",
    "    X_train[['ocean_proximity']])"
   ]
  },
  {
   "cell_type": "code",
   "execution_count": 6,
   "metadata": {},
   "outputs": [
    {
     "data": {
      "text/html": [
       "<div>\n",
       "<style scoped>\n",
       "    .dataframe tbody tr th:only-of-type {\n",
       "        vertical-align: middle;\n",
       "    }\n",
       "\n",
       "    .dataframe tbody tr th {\n",
       "        vertical-align: top;\n",
       "    }\n",
       "\n",
       "    .dataframe thead th {\n",
       "        text-align: right;\n",
       "    }\n",
       "</style>\n",
       "<table border=\"1\" class=\"dataframe\">\n",
       "  <thead>\n",
       "    <tr style=\"text-align: right;\">\n",
       "      <th></th>\n",
       "      <th>longitude</th>\n",
       "      <th>latitude</th>\n",
       "      <th>housing_median_age</th>\n",
       "      <th>total_rooms</th>\n",
       "      <th>total_bedrooms</th>\n",
       "      <th>population</th>\n",
       "      <th>households</th>\n",
       "      <th>median_income</th>\n",
       "      <th>ocean_proximity</th>\n",
       "    </tr>\n",
       "  </thead>\n",
       "  <tbody>\n",
       "    <tr>\n",
       "      <th>19566</th>\n",
       "      <td>-120.96</td>\n",
       "      <td>37.61</td>\n",
       "      <td>23.0</td>\n",
       "      <td>3497.0</td>\n",
       "      <td>887.0</td>\n",
       "      <td>2467.0</td>\n",
       "      <td>816.0</td>\n",
       "      <td>1.9444</td>\n",
       "      <td>0.0</td>\n",
       "    </tr>\n",
       "    <tr>\n",
       "      <th>7292</th>\n",
       "      <td>-118.22</td>\n",
       "      <td>33.98</td>\n",
       "      <td>34.0</td>\n",
       "      <td>2225.0</td>\n",
       "      <td>753.0</td>\n",
       "      <td>2980.0</td>\n",
       "      <td>736.0</td>\n",
       "      <td>1.6685</td>\n",
       "      <td>1.0</td>\n",
       "    </tr>\n",
       "    <tr>\n",
       "      <th>17618</th>\n",
       "      <td>-121.94</td>\n",
       "      <td>37.28</td>\n",
       "      <td>27.0</td>\n",
       "      <td>2859.0</td>\n",
       "      <td>464.0</td>\n",
       "      <td>1144.0</td>\n",
       "      <td>430.0</td>\n",
       "      <td>5.0822</td>\n",
       "      <td>1.0</td>\n",
       "    </tr>\n",
       "    <tr>\n",
       "      <th>17518</th>\n",
       "      <td>-121.91</td>\n",
       "      <td>37.34</td>\n",
       "      <td>35.0</td>\n",
       "      <td>2189.0</td>\n",
       "      <td>607.0</td>\n",
       "      <td>1193.0</td>\n",
       "      <td>562.0</td>\n",
       "      <td>2.8042</td>\n",
       "      <td>1.0</td>\n",
       "    </tr>\n",
       "    <tr>\n",
       "      <th>5172</th>\n",
       "      <td>-118.28</td>\n",
       "      <td>33.95</td>\n",
       "      <td>41.0</td>\n",
       "      <td>835.0</td>\n",
       "      <td>208.0</td>\n",
       "      <td>707.0</td>\n",
       "      <td>192.0</td>\n",
       "      <td>1.4103</td>\n",
       "      <td>1.0</td>\n",
       "    </tr>\n",
       "  </tbody>\n",
       "</table>\n",
       "</div>"
      ],
      "text/plain": [
       "       longitude  latitude  housing_median_age  total_rooms  total_bedrooms  \\\n",
       "19566    -120.96     37.61                23.0       3497.0           887.0   \n",
       "7292     -118.22     33.98                34.0       2225.0           753.0   \n",
       "17618    -121.94     37.28                27.0       2859.0           464.0   \n",
       "17518    -121.91     37.34                35.0       2189.0           607.0   \n",
       "5172     -118.28     33.95                41.0        835.0           208.0   \n",
       "\n",
       "       population  households  median_income  ocean_proximity  \n",
       "19566      2467.0       816.0         1.9444              0.0  \n",
       "7292       2980.0       736.0         1.6685              1.0  \n",
       "17618      1144.0       430.0         5.0822              1.0  \n",
       "17518      1193.0       562.0         2.8042              1.0  \n",
       "5172        707.0       192.0         1.4103              1.0  "
      ]
     },
     "execution_count": 6,
     "metadata": {},
     "output_type": "execute_result"
    }
   ],
   "source": [
    "X_train.head()"
   ]
  },
  {
   "cell_type": "code",
   "execution_count": 7,
   "metadata": {},
   "outputs": [
    {
     "data": {
      "text/plain": [
       "19566     93400.0\n",
       "7292     128800.0\n",
       "17618    327500.0\n",
       "17518    240900.0\n",
       "5172      86200.0\n",
       "Name: median_house_value, dtype: float64"
      ]
     },
     "execution_count": 7,
     "metadata": {},
     "output_type": "execute_result"
    }
   ],
   "source": [
    "y_train.head()"
   ]
  },
  {
   "cell_type": "markdown",
   "metadata": {},
   "source": [
    "Encode the ocean_proximity column in our validation and test sets as well."
   ]
  },
  {
   "cell_type": "code",
   "execution_count": 8,
   "metadata": {},
   "outputs": [],
   "source": [
    "X_test['ocean_proximity'] = encoder.fit_transform(\n",
    "    X_test[['ocean_proximity']])"
   ]
  },
  {
   "cell_type": "markdown",
   "metadata": {},
   "source": [
    "## Optimize our Models with Grid Search\n",
    "https://scikit-learn.org/stable/modules/generated/sklearn.model_selection.GridSearchCV.html"
   ]
  },
  {
   "cell_type": "markdown",
   "metadata": {},
   "source": [
    "The function below performs a grid search. To use it, we will define the parameters (including the type of model we wish to optimize)."
   ]
  },
  {
   "cell_type": "code",
   "execution_count": 9,
   "metadata": {},
   "outputs": [],
   "source": [
    "def perform_grid_search(parameters):\n",
    "    results = {}\n",
    "    for name, setup in parameters.items():\n",
    "        grid_search = GridSearchCV(\n",
    "            setup['model'],\n",
    "            setup['params'],\n",
    "            cv=3,\n",
    "            scoring='neg_mean_squared_error',\n",
    "            n_jobs=-1)\n",
    "\n",
    "        grid_search.fit(X_train, y_train)\n",
    "\n",
    "        results[name] = {\n",
    "            'best_score': grid_search.best_score_,\n",
    "            'best_params': grid_search.best_params_}\n",
    "    return results\n",
    "\n",
    "\n",
    "# An example of the parameters sent to the function:\n",
    "# random_forest_params = {\n",
    "#     'RandomForest': {\n",
    "#         'model': RandomForestRegressor(random_state=42),\n",
    "#         'params': {\n",
    "#             'n_estimators': [10, 100, 400],\n",
    "#             'max_features': [None, 'sqrt', 'log2']\n",
    "#         }\n",
    "#     }\n",
    "# }"
   ]
  },
  {
   "cell_type": "markdown",
   "metadata": {},
   "source": [
    "### Sidebar: k-Fold Cross-Validation\n",
    "You may have noticed the cv=3 argument to GridSearchCV. This refers to \"cross-validation\".\n",
    "\n",
    "k-Fold Cross-Validation is a technique used to evaluate how well a machine learning model will perform on unseen data. Instead of splitting the data into just one training set and one test set, k-fold cross-validation splits the data into k equal-sized parts called folds.\n",
    "\n",
    "1. The dataset is shuffled (optional, but usually recommended) to make sure the data is randomly ordered.\n",
    "2. The data is then split into k folds (for example, if k=3, you split the data into 3 parts of roughly equal size).\n",
    "3. The model is trained k times — each time using k-1 folds for training and the remaining fold for validation.\n",
    "4. Each fold gets a turn to be the validation set exactly once.\n",
    "5. At the end, you calculate the average performance across all k runs to get a more reliable estimate of how the model performs.\n",
    "\n",
    "\n",
    "#### Example (k=3)\n",
    "\n",
    "| Fold # | Training Folds | Validation Fold |\n",
    "|---|---|---|\n",
    "| 1 | Folds 2, 3 | Fold 1 |\n",
    "| 2 | Folds 1, 3 | Fold 2 |\n",
    "| 3 | Folds 1, 2 | Fold 3 |\n",
    "\n",
    "\n",
    "\n",
    "#### Why Use k-Fold Cross-Validation?\n",
    "\n",
    "- It makes better use of your data — instead of losing data to a fixed validation set, every data point gets used for both training and validation.\n",
    "- It gives a more reliable estimate of performance, because you're testing on multiple different slices of the data.\n",
    "- It helps you detect overfitting — if the model does great on some folds but poorly on others, that's a sign the model might be too sensitive to the training data.\n",
    "\n",
    "#### k-Fold for Regression vs Classification\n",
    "\n",
    "- For regression, you can split the data into k regular folds (each fold gets a roughly equal number of samples).\n",
    "- For classification, you might want to use Stratified k-Fold. This ensures that each fold contains roughly the same proportion of each class (important if your classes are imbalanced)."
   ]
  },
  {
   "cell_type": "markdown",
   "metadata": {},
   "source": [
    "### Decision Tree"
   ]
  },
  {
   "cell_type": "code",
   "execution_count": 10,
   "metadata": {},
   "outputs": [],
   "source": [
    "decision_tree_params = {\n",
    "    'DecisionTree': {\n",
    "        'model': DecisionTreeRegressor(random_state=42),\n",
    "        'params': {\n",
    "            'criterion': ['squared_error', 'friedman_mse', 'absolute_error', 'poisson'],\n",
    "            #'splitter': ['best', 'random'],\n",
    "            'max_depth': [None, 10],\n",
    "            'min_samples_split': [2, 3],\n",
    "            'min_samples_leaf': [1, 14, 20],\n",
    "            'min_weight_fraction_leaf': [0.0, 0.01],\n",
    "            'max_features': [None, 'sqrt', 'log2'],\n",
    "            'max_leaf_nodes': [None, 100, 150],\n",
    "            'min_impurity_decrease': [0.0, 0.01],\n",
    "            'ccp_alpha': [0.0, 0.01, 0.02]\n",
    "        }\n",
    "    }\n",
    "}"
   ]
  },
  {
   "cell_type": "code",
   "execution_count": 11,
   "metadata": {},
   "outputs": [
    {
     "data": {
      "text/plain": [
       "{'DecisionTree': {'best_score': -3427705884.6115246,\n",
       "  'best_params': {'ccp_alpha': 0.0,\n",
       "   'criterion': 'poisson',\n",
       "   'max_depth': None,\n",
       "   'max_features': None,\n",
       "   'max_leaf_nodes': None,\n",
       "   'min_impurity_decrease': 0.01,\n",
       "   'min_samples_leaf': 14,\n",
       "   'min_samples_split': 2,\n",
       "   'min_weight_fraction_leaf': 0.0}}}"
      ]
     },
     "execution_count": 11,
     "metadata": {},
     "output_type": "execute_result"
    }
   ],
   "source": [
    "perform_grid_search(decision_tree_params)"
   ]
  },
  {
   "cell_type": "markdown",
   "metadata": {},
   "source": [
    "### Random Forest"
   ]
  },
  {
   "cell_type": "code",
   "execution_count": 12,
   "metadata": {},
   "outputs": [],
   "source": [
    "random_forest_params = {\n",
    "    'RandomForest': {\n",
    "        'model': RandomForestRegressor(random_state=42),\n",
    "        'params': {\n",
    "            'n_estimators': [10, 100, 400],\n",
    "            'max_features': [None, 'sqrt', 'log2']\n",
    "        }\n",
    "    }\n",
    "}"
   ]
  },
  {
   "cell_type": "code",
   "execution_count": 13,
   "metadata": {},
   "outputs": [
    {
     "data": {
      "text/plain": [
       "{'RandomForest': {'best_score': -2573219444.0531,\n",
       "  'best_params': {'max_features': 'sqrt', 'n_estimators': 400}}}"
      ]
     },
     "execution_count": 13,
     "metadata": {},
     "output_type": "execute_result"
    }
   ],
   "source": [
    "perform_grid_search(random_forest_params)"
   ]
  },
  {
   "cell_type": "markdown",
   "metadata": {},
   "source": [
    "### Gradient Boosting"
   ]
  },
  {
   "cell_type": "code",
   "execution_count": 14,
   "metadata": {},
   "outputs": [],
   "source": [
    "gradient_boosting_params = {\n",
    "    'HistGradientBoosting': {\n",
    "        'model': HistGradientBoostingRegressor(random_state=42),\n",
    "        'params': {\n",
    "            'max_iter': [50, 100, 150],\n",
    "            'learning_rate': [0.01, 0.1, 0.2]\n",
    "        }\n",
    "    }\n",
    "}"
   ]
  },
  {
   "cell_type": "code",
   "execution_count": 15,
   "metadata": {},
   "outputs": [
    {
     "data": {
      "text/plain": [
       "{'HistGradientBoosting': {'best_score': -2300070904.601216,\n",
       "  'best_params': {'learning_rate': 0.2, 'max_iter': 150}}}"
      ]
     },
     "execution_count": 15,
     "metadata": {},
     "output_type": "execute_result"
    }
   ],
   "source": [
    "perform_grid_search(gradient_boosting_params)"
   ]
  },
  {
   "cell_type": "markdown",
   "metadata": {},
   "source": [
    "### XGBoost"
   ]
  },
  {
   "cell_type": "code",
   "execution_count": 16,
   "metadata": {},
   "outputs": [],
   "source": [
    "xgboost_params = {\n",
    "    'XGBoost': {\n",
    "        'model': xgb.XGBRegressor(random_state=42, device='cuda'),\n",
    "        'params': {\n",
    "            'n_estimators': [100, 200, 300],\n",
    "            'learning_rate': [0.01, 0.1, 0.2],\n",
    "            'max_depth': [3, 6, 9],\n",
    "            'subsample': [0.5, 0.7, 1.0],\n",
    "            'colsample_bytree': [0.5, 0.7, 1.0]\n",
    "        }\n",
    "    }\n",
    "}"
   ]
  },
  {
   "cell_type": "code",
   "execution_count": 17,
   "metadata": {},
   "outputs": [
    {
     "name": "stderr",
     "output_type": "stream",
     "text": [
      "c:\\Users\\jmmck\\anaconda3\\envs\\AI-ML-Bootcamp-24-25\\Lib\\site-packages\\xgboost\\core.py:158: UserWarning: [14:57:46] WARNING: C:\\b\\abs_90_bwj_86a\\croot\\xgboost-split_1724073762025\\work\\src\\context.cc:196: XGBoost is not compiled with CUDA support.\n",
      "  warnings.warn(smsg, UserWarning)\n"
     ]
    },
    {
     "data": {
      "text/plain": [
       "{'XGBoost': {'best_score': -2265082406.696934,\n",
       "  'best_params': {'colsample_bytree': 1.0,\n",
       "   'learning_rate': 0.1,\n",
       "   'max_depth': 6,\n",
       "   'n_estimators': 300,\n",
       "   'subsample': 0.7}}}"
      ]
     },
     "execution_count": 17,
     "metadata": {},
     "output_type": "execute_result"
    }
   ],
   "source": [
    "perform_grid_search(xgboost_params)"
   ]
  },
  {
   "cell_type": "markdown",
   "metadata": {},
   "source": [
    "## Build and Evaluate Models Using Optimized Hyperparameters"
   ]
  },
  {
   "cell_type": "code",
   "execution_count": 18,
   "metadata": {},
   "outputs": [],
   "source": [
    "from sklearn.metrics import mean_squared_error, r2_score"
   ]
  },
  {
   "cell_type": "markdown",
   "metadata": {},
   "source": [
    "### Decision tree\n",
    "\n",
    "Best parameters from grid search:\n",
    "'ccp_alpha': 0.0, 'criterion': 'poisson', 'max_depth': None, 'max_features': None, 'max_leaf_nodes': None, 'min_impurity_decrease': 0.01, 'min_samples_leaf': 14, 'min_samples_split': 2, 'min_weight_fraction_leaf': 0.0"
   ]
  },
  {
   "cell_type": "code",
   "execution_count": 19,
   "metadata": {},
   "outputs": [
    {
     "name": "stdout",
     "output_type": "stream",
     "text": [
      "Decision Tree MSE: 3152051207.5525823\n",
      "Decision Treet R² Score: 0.7635535831938253\n"
     ]
    }
   ],
   "source": [
    "tree_regressor = DecisionTreeRegressor(\n",
    "    ccp_alpha=0.0, \n",
    "    criterion='poisson',\n",
    "    max_depth=None,\n",
    "    max_features=None,\n",
    "    max_leaf_nodes=None,\n",
    "    min_impurity_decrease=0.01,\n",
    "    min_samples_leaf=14,\n",
    "    min_samples_split=2,\n",
    "    min_weight_fraction_leaf=0.0,\n",
    "    random_state=42)\n",
    "\n",
    "tree_regressor.fit(X_train, y_train)\n",
    "\n",
    "y_pred_tree = tree_regressor.predict(X_test)\n",
    "\n",
    "mse_tree = mean_squared_error(y_test, y_pred_tree)\n",
    "r2_tree = r2_score(y_test, y_pred_tree)\n",
    "\n",
    "print(\"Decision Tree MSE:\", mse_tree)\n",
    "print(\"Decision Treet R² Score:\", r2_tree)"
   ]
  },
  {
   "cell_type": "markdown",
   "metadata": {},
   "source": [
    " ### Random forest\n",
    " Best parameters from grid search: 'max_features': 'sqrt', 'n_estimators': 400"
   ]
  },
  {
   "cell_type": "code",
   "execution_count": 20,
   "metadata": {},
   "outputs": [
    {
     "name": "stdout",
     "output_type": "stream",
     "text": [
      "Random Forest MSE: 2371179840.1664042\n",
      "Random Forest R² Score: 0.8221294833450031\n"
     ]
    }
   ],
   "source": [
    "forest_regressor = RandomForestRegressor(\n",
    "    max_features='sqrt',\n",
    "    n_estimators=400,\n",
    "    random_state=42)\n",
    "\n",
    "forest_regressor.fit(X_train, y_train)\n",
    "\n",
    "y_pred_forest = forest_regressor.predict(X_test)\n",
    "\n",
    "mse_forest = mean_squared_error(y_test, y_pred_forest)\n",
    "r2_forest = r2_score(y_test, y_pred_forest)\n",
    "\n",
    "print(\"Random Forest MSE:\", mse_forest)\n",
    "print(\"Random Forest R² Score:\", r2_forest)"
   ]
  },
  {
   "cell_type": "markdown",
   "metadata": {},
   "source": [
    "### Gradient boosting\n",
    "Best parameters from grid search: 'learning_rate': 0.2, 'max_iter': 150"
   ]
  },
  {
   "cell_type": "code",
   "execution_count": 21,
   "metadata": {},
   "outputs": [
    {
     "name": "stdout",
     "output_type": "stream",
     "text": [
      "HistGradientBoostingRegressor MSE: 2165946320.011851\n",
      "HistGradientBoostingRegressor R²: 0.8375247695423809\n"
     ]
    }
   ],
   "source": [
    "hist_regressor = HistGradientBoostingRegressor(\n",
    "    learning_rate=0.2,\n",
    "    max_iter=150,\n",
    "    random_state=42)\n",
    "\n",
    "hist_regressor.fit(X_train, y_train)\n",
    "\n",
    "y_pred_hist = hist_regressor.predict(X_test)\n",
    "\n",
    "mse_hist = mean_squared_error(y_test, y_pred_hist)\n",
    "r2_hist = r2_score(y_test, y_pred_hist)\n",
    "\n",
    "print(\"HistGradientBoostingRegressor MSE:\", mse_hist)\n",
    "print(\"HistGradientBoostingRegressor R²:\", r2_hist)"
   ]
  },
  {
   "cell_type": "markdown",
   "metadata": {},
   "source": [
    "### XGBoost\n",
    "Best parameters from grid search: 'colsample_bytree': 1.0, 'learning_rate': 0.1, 'max_depth': 6, 'n_estimators': 300, 'subsample': 0.7"
   ]
  },
  {
   "cell_type": "code",
   "execution_count": 22,
   "metadata": {},
   "outputs": [
    {
     "name": "stdout",
     "output_type": "stream",
     "text": [
      "XGBoost MSE: 2124919474.2667944\n",
      "XGBoost R² Score: 0.8406023371421821\n"
     ]
    }
   ],
   "source": [
    "xgb_reg = xgb.XGBRegressor(\n",
    "    colsample_bytree=1.0,\n",
    "    learning_rate=0.1,\n",
    "    max_depth=6,\n",
    "    n_estimators=300,\n",
    "    subsample=0.7,\n",
    "    seed=42)\n",
    "\n",
    "xgb_reg.fit(X_train, y_train)\n",
    "\n",
    "y_pred_xgb = xgb_reg.predict(X_test)\n",
    "\n",
    "mse_xgb = mean_squared_error(y_test, y_pred_xgb)\n",
    "r2_xgb = r2_score(y_test, y_pred_xgb)\n",
    "\n",
    "print(\"XGBoost MSE:\", mse_xgb)\n",
    "print(\"XGBoost R² Score:\", r2_xgb)"
   ]
  },
  {
   "cell_type": "markdown",
   "metadata": {},
   "source": [
    "# Activities"
   ]
  },
  {
   "cell_type": "markdown",
   "metadata": {},
   "source": [
    "## Perform a Grid Search\n",
    "Compare the results of using grid search to tune hyperparameters with the results of the corresponding models in the housing_prices.ipynb notebook. Did we improve on the results for all classifiers?\n",
    "\n",
    "Where we got worse results, this suggests that we didn't configure our search to explore thoroughly enough. Examine the hyperparameters for each model type and use those to prepare a more thorough hyperparameter optimization.\n",
    " - https://scikit-learn.org/stable/modules/generated/sklearn.tree.DecisionTreeRegressor.html\n",
    " - https://scikit-learn.org/stable/modules/generated/sklearn.ensemble.RandomForestRegressor.html\n",
    " - https://scikit-learn.org/stable/modules/generated/sklearn.ensemble.HistGradientBoostingRegressor.html\n",
    " - https://xgboost.readthedocs.io/en/stable/python/python_api.html\n",
    " - https://scikit-learn.org/stable/modules/generated/sklearn.ensemble.AdaBoostRegressor.html\n",
    "\n",
    "Experiment with hyperparameter optimization and compare your results with the default regressors we used in the ensemble methods session (housing_prices.ipynb).\n",
    "\n",
    "__CAUTION__: The goal is to get familiar with hyperparameter tuning, not to use electricity for hours and hours training models. It is easy to get carried away!"
   ]
  },
  {
   "cell_type": "markdown",
   "metadata": {},
   "source": [
    "## Activity: Examine Other Solutions\n",
    "Examine the solutions that other people have developed for the California Housing Prices dataset with a view to understanding how they have tried to improve their models. For example, user OMARAYMANATIA achieves an MSE of 48911 at https://www.kaggle.com/code/omaraymanatia/california-housing-prices-prediction.\n",
    "\n",
    "Kaggle conveniently shows you the rating of users (OMARAYMANATIA is a rated Kaggle Expert because of his notebooks) so we can focus on the work of the more experienced Kaggle users.\n",
    "\n",
    "From your explorations, compile a list of questions and ideas to try. Sort these by priority, taking into account how much work is involved (effort) and estimated likely payoff (value). Low-effort high-value actions are a great place to continue building your knowledge and skills. What list did you come up with?\n",
    "\n"
   ]
  },
  {
   "cell_type": "markdown",
   "metadata": {},
   "source": [
    "## Optional Activity: Experiment with Other Optimizers \n",
    "Scikit-learn has other hyperparameter optimizers and there are other optimization libraries. You may find that you get better results more quickly with those. For example, the Optuna code below found a set of hyperparameter values in just over 30 seconds that were as good as the ones that took GridSearch over 12 minutes to find. See https://optuna.org/ and for more information."
   ]
  },
  {
   "cell_type": "code",
   "execution_count": 23,
   "metadata": {},
   "outputs": [],
   "source": [
    "import optuna  # Optuna needs to be installed first\n",
    "from sklearn.model_selection import cross_val_score"
   ]
  },
  {
   "cell_type": "code",
   "execution_count": 24,
   "metadata": {},
   "outputs": [
    {
     "name": "stderr",
     "output_type": "stream",
     "text": [
      "[I 2025-10-16 14:57:59,805] A new study created in memory with name: no-name-a6c79740-0e81-489d-99f8-499e9475b29f\n",
      "[I 2025-10-16 14:57:59,875] Trial 0 finished with value: 3877295077.4512916 and parameters: {'criterion': 'friedman_mse', 'max_depth': 10, 'min_samples_split': 3, 'min_samples_leaf': 14, 'min_weight_fraction_leaf': 0.0040867941709664965, 'max_features': None, 'max_leaf_nodes': None, 'min_impurity_decrease': 0.00972428167300033, 'ccp_alpha': 0.01719526119355185}. Best is trial 0 with value: 3877295077.4512916.\n",
      "[I 2025-10-16 14:57:59,910] Trial 1 finished with value: 4731030285.484839 and parameters: {'criterion': 'friedman_mse', 'max_depth': 10, 'min_samples_split': 3, 'min_samples_leaf': 20, 'min_weight_fraction_leaf': 0.005389085068818875, 'max_features': 'sqrt', 'max_leaf_nodes': None, 'min_impurity_decrease': 0.006585634016131253, 'ccp_alpha': 0.006056554513691528}. Best is trial 0 with value: 3877295077.4512916.\n",
      "[I 2025-10-16 14:57:59,946] Trial 2 finished with value: 4763332295.368398 and parameters: {'criterion': 'friedman_mse', 'max_depth': None, 'min_samples_split': 2, 'min_samples_leaf': 1, 'min_weight_fraction_leaf': 0.0069390556003141955, 'max_features': 'sqrt', 'max_leaf_nodes': None, 'min_impurity_decrease': 0.008214372364467384, 'ccp_alpha': 0.0010882479430687764}. Best is trial 0 with value: 3877295077.4512916.\n",
      "[I 2025-10-16 14:58:00,014] Trial 3 finished with value: 4096019870.2382836 and parameters: {'criterion': 'poisson', 'max_depth': None, 'min_samples_split': 3, 'min_samples_leaf': 1, 'min_weight_fraction_leaf': 0.008289203371135073, 'max_features': None, 'max_leaf_nodes': None, 'min_impurity_decrease': 0.002326384671490778, 'ccp_alpha': 0.006225991039775545}. Best is trial 0 with value: 3877295077.4512916.\n",
      "[I 2025-10-16 14:58:01,168] Trial 4 finished with value: 5316592428.334361 and parameters: {'criterion': 'absolute_error', 'max_depth': 10, 'min_samples_split': 2, 'min_samples_leaf': 20, 'min_weight_fraction_leaf': 0.009010970942806108, 'max_features': 'sqrt', 'max_leaf_nodes': None, 'min_impurity_decrease': 0.006522232300855943, 'ccp_alpha': 0.0073534399488987745}. Best is trial 0 with value: 3877295077.4512916.\n",
      "[I 2025-10-16 14:58:02,392] Trial 5 finished with value: 5028761912.768271 and parameters: {'criterion': 'absolute_error', 'max_depth': 10, 'min_samples_split': 2, 'min_samples_leaf': 20, 'min_weight_fraction_leaf': 0.0067218840557633055, 'max_features': 'log2', 'max_leaf_nodes': None, 'min_impurity_decrease': 0.0009486568273735153, 'ccp_alpha': 0.018436725213476408}. Best is trial 0 with value: 3877295077.4512916.\n",
      "[I 2025-10-16 14:58:02,428] Trial 6 finished with value: 4396585028.852639 and parameters: {'criterion': 'friedman_mse', 'max_depth': 10, 'min_samples_split': 3, 'min_samples_leaf': 20, 'min_weight_fraction_leaf': 0.0006918109264853889, 'max_features': 'log2', 'max_leaf_nodes': 150, 'min_impurity_decrease': 0.001658825328603636, 'ccp_alpha': 0.0071265223648155}. Best is trial 0 with value: 3877295077.4512916.\n",
      "[I 2025-10-16 14:58:02,496] Trial 7 finished with value: 3914811424.293855 and parameters: {'criterion': 'friedman_mse', 'max_depth': None, 'min_samples_split': 2, 'min_samples_leaf': 20, 'min_weight_fraction_leaf': 0.00497162959084533, 'max_features': None, 'max_leaf_nodes': 100, 'min_impurity_decrease': 0.006260077426177159, 'ccp_alpha': 0.015208288403668842}. Best is trial 0 with value: 3877295077.4512916.\n",
      "[I 2025-10-16 14:58:02,563] Trial 8 finished with value: 3889645652.023165 and parameters: {'criterion': 'squared_error', 'max_depth': 10, 'min_samples_split': 2, 'min_samples_leaf': 20, 'min_weight_fraction_leaf': 0.0024684036500039488, 'max_features': None, 'max_leaf_nodes': 100, 'min_impurity_decrease': 0.009113329400506846, 'ccp_alpha': 0.01942794488733092}. Best is trial 0 with value: 3877295077.4512916.\n",
      "[I 2025-10-16 14:58:02,630] Trial 9 finished with value: 3911008503.8454776 and parameters: {'criterion': 'friedman_mse', 'max_depth': 10, 'min_samples_split': 2, 'min_samples_leaf': 14, 'min_weight_fraction_leaf': 0.004747560527223813, 'max_features': None, 'max_leaf_nodes': None, 'min_impurity_decrease': 0.00428319800758554, 'ccp_alpha': 0.017916303043464667}. Best is trial 0 with value: 3877295077.4512916.\n",
      "[I 2025-10-16 14:58:02,724] Trial 10 finished with value: 3659347328.880795 and parameters: {'criterion': 'poisson', 'max_depth': None, 'min_samples_split': 3, 'min_samples_leaf': 14, 'min_weight_fraction_leaf': 0.0026861318577275674, 'max_features': None, 'max_leaf_nodes': 150, 'min_impurity_decrease': 0.009910596721553071, 'ccp_alpha': 0.013551721597621871}. Best is trial 10 with value: 3659347328.880795.\n",
      "[I 2025-10-16 14:58:02,814] Trial 11 finished with value: 3651619988.5559278 and parameters: {'criterion': 'poisson', 'max_depth': None, 'min_samples_split': 3, 'min_samples_leaf': 14, 'min_weight_fraction_leaf': 0.002755179102066333, 'max_features': None, 'max_leaf_nodes': 150, 'min_impurity_decrease': 0.009473374631593525, 'ccp_alpha': 0.013447832139316801}. Best is trial 11 with value: 3651619988.5559278.\n",
      "[I 2025-10-16 14:58:02,905] Trial 12 finished with value: 3661517943.617706 and parameters: {'criterion': 'poisson', 'max_depth': None, 'min_samples_split': 3, 'min_samples_leaf': 14, 'min_weight_fraction_leaf': 0.001922187530566556, 'max_features': None, 'max_leaf_nodes': 150, 'min_impurity_decrease': 0.0081308594478272, 'ccp_alpha': 0.013059913041169486}. Best is trial 11 with value: 3651619988.5559278.\n",
      "[I 2025-10-16 14:58:02,996] Trial 13 finished with value: 3664978360.9953866 and parameters: {'criterion': 'poisson', 'max_depth': None, 'min_samples_split': 3, 'min_samples_leaf': 14, 'min_weight_fraction_leaf': 0.002876232858335194, 'max_features': None, 'max_leaf_nodes': 150, 'min_impurity_decrease': 0.009765276358628259, 'ccp_alpha': 0.011544515154100064}. Best is trial 11 with value: 3651619988.5559278.\n",
      "[I 2025-10-16 14:58:03,056] Trial 14 finished with value: 4407928875.072346 and parameters: {'criterion': 'poisson', 'max_depth': None, 'min_samples_split': 3, 'min_samples_leaf': 14, 'min_weight_fraction_leaf': 0.0008359109198698696, 'max_features': 'log2', 'max_leaf_nodes': 150, 'min_impurity_decrease': 0.004464981042676751, 'ccp_alpha': 0.015064593146834044}. Best is trial 11 with value: 3651619988.5559278.\n",
      "[I 2025-10-16 14:58:03,145] Trial 15 finished with value: 3704754070.1536174 and parameters: {'criterion': 'poisson', 'max_depth': None, 'min_samples_split': 3, 'min_samples_leaf': 14, 'min_weight_fraction_leaf': 0.0033634237486345705, 'max_features': None, 'max_leaf_nodes': 150, 'min_impurity_decrease': 0.007889183172274005, 'ccp_alpha': 0.010246329105363255}. Best is trial 11 with value: 3651619988.5559278.\n",
      "[I 2025-10-16 14:58:03,225] Trial 16 finished with value: 3773914028.43971 and parameters: {'criterion': 'squared_error', 'max_depth': None, 'min_samples_split': 3, 'min_samples_leaf': 14, 'min_weight_fraction_leaf': 0.0016463319045368961, 'max_features': None, 'max_leaf_nodes': 150, 'min_impurity_decrease': 0.0035401950144653116, 'ccp_alpha': 0.013264614359545415}. Best is trial 11 with value: 3651619988.5559278.\n",
      "[I 2025-10-16 14:58:03,304] Trial 17 finished with value: 3714212242.8556786 and parameters: {'criterion': 'poisson', 'max_depth': None, 'min_samples_split': 3, 'min_samples_leaf': 14, 'min_weight_fraction_leaf': 0.00369392441318308, 'max_features': None, 'max_leaf_nodes': 150, 'min_impurity_decrease': 0.007344445645643301, 'ccp_alpha': 0.0155928086455793}. Best is trial 11 with value: 3651619988.5559278.\n",
      "[I 2025-10-16 14:58:03,354] Trial 18 finished with value: 4664223686.232319 and parameters: {'criterion': 'poisson', 'max_depth': None, 'min_samples_split': 3, 'min_samples_leaf': 1, 'min_weight_fraction_leaf': 0.006023900598273414, 'max_features': 'log2', 'max_leaf_nodes': 150, 'min_impurity_decrease': 0.005384002488133972, 'ccp_alpha': 0.009216215244031895}. Best is trial 11 with value: 3651619988.5559278.\n",
      "[I 2025-10-16 14:58:03,402] Trial 19 finished with value: 4580758795.393035 and parameters: {'criterion': 'poisson', 'max_depth': None, 'min_samples_split': 3, 'min_samples_leaf': 14, 'min_weight_fraction_leaf': 0.0002853296198000372, 'max_features': 'sqrt', 'max_leaf_nodes': 100, 'min_impurity_decrease': 0.00868470906339799, 'ccp_alpha': 0.003027823266834393}. Best is trial 11 with value: 3651619988.5559278.\n",
      "[I 2025-10-16 14:58:03,483] Trial 20 finished with value: 3768150195.844683 and parameters: {'criterion': 'squared_error', 'max_depth': None, 'min_samples_split': 3, 'min_samples_leaf': 14, 'min_weight_fraction_leaf': 0.0017469229553133858, 'max_features': None, 'max_leaf_nodes': 150, 'min_impurity_decrease': 0.009950881112677066, 'ccp_alpha': 0.012621875865525064}. Best is trial 11 with value: 3651619988.5559278.\n",
      "[I 2025-10-16 14:58:03,574] Trial 21 finished with value: 3661517943.617706 and parameters: {'criterion': 'poisson', 'max_depth': None, 'min_samples_split': 3, 'min_samples_leaf': 14, 'min_weight_fraction_leaf': 0.00196053556991317, 'max_features': None, 'max_leaf_nodes': 150, 'min_impurity_decrease': 0.008845263824333389, 'ccp_alpha': 0.012891295321986804}. Best is trial 11 with value: 3651619988.5559278.\n",
      "[I 2025-10-16 14:58:03,665] Trial 22 finished with value: 3651619988.5559278 and parameters: {'criterion': 'poisson', 'max_depth': None, 'min_samples_split': 3, 'min_samples_leaf': 14, 'min_weight_fraction_leaf': 0.002747200566846017, 'max_features': None, 'max_leaf_nodes': 150, 'min_impurity_decrease': 0.007586043137210615, 'ccp_alpha': 0.010190015528780152}. Best is trial 11 with value: 3651619988.5559278.\n",
      "[I 2025-10-16 14:58:03,756] Trial 23 finished with value: 3646271867.6735744 and parameters: {'criterion': 'poisson', 'max_depth': None, 'min_samples_split': 3, 'min_samples_leaf': 14, 'min_weight_fraction_leaf': 0.002974176675783822, 'max_features': None, 'max_leaf_nodes': 150, 'min_impurity_decrease': 0.0069584990116832455, 'ccp_alpha': 0.009532707054622346}. Best is trial 23 with value: 3646271867.6735744.\n",
      "[I 2025-10-16 14:58:06,263] Trial 24 finished with value: 3932880633.543546 and parameters: {'criterion': 'absolute_error', 'max_depth': None, 'min_samples_split': 3, 'min_samples_leaf': 14, 'min_weight_fraction_leaf': 0.004237311610769883, 'max_features': None, 'max_leaf_nodes': 150, 'min_impurity_decrease': 0.00713626664460709, 'ccp_alpha': 0.009568277325350911}. Best is trial 23 with value: 3646271867.6735744.\n",
      "[I 2025-10-16 14:58:06,353] Trial 25 finished with value: 3704754070.1536174 and parameters: {'criterion': 'poisson', 'max_depth': None, 'min_samples_split': 3, 'min_samples_leaf': 1, 'min_weight_fraction_leaf': 0.0033780342682613344, 'max_features': None, 'max_leaf_nodes': 150, 'min_impurity_decrease': 0.005489997702218714, 'ccp_alpha': 0.011181142521747468}. Best is trial 23 with value: 3646271867.6735744.\n",
      "[I 2025-10-16 14:58:06,444] Trial 26 finished with value: 3769082795.4396195 and parameters: {'criterion': 'poisson', 'max_depth': None, 'min_samples_split': 3, 'min_samples_leaf': 14, 'min_weight_fraction_leaf': 0.0010011054095469605, 'max_features': None, 'max_leaf_nodes': 100, 'min_impurity_decrease': 0.007302442304540712, 'ccp_alpha': 0.008283209519051354}. Best is trial 23 with value: 3646271867.6735744.\n",
      "[I 2025-10-16 14:58:06,535] Trial 27 finished with value: 3651986398.714868 and parameters: {'criterion': 'poisson', 'max_depth': None, 'min_samples_split': 3, 'min_samples_leaf': 14, 'min_weight_fraction_leaf': 0.0026038240482715485, 'max_features': None, 'max_leaf_nodes': 150, 'min_impurity_decrease': 0.005973686125992077, 'ccp_alpha': 0.005111844122706387}. Best is trial 23 with value: 3646271867.6735744.\n",
      "[I 2025-10-16 14:58:06,586] Trial 28 finished with value: 4407928875.072346 and parameters: {'criterion': 'poisson', 'max_depth': None, 'min_samples_split': 3, 'min_samples_leaf': 14, 'min_weight_fraction_leaf': 0.0013761270626659963, 'max_features': 'sqrt', 'max_leaf_nodes': 150, 'min_impurity_decrease': 0.007686222499886805, 'ccp_alpha': 0.003925613673599187}. Best is trial 23 with value: 3646271867.6735744.\n",
      "[I 2025-10-16 14:58:07,831] Trial 29 finished with value: 4881846581.39616 and parameters: {'criterion': 'absolute_error', 'max_depth': None, 'min_samples_split': 3, 'min_samples_leaf': 14, 'min_weight_fraction_leaf': 0.003898386301230533, 'max_features': 'log2', 'max_leaf_nodes': 150, 'min_impurity_decrease': 0.009010177500599625, 'ccp_alpha': 0.010527828644032133}. Best is trial 23 with value: 3646271867.6735744.\n",
      "[I 2025-10-16 14:58:07,913] Trial 30 finished with value: 4077294302.6610966 and parameters: {'criterion': 'squared_error', 'max_depth': None, 'min_samples_split': 3, 'min_samples_leaf': 1, 'min_weight_fraction_leaf': 3.0452692263811636e-05, 'max_features': None, 'max_leaf_nodes': 100, 'min_impurity_decrease': 0.006889579876877647, 'ccp_alpha': 0.016784812821445963}. Best is trial 23 with value: 3646271867.6735744.\n",
      "[I 2025-10-16 14:58:08,019] Trial 31 finished with value: 3651986398.714868 and parameters: {'criterion': 'poisson', 'max_depth': None, 'min_samples_split': 3, 'min_samples_leaf': 14, 'min_weight_fraction_leaf': 0.0025882432140729842, 'max_features': None, 'max_leaf_nodes': 150, 'min_impurity_decrease': 0.005985791732778098, 'ccp_alpha': 0.004922239206747153}. Best is trial 23 with value: 3646271867.6735744.\n",
      "[I 2025-10-16 14:58:08,101] Trial 32 finished with value: 3793338812.849684 and parameters: {'criterion': 'poisson', 'max_depth': None, 'min_samples_split': 3, 'min_samples_leaf': 14, 'min_weight_fraction_leaf': 0.004398407124837562, 'max_features': None, 'max_leaf_nodes': 150, 'min_impurity_decrease': 0.005630484833555984, 'ccp_alpha': 0.008619489297645446}. Best is trial 23 with value: 3646271867.6735744.\n",
      "[I 2025-10-16 14:58:08,193] Trial 33 finished with value: 3704754070.1536174 and parameters: {'criterion': 'poisson', 'max_depth': None, 'min_samples_split': 3, 'min_samples_leaf': 14, 'min_weight_fraction_leaf': 0.0034040805874513557, 'max_features': None, 'max_leaf_nodes': 150, 'min_impurity_decrease': 0.00840614922181097, 'ccp_alpha': 0.0002514468102399409}. Best is trial 23 with value: 3646271867.6735744.\n",
      "[I 2025-10-16 14:58:08,275] Trial 34 finished with value: 3947428397.854774 and parameters: {'criterion': 'poisson', 'max_depth': None, 'min_samples_split': 3, 'min_samples_leaf': 14, 'min_weight_fraction_leaf': 0.005673408337549157, 'max_features': None, 'max_leaf_nodes': 150, 'min_impurity_decrease': 0.004749116897855155, 'ccp_alpha': 0.005609335847784402}. Best is trial 23 with value: 3646271867.6735744.\n",
      "[I 2025-10-16 14:58:08,335] Trial 35 finished with value: 4615366282.55835 and parameters: {'criterion': 'poisson', 'max_depth': 10, 'min_samples_split': 3, 'min_samples_leaf': 14, 'min_weight_fraction_leaf': 0.002342188798751719, 'max_features': 'sqrt', 'max_leaf_nodes': 150, 'min_impurity_decrease': 0.006246740034206447, 'ccp_alpha': 0.0016666835424045921}. Best is trial 23 with value: 3646271867.6735744.\n",
      "[I 2025-10-16 14:58:08,425] Trial 36 finished with value: 3602405013.528147 and parameters: {'criterion': 'poisson', 'max_depth': None, 'min_samples_split': 3, 'min_samples_leaf': 1, 'min_weight_fraction_leaf': 0.0029090844887575047, 'max_features': None, 'max_leaf_nodes': None, 'min_impurity_decrease': 0.009296708194722076, 'ccp_alpha': 0.007322029531043372}. Best is trial 36 with value: 3602405013.528147.\n",
      "[I 2025-10-16 14:58:09,668] Trial 37 finished with value: 4925755411.001907 and parameters: {'criterion': 'absolute_error', 'max_depth': 10, 'min_samples_split': 2, 'min_samples_leaf': 1, 'min_weight_fraction_leaf': 0.0031056095841547416, 'max_features': 'sqrt', 'max_leaf_nodes': None, 'min_impurity_decrease': 0.009273186819784777, 'ccp_alpha': 0.007300503599938314}. Best is trial 36 with value: 3602405013.528147.\n",
      "[I 2025-10-16 14:58:09,749] Trial 38 finished with value: 4086324929.8623405 and parameters: {'criterion': 'friedman_mse', 'max_depth': None, 'min_samples_split': 3, 'min_samples_leaf': 1, 'min_weight_fraction_leaf': 0.007033087315893218, 'max_features': None, 'max_leaf_nodes': None, 'min_impurity_decrease': 6.497976492073586e-05, 'ccp_alpha': 0.008226084690085483}. Best is trial 36 with value: 3602405013.528147.\n",
      "[I 2025-10-16 14:58:09,798] Trial 39 finished with value: 5060833676.842892 and parameters: {'criterion': 'poisson', 'max_depth': None, 'min_samples_split': 2, 'min_samples_leaf': 1, 'min_weight_fraction_leaf': 0.009505365990158433, 'max_features': 'log2', 'max_leaf_nodes': None, 'min_impurity_decrease': 0.009386410684646702, 'ccp_alpha': 0.00666578904466834}. Best is trial 36 with value: 3602405013.528147.\n",
      "[I 2025-10-16 14:58:09,880] Trial 40 finished with value: 3895078407.231669 and parameters: {'criterion': 'friedman_mse', 'max_depth': 10, 'min_samples_split': 3, 'min_samples_leaf': 20, 'min_weight_fraction_leaf': 0.004577143943176855, 'max_features': None, 'max_leaf_nodes': None, 'min_impurity_decrease': 0.00826693749223359, 'ccp_alpha': 0.011743447726113411}. Best is trial 36 with value: 3602405013.528147.\n",
      "[I 2025-10-16 14:58:09,973] Trial 41 finished with value: 3500867712.022268 and parameters: {'criterion': 'poisson', 'max_depth': None, 'min_samples_split': 3, 'min_samples_leaf': 1, 'min_weight_fraction_leaf': 0.0021063921308945204, 'max_features': None, 'max_leaf_nodes': None, 'min_impurity_decrease': 0.006742684676347699, 'ccp_alpha': 0.0050765224369554805}. Best is trial 41 with value: 3500867712.022268.\n",
      "[I 2025-10-16 14:58:10,065] Trial 42 finished with value: 3501167934.078182 and parameters: {'criterion': 'poisson', 'max_depth': None, 'min_samples_split': 3, 'min_samples_leaf': 1, 'min_weight_fraction_leaf': 0.002167713640081926, 'max_features': None, 'max_leaf_nodes': None, 'min_impurity_decrease': 0.00653785254370683, 'ccp_alpha': 0.00293219727044081}. Best is trial 41 with value: 3500867712.022268.\n",
      "[I 2025-10-16 14:58:10,167] Trial 43 finished with value: 3513978586.871834 and parameters: {'criterion': 'poisson', 'max_depth': None, 'min_samples_split': 3, 'min_samples_leaf': 1, 'min_weight_fraction_leaf': 0.0022199167649517458, 'max_features': None, 'max_leaf_nodes': None, 'min_impurity_decrease': 0.00660915367823511, 'ccp_alpha': 0.003166118745725831}. Best is trial 41 with value: 3500867712.022268.\n",
      "[I 2025-10-16 14:58:10,270] Trial 44 finished with value: 3472796420.634399 and parameters: {'criterion': 'poisson', 'max_depth': None, 'min_samples_split': 3, 'min_samples_leaf': 1, 'min_weight_fraction_leaf': 0.0012354301943711665, 'max_features': None, 'max_leaf_nodes': None, 'min_impurity_decrease': 0.006804098585952512, 'ccp_alpha': 0.002628087131471565}. Best is trial 44 with value: 3472796420.634399.\n",
      "[I 2025-10-16 14:58:10,374] Trial 45 finished with value: 3427781726.9222474 and parameters: {'criterion': 'poisson', 'max_depth': None, 'min_samples_split': 3, 'min_samples_leaf': 1, 'min_weight_fraction_leaf': 0.0014100812531702477, 'max_features': None, 'max_leaf_nodes': None, 'min_impurity_decrease': 0.003588876687754034, 'ccp_alpha': 0.002298968367791812}. Best is trial 45 with value: 3427781726.9222474.\n",
      "[I 2025-10-16 14:58:10,454] Trial 46 finished with value: 3832752491.778357 and parameters: {'criterion': 'squared_error', 'max_depth': 10, 'min_samples_split': 3, 'min_samples_leaf': 1, 'min_weight_fraction_leaf': 0.0012044088169759586, 'max_features': None, 'max_leaf_nodes': None, 'min_impurity_decrease': 0.002820269110454936, 'ccp_alpha': 0.0021392060699539123}. Best is trial 45 with value: 3427781726.9222474.\n",
      "[I 2025-10-16 14:58:10,567] Trial 47 finished with value: 3684194804.5900674 and parameters: {'criterion': 'poisson', 'max_depth': None, 'min_samples_split': 2, 'min_samples_leaf': 1, 'min_weight_fraction_leaf': 0.0006702934386236557, 'max_features': None, 'max_leaf_nodes': None, 'min_impurity_decrease': 0.0036521147523381043, 'ccp_alpha': 0.0033477980991778486}. Best is trial 45 with value: 3427781726.9222474.\n",
      "[I 2025-10-16 14:58:13,141] Trial 48 finished with value: 3778311501.76063 and parameters: {'criterion': 'absolute_error', 'max_depth': None, 'min_samples_split': 3, 'min_samples_leaf': 1, 'min_weight_fraction_leaf': 0.0020323717410015434, 'max_features': None, 'max_leaf_nodes': None, 'min_impurity_decrease': 0.0066127266392659355, 'ccp_alpha': 3.8864934782922075e-05}. Best is trial 45 with value: 3427781726.9222474.\n",
      "[I 2025-10-16 14:58:13,200] Trial 49 finished with value: 4238775208.4516015 and parameters: {'criterion': 'friedman_mse', 'max_depth': None, 'min_samples_split': 3, 'min_samples_leaf': 1, 'min_weight_fraction_leaf': 0.0006945003823424557, 'max_features': 'log2', 'max_leaf_nodes': None, 'min_impurity_decrease': 0.0051959396329458035, 'ccp_alpha': 0.004243513848941779}. Best is trial 45 with value: 3427781726.9222474.\n",
      "[I 2025-10-16 14:58:13,261] Trial 50 finished with value: 4337299368.948967 and parameters: {'criterion': 'poisson', 'max_depth': None, 'min_samples_split': 3, 'min_samples_leaf': 1, 'min_weight_fraction_leaf': 0.0014686695868799463, 'max_features': 'sqrt', 'max_leaf_nodes': None, 'min_impurity_decrease': 0.0038094197240297867, 'ccp_alpha': 0.002752359799491868}. Best is trial 45 with value: 3427781726.9222474.\n",
      "[I 2025-10-16 14:58:13,354] Trial 51 finished with value: 3506660596.7755437 and parameters: {'criterion': 'poisson', 'max_depth': None, 'min_samples_split': 3, 'min_samples_leaf': 1, 'min_weight_fraction_leaf': 0.0020756478336666985, 'max_features': None, 'max_leaf_nodes': None, 'min_impurity_decrease': 0.002555052564382828, 'ccp_alpha': 0.0015139327601801913}. Best is trial 45 with value: 3427781726.9222474.\n",
      "[I 2025-10-16 14:58:13,446] Trial 52 finished with value: 3513978586.871834 and parameters: {'criterion': 'poisson', 'max_depth': None, 'min_samples_split': 3, 'min_samples_leaf': 1, 'min_weight_fraction_leaf': 0.0022133739121316135, 'max_features': None, 'max_leaf_nodes': None, 'min_impurity_decrease': 0.0023806333069731575, 'ccp_alpha': 0.0010551131232122478}. Best is trial 45 with value: 3427781726.9222474.\n",
      "[I 2025-10-16 14:58:13,570] Trial 53 finished with value: 4031653907.371927 and parameters: {'criterion': 'poisson', 'max_depth': None, 'min_samples_split': 3, 'min_samples_leaf': 1, 'min_weight_fraction_leaf': 0.00041422791695090093, 'max_features': None, 'max_leaf_nodes': None, 'min_impurity_decrease': 0.002852951566046965, 'ccp_alpha': 0.0013173058850634628}. Best is trial 45 with value: 3427781726.9222474.\n",
      "[I 2025-10-16 14:58:13,682] Trial 54 finished with value: 3476754907.0802093 and parameters: {'criterion': 'poisson', 'max_depth': None, 'min_samples_split': 3, 'min_samples_leaf': 1, 'min_weight_fraction_leaf': 0.001198615392630508, 'max_features': None, 'max_leaf_nodes': None, 'min_impurity_decrease': 0.0013660304401756796, 'ccp_alpha': 0.002618946971193156}. Best is trial 45 with value: 3427781726.9222474.\n",
      "[I 2025-10-16 14:58:13,785] Trial 55 finished with value: 3538603540.8299794 and parameters: {'criterion': 'poisson', 'max_depth': None, 'min_samples_split': 3, 'min_samples_leaf': 1, 'min_weight_fraction_leaf': 0.0011031529240387776, 'max_features': None, 'max_leaf_nodes': None, 'min_impurity_decrease': 0.0015044669920591793, 'ccp_alpha': 0.0020244217004045857}. Best is trial 45 with value: 3427781726.9222474.\n",
      "[I 2025-10-16 14:58:13,888] Trial 56 finished with value: 3486186092.7065787 and parameters: {'criterion': 'poisson', 'max_depth': None, 'min_samples_split': 3, 'min_samples_leaf': 1, 'min_weight_fraction_leaf': 0.0016960312922144063, 'max_features': None, 'max_leaf_nodes': None, 'min_impurity_decrease': 0.0012180690906682214, 'ccp_alpha': 0.004177070285453381}. Best is trial 45 with value: 3427781726.9222474.\n",
      "[I 2025-10-16 14:58:13,969] Trial 57 finished with value: 4072481319.8894615 and parameters: {'criterion': 'poisson', 'max_depth': 10, 'min_samples_split': 3, 'min_samples_leaf': 1, 'min_weight_fraction_leaf': 0.007990204397545303, 'max_features': None, 'max_leaf_nodes': None, 'min_impurity_decrease': 0.0011175997560742413, 'ccp_alpha': 0.004206858350396056}. Best is trial 45 with value: 3427781726.9222474.\n",
      "[I 2025-10-16 14:58:14,051] Trial 58 finished with value: 3663638436.1626534 and parameters: {'criterion': 'squared_error', 'max_depth': None, 'min_samples_split': 3, 'min_samples_leaf': 20, 'min_weight_fraction_leaf': 0.0014220316824454001, 'max_features': None, 'max_leaf_nodes': None, 'min_impurity_decrease': 0.000365071630106275, 'ccp_alpha': 0.0026201252851568435}. Best is trial 45 with value: 3427781726.9222474.\n",
      "[I 2025-10-16 14:58:14,143] Trial 59 finished with value: 3486186092.7065787 and parameters: {'criterion': 'poisson', 'max_depth': None, 'min_samples_split': 3, 'min_samples_leaf': 1, 'min_weight_fraction_leaf': 0.0017102747612691058, 'max_features': None, 'max_leaf_nodes': None, 'min_impurity_decrease': 0.001743993692016567, 'ccp_alpha': 0.0060053841217442}. Best is trial 45 with value: 3427781726.9222474.\n",
      "[I 2025-10-16 14:58:14,205] Trial 60 finished with value: 4423188082.209248 and parameters: {'criterion': 'poisson', 'max_depth': None, 'min_samples_split': 3, 'min_samples_leaf': 1, 'min_weight_fraction_leaf': 0.001614819809307611, 'max_features': 'log2', 'max_leaf_nodes': None, 'min_impurity_decrease': 0.0018019688617121662, 'ccp_alpha': 0.006214861157564335}. Best is trial 45 with value: 3427781726.9222474.\n",
      "[I 2025-10-16 14:58:14,307] Trial 61 finished with value: 3485699834.202394 and parameters: {'criterion': 'poisson', 'max_depth': None, 'min_samples_split': 3, 'min_samples_leaf': 1, 'min_weight_fraction_leaf': 0.0017558254840566942, 'max_features': None, 'max_leaf_nodes': None, 'min_impurity_decrease': 0.0007543390864939113, 'ccp_alpha': 0.004868027137905468}. Best is trial 45 with value: 3427781726.9222474.\n",
      "[I 2025-10-16 14:58:14,410] Trial 62 finished with value: 3560372174.075417 and parameters: {'criterion': 'poisson', 'max_depth': None, 'min_samples_split': 3, 'min_samples_leaf': 1, 'min_weight_fraction_leaf': 0.0010106583886035551, 'max_features': None, 'max_leaf_nodes': None, 'min_impurity_decrease': 0.0019434161546493921, 'ccp_alpha': 0.005228882451295314}. Best is trial 45 with value: 3427781726.9222474.\n",
      "[I 2025-10-16 14:58:14,546] Trial 63 finished with value: 4240821339.9857583 and parameters: {'criterion': 'poisson', 'max_depth': None, 'min_samples_split': 3, 'min_samples_leaf': 1, 'min_weight_fraction_leaf': 0.00027895096751912897, 'max_features': None, 'max_leaf_nodes': None, 'min_impurity_decrease': 0.0008553664594586214, 'ccp_alpha': 0.003928334367609121}. Best is trial 45 with value: 3427781726.9222474.\n",
      "[I 2025-10-16 14:58:14,645] Trial 64 finished with value: 3485699834.202394 and parameters: {'criterion': 'poisson', 'max_depth': None, 'min_samples_split': 3, 'min_samples_leaf': 1, 'min_weight_fraction_leaf': 0.0017590752414772173, 'max_features': None, 'max_leaf_nodes': None, 'min_impurity_decrease': 0.000639353612470398, 'ccp_alpha': 0.004726626269023924}. Best is trial 45 with value: 3427781726.9222474.\n",
      "[I 2025-10-16 14:58:14,749] Trial 65 finished with value: 3485698883.20575 and parameters: {'criterion': 'poisson', 'max_depth': None, 'min_samples_split': 3, 'min_samples_leaf': 1, 'min_weight_fraction_leaf': 0.0017443356350260145, 'max_features': None, 'max_leaf_nodes': None, 'min_impurity_decrease': 0.0007702169178153185, 'ccp_alpha': 0.0007648263731320824}. Best is trial 45 with value: 3427781726.9222474.\n",
      "[I 2025-10-16 14:58:14,833] Trial 66 finished with value: 3814751914.237339 and parameters: {'criterion': 'poisson', 'max_depth': None, 'min_samples_split': 3, 'min_samples_leaf': 1, 'min_weight_fraction_leaf': 0.0008781714993999548, 'max_features': None, 'max_leaf_nodes': 100, 'min_impurity_decrease': 0.000700765966018892, 'ccp_alpha': 0.0022678813866271025}. Best is trial 45 with value: 3427781726.9222474.\n",
      "[I 2025-10-16 14:58:17,469] Trial 67 finished with value: 3772187324.091006 and parameters: {'criterion': 'absolute_error', 'max_depth': None, 'min_samples_split': 3, 'min_samples_leaf': 20, 'min_weight_fraction_leaf': 0.00046646898418102275, 'max_features': None, 'max_leaf_nodes': None, 'min_impurity_decrease': 0.001266924043270019, 'ccp_alpha': 0.00046803777886868784}. Best is trial 45 with value: 3427781726.9222474.\n",
      "[I 2025-10-16 14:58:17,562] Trial 68 finished with value: 3630564516.8794055 and parameters: {'criterion': 'friedman_mse', 'max_depth': None, 'min_samples_split': 3, 'min_samples_leaf': 1, 'min_weight_fraction_leaf': 0.001823021665718007, 'max_features': None, 'max_leaf_nodes': None, 'min_impurity_decrease': 0.0005612859490439692, 'ccp_alpha': 0.0010436113642640914}. Best is trial 45 with value: 3427781726.9222474.\n",
      "[I 2025-10-16 14:58:17,623] Trial 69 finished with value: 4329364627.7453375 and parameters: {'criterion': 'poisson', 'max_depth': None, 'min_samples_split': 3, 'min_samples_leaf': 1, 'min_weight_fraction_leaf': 0.0013554294469500475, 'max_features': 'sqrt', 'max_leaf_nodes': None, 'min_impurity_decrease': 6.452285100469121e-05, 'ccp_alpha': 0.0036657865322263098}. Best is trial 45 with value: 3427781726.9222474.\n",
      "[I 2025-10-16 14:58:17,771] Trial 70 finished with value: 4800540845.148122 and parameters: {'criterion': 'poisson', 'max_depth': None, 'min_samples_split': 3, 'min_samples_leaf': 1, 'min_weight_fraction_leaf': 3.267964916229432e-05, 'max_features': None, 'max_leaf_nodes': None, 'min_impurity_decrease': 0.001382596281517737, 'ccp_alpha': 0.004418172794967421}. Best is trial 45 with value: 3427781726.9222474.\n",
      "[I 2025-10-16 14:58:17,886] Trial 71 finished with value: 3485699834.202394 and parameters: {'criterion': 'poisson', 'max_depth': None, 'min_samples_split': 3, 'min_samples_leaf': 1, 'min_weight_fraction_leaf': 0.0017581788780252723, 'max_features': None, 'max_leaf_nodes': None, 'min_impurity_decrease': 0.002030640198832626, 'ccp_alpha': 0.003572173846088043}. Best is trial 45 with value: 3427781726.9222474.\n",
      "[I 2025-10-16 14:58:17,990] Trial 72 finished with value: 3485699834.202394 and parameters: {'criterion': 'poisson', 'max_depth': None, 'min_samples_split': 3, 'min_samples_leaf': 1, 'min_weight_fraction_leaf': 0.0017385789074709837, 'max_features': None, 'max_leaf_nodes': None, 'min_impurity_decrease': 0.002117836940480591, 'ccp_alpha': 0.000634740290871775}. Best is trial 45 with value: 3427781726.9222474.\n",
      "[I 2025-10-16 14:58:18,095] Trial 73 finished with value: 3472803398.5166993 and parameters: {'criterion': 'poisson', 'max_depth': None, 'min_samples_split': 3, 'min_samples_leaf': 1, 'min_weight_fraction_leaf': 0.0012506812437001916, 'max_features': None, 'max_leaf_nodes': None, 'min_impurity_decrease': 0.002207056951275952, 'ccp_alpha': 0.0007481338547915967}. Best is trial 45 with value: 3427781726.9222474.\n",
      "[I 2025-10-16 14:58:18,188] Trial 74 finished with value: 3783899003.747841 and parameters: {'criterion': 'poisson', 'max_depth': None, 'min_samples_split': 3, 'min_samples_leaf': 1, 'min_weight_fraction_leaf': 0.0011922575712480761, 'max_features': None, 'max_leaf_nodes': 100, 'min_impurity_decrease': 0.003368720536819173, 'ccp_alpha': 0.001868309437066893}. Best is trial 45 with value: 3427781726.9222474.\n",
      "[I 2025-10-16 14:58:18,279] Trial 75 finished with value: 3537378899.1100783 and parameters: {'criterion': 'poisson', 'max_depth': None, 'min_samples_split': 3, 'min_samples_leaf': 1, 'min_weight_fraction_leaf': 0.002413886741280508, 'max_features': None, 'max_leaf_nodes': None, 'min_impurity_decrease': 0.0004292337249004154, 'ccp_alpha': 0.002476842580466072}. Best is trial 45 with value: 3427781726.9222474.\n",
      "[I 2025-10-16 14:58:18,395] Trial 76 finished with value: 3651687602.3640265 and parameters: {'criterion': 'poisson', 'max_depth': None, 'min_samples_split': 3, 'min_samples_leaf': 1, 'min_weight_fraction_leaf': 0.0008145176252669838, 'max_features': None, 'max_leaf_nodes': None, 'min_impurity_decrease': 0.0009811532515437561, 'ccp_alpha': 0.0008380913467861034}. Best is trial 45 with value: 3427781726.9222474.\n",
      "[I 2025-10-16 14:58:18,486] Trial 77 finished with value: 3830989465.8244743 and parameters: {'criterion': 'squared_error', 'max_depth': 10, 'min_samples_split': 3, 'min_samples_leaf': 1, 'min_weight_fraction_leaf': 0.0006217539943015682, 'max_features': None, 'max_leaf_nodes': None, 'min_impurity_decrease': 0.002131741825210392, 'ccp_alpha': 0.0035123022619500868}. Best is trial 45 with value: 3427781726.9222474.\n",
      "[I 2025-10-16 14:58:18,548] Trial 78 finished with value: 4536964516.942981 and parameters: {'criterion': 'poisson', 'max_depth': None, 'min_samples_split': 3, 'min_samples_leaf': 1, 'min_weight_fraction_leaf': 0.0032128346652317776, 'max_features': 'log2', 'max_leaf_nodes': None, 'min_impurity_decrease': 0.0031860973346877503, 'ccp_alpha': 0.0013796806311948764}. Best is trial 45 with value: 3427781726.9222474.\n",
      "[I 2025-10-16 14:58:18,641] Trial 79 finished with value: 3506660596.7755437 and parameters: {'criterion': 'poisson', 'max_depth': None, 'min_samples_split': 3, 'min_samples_leaf': 20, 'min_weight_fraction_leaf': 0.0012521235121173585, 'max_features': None, 'max_leaf_nodes': None, 'min_impurity_decrease': 0.004117151799226046, 'ccp_alpha': 0.004649600003290209}. Best is trial 45 with value: 3427781726.9222474.\n",
      "[I 2025-10-16 14:58:18,733] Trial 80 finished with value: 3544149113.690722 and parameters: {'criterion': 'poisson', 'max_depth': None, 'min_samples_split': 3, 'min_samples_leaf': 1, 'min_weight_fraction_leaf': 0.002551152286005054, 'max_features': None, 'max_leaf_nodes': None, 'min_impurity_decrease': 0.0007555968451188944, 'ccp_alpha': 0.003062878073845933}. Best is trial 45 with value: 3427781726.9222474.\n",
      "[I 2025-10-16 14:58:18,826] Trial 81 finished with value: 3501036127.0234265 and parameters: {'criterion': 'poisson', 'max_depth': None, 'min_samples_split': 3, 'min_samples_leaf': 1, 'min_weight_fraction_leaf': 0.0019020649730056155, 'max_features': None, 'max_leaf_nodes': None, 'min_impurity_decrease': 0.002363867732406374, 'ccp_alpha': 0.0004573112028362499}. Best is trial 45 with value: 3427781726.9222474.\n",
      "[I 2025-10-16 14:58:18,931] Trial 82 finished with value: 3476054869.8029017 and parameters: {'criterion': 'poisson', 'max_depth': None, 'min_samples_split': 3, 'min_samples_leaf': 1, 'min_weight_fraction_leaf': 0.001517161332877589, 'max_features': None, 'max_leaf_nodes': None, 'min_impurity_decrease': 0.0020207942408702628, 'ccp_alpha': 0.0006257239565352212}. Best is trial 45 with value: 3427781726.9222474.\n",
      "[I 2025-10-16 14:58:19,034] Trial 83 finished with value: 3427714721.706572 and parameters: {'criterion': 'poisson', 'max_depth': None, 'min_samples_split': 3, 'min_samples_leaf': 1, 'min_weight_fraction_leaf': 0.0014474605593532233, 'max_features': None, 'max_leaf_nodes': None, 'min_impurity_decrease': 0.0016536039974080687, 'ccp_alpha': 0.0017349257724040934}. Best is trial 83 with value: 3427714721.706572.\n",
      "[I 2025-10-16 14:58:19,137] Trial 84 finished with value: 3427714721.706572 and parameters: {'criterion': 'poisson', 'max_depth': None, 'min_samples_split': 3, 'min_samples_leaf': 1, 'min_weight_fraction_leaf': 0.0014328360110041575, 'max_features': None, 'max_leaf_nodes': None, 'min_impurity_decrease': 0.001485928903422874, 'ccp_alpha': 0.0016828831667537187}. Best is trial 83 with value: 3427714721.706572.\n",
      "[I 2025-10-16 14:58:19,241] Trial 85 finished with value: 3560368774.7769074 and parameters: {'criterion': 'poisson', 'max_depth': None, 'min_samples_split': 3, 'min_samples_leaf': 1, 'min_weight_fraction_leaf': 0.001024273658942042, 'max_features': None, 'max_leaf_nodes': None, 'min_impurity_decrease': 0.0014736552331990594, 'ccp_alpha': 0.001758384922075149}. Best is trial 83 with value: 3427714721.706572.\n",
      "[I 2025-10-16 14:58:20,426] Trial 86 finished with value: 4960044000.455607 and parameters: {'criterion': 'absolute_error', 'max_depth': None, 'min_samples_split': 3, 'min_samples_leaf': 1, 'min_weight_fraction_leaf': 0.0014640273750508896, 'max_features': 'sqrt', 'max_leaf_nodes': 100, 'min_impurity_decrease': 0.0016783683563613588, 'ccp_alpha': 0.00016839212757015362}. Best is trial 83 with value: 3427714721.706572.\n",
      "[I 2025-10-16 14:58:20,541] Trial 87 finished with value: 3596645651.9540505 and parameters: {'criterion': 'poisson', 'max_depth': None, 'min_samples_split': 2, 'min_samples_leaf': 1, 'min_weight_fraction_leaf': 0.0009215964540799481, 'max_features': None, 'max_leaf_nodes': None, 'min_impurity_decrease': 0.0010683833230239561, 'ccp_alpha': 0.0009564329468528801}. Best is trial 83 with value: 3427714721.706572.\n",
      "[I 2025-10-16 14:58:20,634] Trial 88 finished with value: 3929423118.9387727 and parameters: {'criterion': 'friedman_mse', 'max_depth': 10, 'min_samples_split': 3, 'min_samples_leaf': 1, 'min_weight_fraction_leaf': 0.005234756675554267, 'max_features': None, 'max_leaf_nodes': None, 'min_impurity_decrease': 0.0027816658515258707, 'ccp_alpha': 0.002189660394130274}. Best is trial 83 with value: 3427714721.706572.\n",
      "[I 2025-10-16 14:58:20,761] Trial 89 finished with value: 4240770595.2172656 and parameters: {'criterion': 'poisson', 'max_depth': None, 'min_samples_split': 3, 'min_samples_leaf': 1, 'min_weight_fraction_leaf': 0.0003054632595485688, 'max_features': None, 'max_leaf_nodes': None, 'min_impurity_decrease': 0.0002846349959164272, 'ccp_alpha': 0.001446219166442699}. Best is trial 83 with value: 3427714721.706572.\n",
      "[I 2025-10-16 14:58:20,854] Trial 90 finished with value: 3581481365.8918395 and parameters: {'criterion': 'poisson', 'max_depth': None, 'min_samples_split': 3, 'min_samples_leaf': 1, 'min_weight_fraction_leaf': 0.0027677048626696616, 'max_features': None, 'max_leaf_nodes': None, 'min_impurity_decrease': 0.0025566301397605, 'ccp_alpha': 0.002408226084549804}. Best is trial 83 with value: 3427714721.706572.\n",
      "[I 2025-10-16 14:58:20,959] Trial 91 finished with value: 3474354124.713686 and parameters: {'criterion': 'poisson', 'max_depth': None, 'min_samples_split': 3, 'min_samples_leaf': 1, 'min_weight_fraction_leaf': 0.0015226070448840368, 'max_features': None, 'max_leaf_nodes': None, 'min_impurity_decrease': 0.0015134117858085889, 'ccp_alpha': 6.149148590500102e-05}. Best is trial 83 with value: 3427714721.706572.\n",
      "[I 2025-10-16 14:58:21,064] Trial 92 finished with value: 3476055854.017277 and parameters: {'criterion': 'poisson', 'max_depth': None, 'min_samples_split': 3, 'min_samples_leaf': 1, 'min_weight_fraction_leaf': 0.0014744157983238586, 'max_features': None, 'max_leaf_nodes': None, 'min_impurity_decrease': 0.0013529295449382314, 'ccp_alpha': 4.802765999307357e-05}. Best is trial 83 with value: 3427714721.706572.\n",
      "[I 2025-10-16 14:58:21,175] Trial 93 finished with value: 3427714721.706572 and parameters: {'criterion': 'poisson', 'max_depth': None, 'min_samples_split': 3, 'min_samples_leaf': 1, 'min_weight_fraction_leaf': 0.0014613027155787979, 'max_features': None, 'max_leaf_nodes': None, 'min_impurity_decrease': 0.0016437630347704878, 'ccp_alpha': 6.884093268045058e-05}. Best is trial 83 with value: 3427714721.706572.\n",
      "[I 2025-10-16 14:58:21,279] Trial 94 finished with value: 3463758493.4009976 and parameters: {'criterion': 'poisson', 'max_depth': None, 'min_samples_split': 3, 'min_samples_leaf': 1, 'min_weight_fraction_leaf': 0.0013184110096182305, 'max_features': None, 'max_leaf_nodes': None, 'min_impurity_decrease': 0.0015769839280032711, 'ccp_alpha': 2.653056520278129e-05}. Best is trial 83 with value: 3427714721.706572.\n",
      "[I 2025-10-16 14:58:21,382] Trial 95 finished with value: 3684151197.1509113 and parameters: {'criterion': 'poisson', 'max_depth': None, 'min_samples_split': 3, 'min_samples_leaf': 1, 'min_weight_fraction_leaf': 0.000681789505601727, 'max_features': None, 'max_leaf_nodes': None, 'min_impurity_decrease': 0.0017270283720946069, 'ccp_alpha': 0.00024271432159174476}. Best is trial 83 with value: 3427714721.706572.\n",
      "[I 2025-10-16 14:58:21,486] Trial 96 finished with value: 3640838065.4460015 and parameters: {'criterion': 'squared_error', 'max_depth': None, 'min_samples_split': 3, 'min_samples_leaf': 1, 'min_weight_fraction_leaf': 0.0013989981204905022, 'max_features': None, 'max_leaf_nodes': None, 'min_impurity_decrease': 0.0019231607483955987, 'ccp_alpha': 1.369996222069994e-05}. Best is trial 83 with value: 3427714721.706572.\n",
      "[I 2025-10-16 14:58:21,549] Trial 97 finished with value: 4262645142.578882 and parameters: {'criterion': 'poisson', 'max_depth': None, 'min_samples_split': 3, 'min_samples_leaf': 20, 'min_weight_fraction_leaf': 0.0023196203042686343, 'max_features': 'log2', 'max_leaf_nodes': None, 'min_impurity_decrease': 0.0030325502095524762, 'ccp_alpha': 0.0011957362194646769}. Best is trial 83 with value: 3427714721.706572.\n",
      "[I 2025-10-16 14:58:21,643] Trial 98 finished with value: 3506270152.8436866 and parameters: {'criterion': 'poisson', 'max_depth': None, 'min_samples_split': 3, 'min_samples_leaf': 1, 'min_weight_fraction_leaf': 0.0020082342051604397, 'max_features': None, 'max_leaf_nodes': None, 'min_impurity_decrease': 0.002293401402990624, 'ccp_alpha': 0.0006918179406388501}. Best is trial 83 with value: 3427714721.706572.\n",
      "[I 2025-10-16 14:58:21,746] Trial 99 finished with value: 3474353495.512735 and parameters: {'criterion': 'poisson', 'max_depth': None, 'min_samples_split': 3, 'min_samples_leaf': 1, 'min_weight_fraction_leaf': 0.0015608371992097247, 'max_features': None, 'max_leaf_nodes': None, 'min_impurity_decrease': 0.0015402128858773316, 'ccp_alpha': 0.0019231164286164948}. Best is trial 83 with value: 3427714721.706572.\n"
     ]
    },
    {
     "name": "stdout",
     "output_type": "stream",
     "text": [
      "Best score: 3427714721.706572\n",
      "Best parameters: {'criterion': 'poisson', 'max_depth': None, 'min_samples_split': 3, 'min_samples_leaf': 1, 'min_weight_fraction_leaf': 0.0014474605593532233, 'max_features': None, 'max_leaf_nodes': None, 'min_impurity_decrease': 0.0016536039974080687, 'ccp_alpha': 0.0017349257724040934}\n"
     ]
    }
   ],
   "source": [
    "def objective(trial):\n",
    "    # For ease of comparison, these were kept similar to values for used GridSearch above.\n",
    "    # You are welcome to experiment further.\n",
    "    params = {\n",
    "        'criterion': trial.suggest_categorical('criterion', ['squared_error', 'friedman_mse', 'absolute_error', 'poisson']),\n",
    "        'max_depth': trial.suggest_categorical('max_depth', [None, 10]),\n",
    "        'min_samples_split': trial.suggest_int('min_samples_split', 2, 3),\n",
    "        'min_samples_leaf': trial.suggest_categorical('min_samples_leaf', [1, 14, 20]),\n",
    "        'min_weight_fraction_leaf': trial.suggest_float('min_weight_fraction_leaf', 0.0, 0.01),\n",
    "        'max_features': trial.suggest_categorical('max_features', [None, 'sqrt', 'log2']),\n",
    "        'max_leaf_nodes': trial.suggest_categorical('max_leaf_nodes', [None, 100, 150]),\n",
    "        'min_impurity_decrease': trial.suggest_float('min_impurity_decrease', 0.0, 0.01),\n",
    "        'ccp_alpha': trial.suggest_float('ccp_alpha', 0.0, 0.02)\n",
    "    }\n",
    "\n",
    "    # Create a Decision Tree Regressor with parameters to be tuned\n",
    "    model = DecisionTreeRegressor(random_state=42, **params)\n",
    "\n",
    "#     model = xgb.XGBRegressor(\n",
    "#         seed=42,\n",
    "# #        devide='cuda'  # Optional use of GPU\n",
    "#         **params,\n",
    "#     )\n",
    "\n",
    "\n",
    "\n",
    "\n",
    "    # Use cross-validation to evaluate the model\n",
    "    scores = cross_val_score(model, X_train, y_train,\n",
    "                             cv=3, scoring='neg_mean_squared_error', n_jobs=-1)\n",
    "    # Since scores are negative mean squared error, we negate it to get positive MSE\n",
    "    mse = -scores.mean()\n",
    "    return mse\n",
    "\n",
    "\n",
    "# Create a study object that will find the hyperparameters that minimize the objective\n",
    "study = optuna.create_study(direction='minimize')\n",
    "# You can adjust the number of trials here\n",
    "study.optimize(objective, n_trials=100)\n",
    "\n",
    "# Fetch the best parameters and the best score achieved\n",
    "best_params = study.best_params\n",
    "best_score = study.best_value\n",
    "\n",
    "print(\"Best score:\", best_score)\n",
    "print(\"Best parameters:\", best_params)"
   ]
  }
 ],
 "metadata": {
  "kernelspec": {
   "display_name": "AI-ML-Bootcamp-24-25",
   "language": "python",
   "name": "python3"
  },
  "language_info": {
   "codemirror_mode": {
    "name": "ipython",
    "version": 3
   },
   "file_extension": ".py",
   "mimetype": "text/x-python",
   "name": "python",
   "nbconvert_exporter": "python",
   "pygments_lexer": "ipython3",
   "version": "3.12.3"
  }
 },
 "nbformat": 4,
 "nbformat_minor": 2
}
