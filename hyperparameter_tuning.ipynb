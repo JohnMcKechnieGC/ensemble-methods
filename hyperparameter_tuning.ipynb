{
 "cells": [
  {
   "cell_type": "markdown",
   "metadata": {},
   "source": [
    "# Optimizing our Models"
   ]
  },
  {
   "cell_type": "code",
   "execution_count": 1,
   "metadata": {},
   "outputs": [],
   "source": [
    "import pandas as pd\n",
    "from sklearn.model_selection import train_test_split\n",
    "from sklearn.preprocessing import OrdinalEncoder\n",
    "from sklearn.model_selection import GridSearchCV\n",
    "import xgboost as xgb\n",
    "from sklearn.tree import DecisionTreeRegressor\n",
    "from sklearn.ensemble import RandomForestRegressor\n",
    "from sklearn.ensemble import HistGradientBoostingRegressor"
   ]
  },
  {
   "cell_type": "markdown",
   "metadata": {},
   "source": [
    "## Load and Process the Data\n",
    "This is using the same procedure as in housing_prices.ipynb. It would make sense to extract this into its own distinct process so that we didn't have to duplicate the code."
   ]
  },
  {
   "cell_type": "code",
   "execution_count": 2,
   "metadata": {},
   "outputs": [],
   "source": [
    "df = pd.read_csv('./data/housing.csv')\n",
    "df = df.dropna()"
   ]
  },
  {
   "cell_type": "code",
   "execution_count": 3,
   "metadata": {},
   "outputs": [],
   "source": [
    "X = df.drop('median_house_value', axis=1)\n",
    "y = df['median_house_value']"
   ]
  },
  {
   "cell_type": "code",
   "execution_count": 4,
   "metadata": {},
   "outputs": [],
   "source": [
    "X_train, X_test, y_train, y_test = train_test_split(\n",
    "    X,\n",
    "    y,\n",
    "    test_size=0.3,\n",
    "    random_state=42)"
   ]
  },
  {
   "cell_type": "code",
   "execution_count": 5,
   "metadata": {},
   "outputs": [],
   "source": [
    "# Define the categories in the desired order for encoding\n",
    "categories = [['INLAND', '<1H OCEAN', 'NEAR OCEAN', 'NEAR BAY', 'ISLAND']]\n",
    "encoder = OrdinalEncoder(categories=categories)\n",
    "X_train['ocean_proximity'] = encoder.fit_transform(\n",
    "    X_train[['ocean_proximity']])"
   ]
  },
  {
   "cell_type": "code",
   "execution_count": 6,
   "metadata": {},
   "outputs": [
    {
     "data": {
      "text/html": [
       "<div>\n",
       "<style scoped>\n",
       "    .dataframe tbody tr th:only-of-type {\n",
       "        vertical-align: middle;\n",
       "    }\n",
       "\n",
       "    .dataframe tbody tr th {\n",
       "        vertical-align: top;\n",
       "    }\n",
       "\n",
       "    .dataframe thead th {\n",
       "        text-align: right;\n",
       "    }\n",
       "</style>\n",
       "<table border=\"1\" class=\"dataframe\">\n",
       "  <thead>\n",
       "    <tr style=\"text-align: right;\">\n",
       "      <th></th>\n",
       "      <th>longitude</th>\n",
       "      <th>latitude</th>\n",
       "      <th>housing_median_age</th>\n",
       "      <th>total_rooms</th>\n",
       "      <th>total_bedrooms</th>\n",
       "      <th>population</th>\n",
       "      <th>households</th>\n",
       "      <th>median_income</th>\n",
       "      <th>ocean_proximity</th>\n",
       "    </tr>\n",
       "  </thead>\n",
       "  <tbody>\n",
       "    <tr>\n",
       "      <th>19566</th>\n",
       "      <td>-120.96</td>\n",
       "      <td>37.61</td>\n",
       "      <td>23.0</td>\n",
       "      <td>3497.0</td>\n",
       "      <td>887.0</td>\n",
       "      <td>2467.0</td>\n",
       "      <td>816.0</td>\n",
       "      <td>1.9444</td>\n",
       "      <td>0.0</td>\n",
       "    </tr>\n",
       "    <tr>\n",
       "      <th>7292</th>\n",
       "      <td>-118.22</td>\n",
       "      <td>33.98</td>\n",
       "      <td>34.0</td>\n",
       "      <td>2225.0</td>\n",
       "      <td>753.0</td>\n",
       "      <td>2980.0</td>\n",
       "      <td>736.0</td>\n",
       "      <td>1.6685</td>\n",
       "      <td>1.0</td>\n",
       "    </tr>\n",
       "    <tr>\n",
       "      <th>17618</th>\n",
       "      <td>-121.94</td>\n",
       "      <td>37.28</td>\n",
       "      <td>27.0</td>\n",
       "      <td>2859.0</td>\n",
       "      <td>464.0</td>\n",
       "      <td>1144.0</td>\n",
       "      <td>430.0</td>\n",
       "      <td>5.0822</td>\n",
       "      <td>1.0</td>\n",
       "    </tr>\n",
       "    <tr>\n",
       "      <th>17518</th>\n",
       "      <td>-121.91</td>\n",
       "      <td>37.34</td>\n",
       "      <td>35.0</td>\n",
       "      <td>2189.0</td>\n",
       "      <td>607.0</td>\n",
       "      <td>1193.0</td>\n",
       "      <td>562.0</td>\n",
       "      <td>2.8042</td>\n",
       "      <td>1.0</td>\n",
       "    </tr>\n",
       "    <tr>\n",
       "      <th>5172</th>\n",
       "      <td>-118.28</td>\n",
       "      <td>33.95</td>\n",
       "      <td>41.0</td>\n",
       "      <td>835.0</td>\n",
       "      <td>208.0</td>\n",
       "      <td>707.0</td>\n",
       "      <td>192.0</td>\n",
       "      <td>1.4103</td>\n",
       "      <td>1.0</td>\n",
       "    </tr>\n",
       "  </tbody>\n",
       "</table>\n",
       "</div>"
      ],
      "text/plain": [
       "       longitude  latitude  housing_median_age  total_rooms  total_bedrooms  \\\n",
       "19566    -120.96     37.61                23.0       3497.0           887.0   \n",
       "7292     -118.22     33.98                34.0       2225.0           753.0   \n",
       "17618    -121.94     37.28                27.0       2859.0           464.0   \n",
       "17518    -121.91     37.34                35.0       2189.0           607.0   \n",
       "5172     -118.28     33.95                41.0        835.0           208.0   \n",
       "\n",
       "       population  households  median_income  ocean_proximity  \n",
       "19566      2467.0       816.0         1.9444              0.0  \n",
       "7292       2980.0       736.0         1.6685              1.0  \n",
       "17618      1144.0       430.0         5.0822              1.0  \n",
       "17518      1193.0       562.0         2.8042              1.0  \n",
       "5172        707.0       192.0         1.4103              1.0  "
      ]
     },
     "execution_count": 6,
     "metadata": {},
     "output_type": "execute_result"
    }
   ],
   "source": [
    "X_train.head()"
   ]
  },
  {
   "cell_type": "code",
   "execution_count": 7,
   "metadata": {},
   "outputs": [
    {
     "data": {
      "text/plain": [
       "19566     93400.0\n",
       "7292     128800.0\n",
       "17618    327500.0\n",
       "17518    240900.0\n",
       "5172      86200.0\n",
       "Name: median_house_value, dtype: float64"
      ]
     },
     "execution_count": 7,
     "metadata": {},
     "output_type": "execute_result"
    }
   ],
   "source": [
    "y_train.head()"
   ]
  },
  {
   "cell_type": "markdown",
   "metadata": {},
   "source": [
    "Encode the ocean_proximity column in our validation and test sets as well."
   ]
  },
  {
   "cell_type": "code",
   "execution_count": 8,
   "metadata": {},
   "outputs": [],
   "source": [
    "X_test['ocean_proximity'] = encoder.fit_transform(\n",
    "    X_test[['ocean_proximity']])"
   ]
  },
  {
   "cell_type": "markdown",
   "metadata": {},
   "source": [
    "## Optimize our Models with Grid Search\n",
    "https://scikit-learn.org/stable/modules/generated/sklearn.model_selection.GridSearchCV.html"
   ]
  },
  {
   "cell_type": "markdown",
   "metadata": {},
   "source": [
    "The function below performs a grid search. To use it, we will define the parameters (including the type of model we wish to optimize)."
   ]
  },
  {
   "cell_type": "code",
   "execution_count": 9,
   "metadata": {},
   "outputs": [],
   "source": [
    "def perform_grid_search(parameters):\n",
    "    results = {}\n",
    "    for name, setup in parameters.items():\n",
    "        grid_search = GridSearchCV(\n",
    "            setup['model'], setup['params'], cv=3, scoring='neg_mean_squared_error', n_jobs=-1)\n",
    "        grid_search.fit(X_train, y_train)\n",
    "        results[name] = {\n",
    "            'best_score': grid_search.best_score_,\n",
    "            'best_params': grid_search.best_params_\n",
    "        }\n",
    "    return results"
   ]
  },
  {
   "cell_type": "markdown",
   "metadata": {},
   "source": [
    "### Sidebar: k-Fold Cross-Validation\n",
    "You may have noticed the cv=3 argument to GridSearchCV. This refers to \"cross-validation\".\n",
    "\n",
    "k-Fold Cross-Validation is a technique used to evaluate how well a machine learning model will perform on unseen data. Instead of splitting the data into just one training set and one test set, k-fold cross-validation splits the data into k equal-sized parts called folds.\n",
    "\n",
    "1. The dataset is shuffled (optional, but usually recommended) to make sure the data is randomly ordered.\n",
    "2. The data is then split into k folds (for example, if k=3, you split the data into 3 parts of roughly equal size).\n",
    "3. The model is trained k times — each time using k-1 folds for training and the remaining fold for validation.\n",
    "4. Each fold gets a turn to be the validation set exactly once.\n",
    "5. At the end, you calculate the average performance across all k runs to get a more reliable estimate of how the model performs.\n",
    "\n",
    "\n",
    "#### Example (k=3)\n",
    "\n",
    "| Fold # | Training Folds | Validation Fold |\n",
    "|---|---|---|\n",
    "| 1 | Folds 2, 3 | Fold 1 |\n",
    "| 2 | Folds 1, 3 | Fold 2 |\n",
    "| 3 | Folds 1, 2 | Fold 3 |\n",
    "\n",
    "\n",
    "\n",
    "#### Why Use k-Fold Cross-Validation?\n",
    "\n",
    "- It makes better use of your data — instead of losing data to a fixed validation set, every data point gets used for both training and validation.\n",
    "- It gives a more reliable estimate of performance, because you're testing on multiple different slices of the data.\n",
    "- It helps you detect overfitting — if the model does great on some folds but poorly on others, that's a sign the model might be too sensitive to the training data.\n",
    "\n",
    "#### k-Fold for Regression vs Classification\n",
    "\n",
    "- For regression, you can split the data into k regular folds (each fold gets a roughly equal number of samples).\n",
    "- For classification, you might want to use Stratified k-Fold. This ensures that each fold contains roughly the same proportion of each class (important if your classes are imbalanced)."
   ]
  },
  {
   "cell_type": "markdown",
   "metadata": {},
   "source": [
    "### Decision Tree"
   ]
  },
  {
   "cell_type": "code",
   "execution_count": 10,
   "metadata": {},
   "outputs": [],
   "source": [
    "decision_tree_params = {\n",
    "    'DecisionTree': {\n",
    "        'model': DecisionTreeRegressor(random_state=42),\n",
    "        'params': {\n",
    "            'criterion': ['squared_error', 'friedman_mse', 'absolute_error', 'poisson'],\n",
    "            #'splitter': ['best', 'random'],\n",
    "            'max_depth': [None, 10],\n",
    "            'min_samples_split': [2, 3],\n",
    "            'min_samples_leaf': [1, 14, 20],\n",
    "            'min_weight_fraction_leaf': [0.0, 0.01],\n",
    "            'max_features': [None, 'sqrt', 'log2'],\n",
    "            'max_leaf_nodes': [None, 100, 150],\n",
    "            'min_impurity_decrease': [0.0, 0.01],\n",
    "            'ccp_alpha': [0.0, 0.01, 0.02]\n",
    "        }\n",
    "    }\n",
    "}"
   ]
  },
  {
   "cell_type": "code",
   "execution_count": 11,
   "metadata": {},
   "outputs": [
    {
     "data": {
      "text/plain": [
       "{'DecisionTree': {'best_score': -3427705884.6115246,\n",
       "  'best_params': {'ccp_alpha': 0.0,\n",
       "   'criterion': 'poisson',\n",
       "   'max_depth': None,\n",
       "   'max_features': None,\n",
       "   'max_leaf_nodes': None,\n",
       "   'min_impurity_decrease': 0.01,\n",
       "   'min_samples_leaf': 14,\n",
       "   'min_samples_split': 2,\n",
       "   'min_weight_fraction_leaf': 0.0}}}"
      ]
     },
     "execution_count": 11,
     "metadata": {},
     "output_type": "execute_result"
    }
   ],
   "source": [
    "perform_grid_search(decision_tree_params)"
   ]
  },
  {
   "cell_type": "markdown",
   "metadata": {},
   "source": [
    "### Random Forest"
   ]
  },
  {
   "cell_type": "code",
   "execution_count": 12,
   "metadata": {},
   "outputs": [],
   "source": [
    "random_forest_params = {\n",
    "    'RandomForest': {\n",
    "        'model': RandomForestRegressor(random_state=42),\n",
    "        'params': {\n",
    "            'n_estimators': [10, 100, 400],\n",
    "            'max_features': [None, 'sqrt', 'log2']\n",
    "        }\n",
    "    }\n",
    "}"
   ]
  },
  {
   "cell_type": "code",
   "execution_count": 13,
   "metadata": {},
   "outputs": [
    {
     "data": {
      "text/plain": [
       "{'RandomForest': {'best_score': -2573219444.0531,\n",
       "  'best_params': {'max_features': 'sqrt', 'n_estimators': 400}}}"
      ]
     },
     "execution_count": 13,
     "metadata": {},
     "output_type": "execute_result"
    }
   ],
   "source": [
    "perform_grid_search(random_forest_params)"
   ]
  },
  {
   "cell_type": "markdown",
   "metadata": {},
   "source": [
    "### Gradient Boosting"
   ]
  },
  {
   "cell_type": "code",
   "execution_count": 14,
   "metadata": {},
   "outputs": [],
   "source": [
    "gradient_boosting_params = {\n",
    "    'HistGradientBoosting': {\n",
    "        'model': HistGradientBoostingRegressor(random_state=42),\n",
    "        'params': {\n",
    "            'max_iter': [50, 100, 150],\n",
    "            'learning_rate': [0.01, 0.1, 0.2]\n",
    "        }\n",
    "    }\n",
    "}"
   ]
  },
  {
   "cell_type": "code",
   "execution_count": 15,
   "metadata": {},
   "outputs": [
    {
     "data": {
      "text/plain": [
       "{'HistGradientBoosting': {'best_score': -2300070904.601216,\n",
       "  'best_params': {'learning_rate': 0.2, 'max_iter': 150}}}"
      ]
     },
     "execution_count": 15,
     "metadata": {},
     "output_type": "execute_result"
    }
   ],
   "source": [
    "perform_grid_search(gradient_boosting_params)"
   ]
  },
  {
   "cell_type": "markdown",
   "metadata": {},
   "source": [
    "### XGBoost"
   ]
  },
  {
   "cell_type": "code",
   "execution_count": 16,
   "metadata": {},
   "outputs": [],
   "source": [
    "xgboost_params = {\n",
    "    'XGBoost': {\n",
    "        'model': xgb.XGBRegressor(random_state=42),\n",
    "        'params': {\n",
    "            'n_estimators': [100, 200, 300],\n",
    "            'learning_rate': [0.01, 0.1, 0.2],\n",
    "            'max_depth': [3, 6, 9],\n",
    "            'subsample': [0.5, 0.7, 1.0],\n",
    "            'colsample_bytree': [0.5, 0.7, 1.0]\n",
    "        }\n",
    "    }\n",
    "}"
   ]
  },
  {
   "cell_type": "code",
   "execution_count": 17,
   "metadata": {},
   "outputs": [
    {
     "data": {
      "text/plain": [
       "{'XGBoost': {'best_score': -2265082406.696934,\n",
       "  'best_params': {'colsample_bytree': 1.0,\n",
       "   'learning_rate': 0.1,\n",
       "   'max_depth': 6,\n",
       "   'n_estimators': 300,\n",
       "   'subsample': 0.7}}}"
      ]
     },
     "execution_count": 17,
     "metadata": {},
     "output_type": "execute_result"
    }
   ],
   "source": [
    "perform_grid_search(xgboost_params)"
   ]
  },
  {
   "cell_type": "markdown",
   "metadata": {},
   "source": [
    "## Build and Evaluate Models Using Optimized Hyperparameters"
   ]
  },
  {
   "cell_type": "code",
   "execution_count": 18,
   "metadata": {},
   "outputs": [],
   "source": [
    "from sklearn.metrics import mean_squared_error, r2_score"
   ]
  },
  {
   "cell_type": "markdown",
   "metadata": {},
   "source": [
    "### Decision tree\n",
    "\n",
    "Best parameters from grid search:\n",
    "'ccp_alpha': 0.0, 'criterion': 'poisson', 'max_depth': None, 'max_features': None, 'max_leaf_nodes': None, 'min_impurity_decrease': 0.01, 'min_samples_leaf': 14, 'min_samples_split': 2, 'min_weight_fraction_leaf': 0.0"
   ]
  },
  {
   "cell_type": "code",
   "execution_count": 19,
   "metadata": {},
   "outputs": [
    {
     "name": "stdout",
     "output_type": "stream",
     "text": [
      "Decision Tree MSE: 3152051207.5525823\n",
      "Decision Treet R² Score: 0.7635535831938253\n"
     ]
    }
   ],
   "source": [
    "tree_regressor = DecisionTreeRegressor(\n",
    "    ccp_alpha=0.0, \n",
    "    criterion='poisson',\n",
    "    max_depth=None,\n",
    "    max_features=None,\n",
    "    max_leaf_nodes=None,\n",
    "    min_impurity_decrease=0.01,\n",
    "    min_samples_leaf=14,\n",
    "    min_samples_split=2,\n",
    "    min_weight_fraction_leaf=0.0,\n",
    "    random_state=42)\n",
    "\n",
    "tree_regressor.fit(X_train, y_train)\n",
    "\n",
    "y_pred_tree = tree_regressor.predict(X_test)\n",
    "\n",
    "mse_tree = mean_squared_error(y_test, y_pred_tree)\n",
    "r2_tree = r2_score(y_test, y_pred_tree)\n",
    "\n",
    "print(\"Decision Tree MSE:\", mse_tree)\n",
    "print(\"Decision Treet R² Score:\", r2_tree)"
   ]
  },
  {
   "cell_type": "markdown",
   "metadata": {},
   "source": [
    " ### Random forest\n",
    " Best parameters from grid search: 'max_features': 'sqrt', 'n_estimators': 400"
   ]
  },
  {
   "cell_type": "code",
   "execution_count": 20,
   "metadata": {},
   "outputs": [
    {
     "name": "stdout",
     "output_type": "stream",
     "text": [
      "Random Forest MSE: 2371179840.1664042\n",
      "Random Forest R² Score: 0.8221294833450031\n"
     ]
    }
   ],
   "source": [
    "forest_regressor = RandomForestRegressor(\n",
    "    max_features='sqrt',\n",
    "    n_estimators=400,\n",
    "    random_state=42)\n",
    "\n",
    "forest_regressor.fit(X_train, y_train)\n",
    "\n",
    "y_pred_forest = forest_regressor.predict(X_test)\n",
    "\n",
    "mse_forest = mean_squared_error(y_test, y_pred_forest)\n",
    "r2_forest = r2_score(y_test, y_pred_forest)\n",
    "\n",
    "print(\"Random Forest MSE:\", mse_forest)\n",
    "print(\"Random Forest R² Score:\", r2_forest)"
   ]
  },
  {
   "cell_type": "markdown",
   "metadata": {},
   "source": [
    "### Gradient boosting\n",
    "Best parameters from grid search: 'learning_rate': 0.2, 'max_iter': 150"
   ]
  },
  {
   "cell_type": "code",
   "execution_count": 21,
   "metadata": {},
   "outputs": [
    {
     "name": "stdout",
     "output_type": "stream",
     "text": [
      "HistGradientBoostingRegressor MSE: 2165946320.011851\n",
      "HistGradientBoostingRegressor R²: 0.8375247695423809\n"
     ]
    }
   ],
   "source": [
    "hist_regressor = HistGradientBoostingRegressor(\n",
    "    learning_rate=0.2,\n",
    "    max_iter=150,\n",
    "    random_state=42)\n",
    "\n",
    "hist_regressor.fit(X_train, y_train)\n",
    "\n",
    "y_pred_hist = hist_regressor.predict(X_test)\n",
    "\n",
    "mse_hist = mean_squared_error(y_test, y_pred_hist)\n",
    "r2_hist = r2_score(y_test, y_pred_hist)\n",
    "\n",
    "print(\"HistGradientBoostingRegressor MSE:\", mse_hist)\n",
    "print(\"HistGradientBoostingRegressor R²:\", r2_hist)"
   ]
  },
  {
   "cell_type": "markdown",
   "metadata": {},
   "source": [
    "### XGBoost\n",
    "Best parameters from grid search: 'colsample_bytree': 1.0, 'learning_rate': 0.1, 'max_depth': 6, 'n_estimators': 300, 'subsample': 0.7"
   ]
  },
  {
   "cell_type": "code",
   "execution_count": 22,
   "metadata": {},
   "outputs": [
    {
     "name": "stdout",
     "output_type": "stream",
     "text": [
      "XGBoost MSE: 2124919474.2667944\n",
      "XGBoost R² Score: 0.8406023371421821\n"
     ]
    }
   ],
   "source": [
    "xgb_reg = xgb.XGBRegressor(\n",
    "    colsample_bytree=1.0,\n",
    "    learning_rate=0.1,\n",
    "    max_depth=6,\n",
    "    n_estimators=300,\n",
    "    subsample=0.7,\n",
    "    seed=42)\n",
    "\n",
    "xgb_reg.fit(X_train, y_train)\n",
    "\n",
    "y_pred_xgb = xgb_reg.predict(X_test)\n",
    "\n",
    "mse_xgb = mean_squared_error(y_test, y_pred_xgb)\n",
    "r2_xgb = r2_score(y_test, y_pred_xgb)\n",
    "\n",
    "print(\"XGBoost MSE:\", mse_xgb)\n",
    "print(\"XGBoost R² Score:\", r2_xgb)"
   ]
  },
  {
   "cell_type": "markdown",
   "metadata": {},
   "source": [
    "# Activities"
   ]
  },
  {
   "cell_type": "markdown",
   "metadata": {},
   "source": [
    "## Perform a Grid Search\n",
    "Compare the results of using grid search to tune hyperparameters with the results of the corresponding models in the housing_prices.ipynb notebook. Did we improve on the results for all classifiers?\n",
    "\n",
    "Where we got worse results, this suggests that we didn't configure our search to explore thoroughly enough. Examine the hyperparameters for each model type and use those to prepare a more thorough hyperparameter optimization.\n",
    " - https://scikit-learn.org/stable/modules/generated/sklearn.tree.DecisionTreeRegressor.html\n",
    " - https://scikit-learn.org/stable/modules/generated/sklearn.ensemble.RandomForestRegressor.html\n",
    " - https://scikit-learn.org/stable/modules/generated/sklearn.ensemble.HistGradientBoostingRegressor.html\n",
    " - https://xgboost.readthedocs.io/en/stable/python/python_api.html\n",
    " - https://scikit-learn.org/stable/modules/generated/sklearn.ensemble.AdaBoostRegressor.html\n",
    "\n",
    "Experiment with hyperparameter optimization and compare your results with the default regressors we used in the ensemble methods session (housing_prices.ipynb).\n",
    "\n",
    "__CAUTION__: The goal is to get familiar with hyperparameter tuning, not to use electricity for hours and hours training models. It is easy to get carried away!"
   ]
  },
  {
   "cell_type": "markdown",
   "metadata": {},
   "source": [
    "## Activity: Examine Other Solutions\n",
    "Examine the solutions that other people have developed for the California Housing Prices dataset with a view to understanding how they have tried to improve their models. For example, user OMARAYMANATIA achieves an MSE of 48911 at https://www.kaggle.com/code/omaraymanatia/california-housing-prices-prediction.\n",
    "\n",
    "Kaggle conveniently shows you the rating of users (OMARAYMANATIA is a rated Kaggle Expert because of his notebooks) so we can focus on the work of the more experienced Kaggle users.\n",
    "\n",
    "From your explorations, compile a list of questions and ideas to try. Sort these by priority, taking into account how much work is involved (effort) and estimated likely payoff (value). Low-effort high-value actions are a great place to continue building your knowledge and skills. What list did you come up with?\n",
    "\n"
   ]
  },
  {
   "cell_type": "markdown",
   "metadata": {},
   "source": [
    "## Optional Activity: Experiment with Other Optimizers \n",
    "Scikit-learn has other hyperparameter optimizers and there are other optimization libraries. You may find that you get better results more quickly with those. For example, the Optuna code below found a set of hyperparameter values in just over 30 seconds that were as good as the ones that took GridSearch over 12 minutes to find. See https://optuna.org/ and for more information."
   ]
  },
  {
   "cell_type": "code",
   "execution_count": 23,
   "metadata": {},
   "outputs": [],
   "source": [
    "import optuna  # Optuna needs to be installed first\n",
    "from sklearn.model_selection import cross_val_score"
   ]
  },
  {
   "cell_type": "code",
   "execution_count": 24,
   "metadata": {},
   "outputs": [
    {
     "name": "stderr",
     "output_type": "stream",
     "text": [
      "[I 2025-03-06 00:52:08,093] A new study created in memory with name: no-name-837685c5-ecfa-4f12-b3bf-d1458baf4fd2\n",
      "[I 2025-03-06 00:52:08,142] Trial 0 finished with value: 5103782398.316927 and parameters: {'criterion': 'poisson', 'max_depth': None, 'min_samples_split': 2, 'min_samples_leaf': 1, 'min_weight_fraction_leaf': 0.008055524986197509, 'max_features': 'log2', 'max_leaf_nodes': 150, 'min_impurity_decrease': 0.007662608003558331, 'ccp_alpha': 0.004744198852928712}. Best is trial 0 with value: 5103782398.316927.\n",
      "[I 2025-03-06 00:52:08,188] Trial 1 finished with value: 4595884591.721328 and parameters: {'criterion': 'poisson', 'max_depth': None, 'min_samples_split': 2, 'min_samples_leaf': 14, 'min_weight_fraction_leaf': 0.002866965158005862, 'max_features': 'log2', 'max_leaf_nodes': None, 'min_impurity_decrease': 0.0037534506836559055, 'ccp_alpha': 0.006944596287593185}. Best is trial 1 with value: 4595884591.721328.\n",
      "[I 2025-03-06 00:52:08,224] Trial 2 finished with value: 5196668530.058003 and parameters: {'criterion': 'squared_error', 'max_depth': None, 'min_samples_split': 3, 'min_samples_leaf': 20, 'min_weight_fraction_leaf': 0.009759821231296921, 'max_features': 'log2', 'max_leaf_nodes': 100, 'min_impurity_decrease': 0.004879737143114655, 'ccp_alpha': 0.018017199137398184}. Best is trial 1 with value: 4595884591.721328.\n",
      "[I 2025-03-06 00:52:08,270] Trial 3 finished with value: 5140451416.285909 and parameters: {'criterion': 'poisson', 'max_depth': 10, 'min_samples_split': 3, 'min_samples_leaf': 20, 'min_weight_fraction_leaf': 0.008620464050645068, 'max_features': 'log2', 'max_leaf_nodes': 100, 'min_impurity_decrease': 0.006416209541835855, 'ccp_alpha': 0.013714176028734426}. Best is trial 1 with value: 4595884591.721328.\n",
      "[I 2025-03-06 00:52:08,338] Trial 4 finished with value: 3849278782.4756446 and parameters: {'criterion': 'friedman_mse', 'max_depth': 10, 'min_samples_split': 2, 'min_samples_leaf': 14, 'min_weight_fraction_leaf': 0.0035121253718575175, 'max_features': None, 'max_leaf_nodes': None, 'min_impurity_decrease': 0.006387977956544749, 'ccp_alpha': 0.015441312362100341}. Best is trial 4 with value: 3849278782.4756446.\n",
      "[I 2025-03-06 00:52:08,405] Trial 5 finished with value: 4108276336.664373 and parameters: {'criterion': 'friedman_mse', 'max_depth': None, 'min_samples_split': 3, 'min_samples_leaf': 1, 'min_weight_fraction_leaf': 0.007390712339715766, 'max_features': None, 'max_leaf_nodes': 100, 'min_impurity_decrease': 0.005553820319514918, 'ccp_alpha': 0.0011657512341555166}. Best is trial 4 with value: 3849278782.4756446.\n",
      "[I 2025-03-06 00:52:09,733] Trial 6 finished with value: 4804956876.931924 and parameters: {'criterion': 'absolute_error', 'max_depth': None, 'min_samples_split': 2, 'min_samples_leaf': 20, 'min_weight_fraction_leaf': 0.005162875557738778, 'max_features': 'log2', 'max_leaf_nodes': None, 'min_impurity_decrease': 0.0002301594098007709, 'ccp_alpha': 0.005807744236808281}. Best is trial 4 with value: 3849278782.4756446.\n",
      "[I 2025-03-06 00:52:09,780] Trial 7 finished with value: 4810345833.688067 and parameters: {'criterion': 'poisson', 'max_depth': None, 'min_samples_split': 3, 'min_samples_leaf': 20, 'min_weight_fraction_leaf': 0.004578045901704008, 'max_features': 'log2', 'max_leaf_nodes': None, 'min_impurity_decrease': 0.009775002956286704, 'ccp_alpha': 0.0074725308080909585}. Best is trial 4 with value: 3849278782.4756446.\n",
      "[I 2025-03-06 00:52:12,357] Trial 8 finished with value: 3989409867.3995876 and parameters: {'criterion': 'absolute_error', 'max_depth': 10, 'min_samples_split': 3, 'min_samples_leaf': 14, 'min_weight_fraction_leaf': 0.0037248129702739754, 'max_features': None, 'max_leaf_nodes': 150, 'min_impurity_decrease': 0.00874306918118689, 'ccp_alpha': 0.012720600488993714}. Best is trial 4 with value: 3849278782.4756446.\n",
      "[I 2025-03-06 00:52:12,403] Trial 9 finished with value: 4720352598.724338 and parameters: {'criterion': 'poisson', 'max_depth': None, 'min_samples_split': 3, 'min_samples_leaf': 14, 'min_weight_fraction_leaf': 0.004576830979440049, 'max_features': 'sqrt', 'max_leaf_nodes': 100, 'min_impurity_decrease': 0.008344974871805749, 'ccp_alpha': 0.011113672722767956}. Best is trial 4 with value: 3849278782.4756446.\n",
      "[I 2025-03-06 00:52:12,500] Trial 10 finished with value: 3757459032.0110135 and parameters: {'criterion': 'friedman_mse', 'max_depth': 10, 'min_samples_split': 2, 'min_samples_leaf': 14, 'min_weight_fraction_leaf': 0.00018894379678301675, 'max_features': None, 'max_leaf_nodes': None, 'min_impurity_decrease': 0.002531628242629641, 'ccp_alpha': 0.01972641475972376}. Best is trial 10 with value: 3757459032.0110135.\n",
      "[I 2025-03-06 00:52:12,581] Trial 11 finished with value: 3757459032.0110135 and parameters: {'criterion': 'friedman_mse', 'max_depth': 10, 'min_samples_split': 2, 'min_samples_leaf': 14, 'min_weight_fraction_leaf': 0.00018975863064507544, 'max_features': None, 'max_leaf_nodes': None, 'min_impurity_decrease': 0.0021955765494812802, 'ccp_alpha': 0.01946226739477854}. Best is trial 10 with value: 3757459032.0110135.\n",
      "[I 2025-03-06 00:52:12,693] Trial 12 finished with value: 3757459032.0110135 and parameters: {'criterion': 'friedman_mse', 'max_depth': 10, 'min_samples_split': 2, 'min_samples_leaf': 14, 'min_weight_fraction_leaf': 0.00022381727318356265, 'max_features': None, 'max_leaf_nodes': None, 'min_impurity_decrease': 0.001939381596182773, 'ccp_alpha': 0.019381498613229804}. Best is trial 10 with value: 3757459032.0110135.\n",
      "[I 2025-03-06 00:52:12,783] Trial 13 finished with value: 3757459032.0110135 and parameters: {'criterion': 'friedman_mse', 'max_depth': 10, 'min_samples_split': 2, 'min_samples_leaf': 14, 'min_weight_fraction_leaf': 3.37430444569229e-05, 'max_features': None, 'max_leaf_nodes': None, 'min_impurity_decrease': 0.0026028502547843675, 'ccp_alpha': 0.016656596296318122}. Best is trial 10 with value: 3757459032.0110135.\n",
      "[I 2025-03-06 00:52:12,843] Trial 14 finished with value: 4315364874.870553 and parameters: {'criterion': 'friedman_mse', 'max_depth': 10, 'min_samples_split': 2, 'min_samples_leaf': 14, 'min_weight_fraction_leaf': 0.001542317958816919, 'max_features': 'sqrt', 'max_leaf_nodes': None, 'min_impurity_decrease': 0.0005586553315285526, 'ccp_alpha': 0.01998475021057091}. Best is trial 10 with value: 3757459032.0110135.\n",
      "[I 2025-03-06 00:52:12,935] Trial 15 finished with value: 3757051373.045998 and parameters: {'criterion': 'squared_error', 'max_depth': 10, 'min_samples_split': 2, 'min_samples_leaf': 14, 'min_weight_fraction_leaf': 0.0018128883650878377, 'max_features': None, 'max_leaf_nodes': None, 'min_impurity_decrease': 0.00247428947102724, 'ccp_alpha': 0.015553814699683852}. Best is trial 15 with value: 3757051373.045998.\n",
      "[I 2025-03-06 00:52:13,015] Trial 16 finished with value: 3832728481.4415164 and parameters: {'criterion': 'squared_error', 'max_depth': 10, 'min_samples_split': 2, 'min_samples_leaf': 1, 'min_weight_fraction_leaf': 0.0016091649742876995, 'max_features': None, 'max_leaf_nodes': 150, 'min_impurity_decrease': 0.0036079968561087764, 'ccp_alpha': 0.014698278626570601}. Best is trial 15 with value: 3757051373.045998.\n",
      "[I 2025-03-06 00:52:13,098] Trial 17 finished with value: 3758574827.3524785 and parameters: {'criterion': 'squared_error', 'max_depth': 10, 'min_samples_split': 2, 'min_samples_leaf': 14, 'min_weight_fraction_leaf': 0.0019433976585064175, 'max_features': None, 'max_leaf_nodes': None, 'min_impurity_decrease': 0.0013228858349294038, 'ccp_alpha': 0.017057247058882934}. Best is trial 15 with value: 3757051373.045998.\n",
      "[I 2025-03-06 00:52:13,146] Trial 18 finished with value: 4687268354.146449 and parameters: {'criterion': 'squared_error', 'max_depth': 10, 'min_samples_split': 2, 'min_samples_leaf': 14, 'min_weight_fraction_leaf': 0.006229947410352273, 'max_features': 'sqrt', 'max_leaf_nodes': None, 'min_impurity_decrease': 0.0035092872969655848, 'ccp_alpha': 0.010033763784982197}. Best is trial 15 with value: 3757051373.045998.\n",
      "[I 2025-03-06 00:52:13,227] Trial 19 finished with value: 3834394602.5106378 and parameters: {'criterion': 'squared_error', 'max_depth': 10, 'min_samples_split': 2, 'min_samples_leaf': 1, 'min_weight_fraction_leaf': 0.00146062025150559, 'max_features': None, 'max_leaf_nodes': 150, 'min_impurity_decrease': 0.0044534979663201435, 'ccp_alpha': 0.016042283032947868}. Best is trial 15 with value: 3757051373.045998.\n",
      "[I 2025-03-06 00:52:15,811] Trial 20 finished with value: 3899413296.0038877 and parameters: {'criterion': 'absolute_error', 'max_depth': 10, 'min_samples_split': 2, 'min_samples_leaf': 14, 'min_weight_fraction_leaf': 0.0026537994732324646, 'max_features': None, 'max_leaf_nodes': None, 'min_impurity_decrease': 0.0013905228756728983, 'ccp_alpha': 0.012110585003762624}. Best is trial 15 with value: 3757051373.045998.\n",
      "[I 2025-03-06 00:52:15,902] Trial 21 finished with value: 3757459032.0110135 and parameters: {'criterion': 'friedman_mse', 'max_depth': 10, 'min_samples_split': 2, 'min_samples_leaf': 14, 'min_weight_fraction_leaf': 0.0007614643438848807, 'max_features': None, 'max_leaf_nodes': None, 'min_impurity_decrease': 0.0026673008118354626, 'ccp_alpha': 0.018700947251976404}. Best is trial 15 with value: 3757051373.045998.\n",
      "[I 2025-03-06 00:52:15,983] Trial 22 finished with value: 3757459032.0110135 and parameters: {'criterion': 'friedman_mse', 'max_depth': 10, 'min_samples_split': 2, 'min_samples_leaf': 14, 'min_weight_fraction_leaf': 0.000952329316491856, 'max_features': None, 'max_leaf_nodes': None, 'min_impurity_decrease': 0.00243732280993253, 'ccp_alpha': 0.017939449549568734}. Best is trial 15 with value: 3757051373.045998.\n",
      "[I 2025-03-06 00:52:16,065] Trial 23 finished with value: 3757459032.0110135 and parameters: {'criterion': 'friedman_mse', 'max_depth': 10, 'min_samples_split': 2, 'min_samples_leaf': 14, 'min_weight_fraction_leaf': 4.289714671227478e-05, 'max_features': None, 'max_leaf_nodes': None, 'min_impurity_decrease': 0.0016147996948946389, 'ccp_alpha': 0.01993353761659123}. Best is trial 15 with value: 3757051373.045998.\n",
      "[I 2025-03-06 00:52:16,146] Trial 24 finished with value: 3795826928.7353706 and parameters: {'criterion': 'squared_error', 'max_depth': 10, 'min_samples_split': 2, 'min_samples_leaf': 14, 'min_weight_fraction_leaf': 0.0022953802596628096, 'max_features': None, 'max_leaf_nodes': None, 'min_impurity_decrease': 0.003149896530797968, 'ccp_alpha': 0.014219492613370088}. Best is trial 15 with value: 3757051373.045998.\n",
      "[I 2025-03-06 00:52:16,194] Trial 25 finished with value: 4311233984.278279 and parameters: {'criterion': 'friedman_mse', 'max_depth': 10, 'min_samples_split': 2, 'min_samples_leaf': 14, 'min_weight_fraction_leaf': 0.0008474672304242523, 'max_features': 'sqrt', 'max_leaf_nodes': None, 'min_impurity_decrease': 0.0008116463255845501, 'ccp_alpha': 0.017224786288665368}. Best is trial 15 with value: 3757051373.045998.\n",
      "[I 2025-03-06 00:52:16,274] Trial 26 finished with value: 3790572596.732267 and parameters: {'criterion': 'friedman_mse', 'max_depth': 10, 'min_samples_split': 2, 'min_samples_leaf': 14, 'min_weight_fraction_leaf': 0.003161138860712972, 'max_features': None, 'max_leaf_nodes': None, 'min_impurity_decrease': 0.004235610669862651, 'ccp_alpha': 0.015777895284920965}. Best is trial 15 with value: 3757051373.045998.\n",
      "[I 2025-03-06 00:52:16,355] Trial 27 finished with value: 3845488822.863671 and parameters: {'criterion': 'squared_error', 'max_depth': 10, 'min_samples_split': 2, 'min_samples_leaf': 1, 'min_weight_fraction_leaf': 0.0009925397115618836, 'max_features': None, 'max_leaf_nodes': None, 'min_impurity_decrease': 0.0021365633737631387, 'ccp_alpha': 0.01867835590322923}. Best is trial 15 with value: 3757051373.045998.\n",
      "[I 2025-03-06 00:52:18,856] Trial 28 finished with value: 3949184917.113622 and parameters: {'criterion': 'absolute_error', 'max_depth': 10, 'min_samples_split': 2, 'min_samples_leaf': 20, 'min_weight_fraction_leaf': 0.0023329182099378473, 'max_features': None, 'max_leaf_nodes': 150, 'min_impurity_decrease': 0.005868835888105703, 'ccp_alpha': 0.01791202929083002}. Best is trial 15 with value: 3757051373.045998.\n",
      "[I 2025-03-06 00:52:18,905] Trial 29 finished with value: 4514205048.115822 and parameters: {'criterion': 'friedman_mse', 'max_depth': 10, 'min_samples_split': 2, 'min_samples_leaf': 14, 'min_weight_fraction_leaf': 0.0005141377983781214, 'max_features': 'sqrt', 'max_leaf_nodes': 100, 'min_impurity_decrease': 1.5759844443282833e-05, 'ccp_alpha': 0.008679215188544353}. Best is trial 15 with value: 3757051373.045998.\n",
      "[I 2025-03-06 00:52:18,986] Trial 30 finished with value: 3876556273.987041 and parameters: {'criterion': 'squared_error', 'max_depth': 10, 'min_samples_split': 2, 'min_samples_leaf': 1, 'min_weight_fraction_leaf': 0.0040084608578743585, 'max_features': None, 'max_leaf_nodes': 150, 'min_impurity_decrease': 0.00294342982196465, 'ccp_alpha': 0.002032585574756338}. Best is trial 15 with value: 3757051373.045998.\n",
      "[I 2025-03-06 00:52:19,067] Trial 31 finished with value: 3757459032.0110135 and parameters: {'criterion': 'friedman_mse', 'max_depth': 10, 'min_samples_split': 2, 'min_samples_leaf': 14, 'min_weight_fraction_leaf': 7.510576068051164e-05, 'max_features': None, 'max_leaf_nodes': None, 'min_impurity_decrease': 0.0018254357951785326, 'ccp_alpha': 0.019921061545583336}. Best is trial 15 with value: 3757051373.045998.\n",
      "[I 2025-03-06 00:52:19,159] Trial 32 finished with value: 3757459032.0110135 and parameters: {'criterion': 'friedman_mse', 'max_depth': 10, 'min_samples_split': 2, 'min_samples_leaf': 14, 'min_weight_fraction_leaf': 0.0013351279454803368, 'max_features': None, 'max_leaf_nodes': None, 'min_impurity_decrease': 0.0009586607498403537, 'ccp_alpha': 0.01893093572374776}. Best is trial 15 with value: 3757051373.045998.\n",
      "[I 2025-03-06 00:52:19,251] Trial 33 finished with value: 3757459032.0110135 and parameters: {'criterion': 'friedman_mse', 'max_depth': 10, 'min_samples_split': 2, 'min_samples_leaf': 14, 'min_weight_fraction_leaf': 0.0004971486133334074, 'max_features': None, 'max_leaf_nodes': None, 'min_impurity_decrease': 0.0020196492816341913, 'ccp_alpha': 0.018979429795982217}. Best is trial 15 with value: 3757051373.045998.\n",
      "[I 2025-03-06 00:52:19,310] Trial 34 finished with value: 4304241756.972908 and parameters: {'criterion': 'friedman_mse', 'max_depth': None, 'min_samples_split': 2, 'min_samples_leaf': 14, 'min_weight_fraction_leaf': 0.0018995739927002624, 'max_features': 'log2', 'max_leaf_nodes': None, 'min_impurity_decrease': 0.00394156659848828, 'ccp_alpha': 0.017099653404794447}. Best is trial 15 with value: 3757051373.045998.\n",
      "[I 2025-03-06 00:52:19,403] Trial 35 finished with value: 3559337417.6457253 and parameters: {'criterion': 'poisson', 'max_depth': 10, 'min_samples_split': 2, 'min_samples_leaf': 14, 'min_weight_fraction_leaf': 0.000417194826629378, 'max_features': None, 'max_leaf_nodes': None, 'min_impurity_decrease': 0.004984177937593894, 'ccp_alpha': 0.015071433069683823}. Best is trial 35 with value: 3559337417.6457253.\n",
      "[I 2025-03-06 00:52:19,484] Trial 36 finished with value: 3971578519.21967 and parameters: {'criterion': 'poisson', 'max_depth': 10, 'min_samples_split': 3, 'min_samples_leaf': 20, 'min_weight_fraction_leaf': 0.005818251438794077, 'max_features': None, 'max_leaf_nodes': 100, 'min_impurity_decrease': 0.004969352142858127, 'ccp_alpha': 0.015033299950315942}. Best is trial 35 with value: 3559337417.6457253.\n",
      "[I 2025-03-06 00:52:19,535] Trial 37 finished with value: 5105293794.946748 and parameters: {'criterion': 'poisson', 'max_depth': None, 'min_samples_split': 2, 'min_samples_leaf': 14, 'min_weight_fraction_leaf': 0.009829042592251976, 'max_features': 'log2', 'max_leaf_nodes': None, 'min_impurity_decrease': 0.0070976230457058, 'ccp_alpha': 0.012799301966730174}. Best is trial 35 with value: 3559337417.6457253.\n",
      "[I 2025-03-06 00:52:19,617] Trial 38 finished with value: 4134492559.1197133 and parameters: {'criterion': 'poisson', 'max_depth': 10, 'min_samples_split': 2, 'min_samples_leaf': 14, 'min_weight_fraction_leaf': 0.008966405384281015, 'max_features': None, 'max_leaf_nodes': None, 'min_impurity_decrease': 0.004574617918284682, 'ccp_alpha': 0.013686669520238838}. Best is trial 35 with value: 3559337417.6457253.\n",
      "[I 2025-03-06 00:52:19,679] Trial 39 finished with value: 4838215416.125931 and parameters: {'criterion': 'poisson', 'max_depth': None, 'min_samples_split': 3, 'min_samples_leaf': 20, 'min_weight_fraction_leaf': 0.0026977742623590225, 'max_features': 'log2', 'max_leaf_nodes': 100, 'min_impurity_decrease': 0.005478424917382397, 'ccp_alpha': 0.0035946888461736194}. Best is trial 35 with value: 3559337417.6457253.\n",
      "[I 2025-03-06 00:52:19,771] Trial 40 finished with value: 3559337417.6457253 and parameters: {'criterion': 'poisson', 'max_depth': 10, 'min_samples_split': 2, 'min_samples_leaf': 14, 'min_weight_fraction_leaf': 0.0011827275723319693, 'max_features': None, 'max_leaf_nodes': None, 'min_impurity_decrease': 0.0034149187265761875, 'ccp_alpha': 0.015930153106437132}. Best is trial 35 with value: 3559337417.6457253.\n",
      "[I 2025-03-06 00:52:19,863] Trial 41 finished with value: 3559337417.6457253 and parameters: {'criterion': 'poisson', 'max_depth': 10, 'min_samples_split': 2, 'min_samples_leaf': 14, 'min_weight_fraction_leaf': 0.0013052411529219108, 'max_features': None, 'max_leaf_nodes': None, 'min_impurity_decrease': 0.0032674624197420875, 'ccp_alpha': 0.016018383518433963}. Best is trial 35 with value: 3559337417.6457253.\n",
      "[I 2025-03-06 00:52:19,954] Trial 42 finished with value: 3559337417.6457253 and parameters: {'criterion': 'poisson', 'max_depth': 10, 'min_samples_split': 2, 'min_samples_leaf': 14, 'min_weight_fraction_leaf': 0.0011789644819532553, 'max_features': None, 'max_leaf_nodes': None, 'min_impurity_decrease': 0.003239332794408939, 'ccp_alpha': 0.011301306652825546}. Best is trial 35 with value: 3559337417.6457253.\n",
      "[I 2025-03-06 00:52:20,045] Trial 43 finished with value: 3704848507.408315 and parameters: {'criterion': 'poisson', 'max_depth': 10, 'min_samples_split': 2, 'min_samples_leaf': 14, 'min_weight_fraction_leaf': 0.003173872010426496, 'max_features': None, 'max_leaf_nodes': None, 'min_impurity_decrease': 0.003231234866199239, 'ccp_alpha': 0.011171269441775149}. Best is trial 35 with value: 3559337417.6457253.\n",
      "[I 2025-03-06 00:52:20,137] Trial 44 finished with value: 3692249075.4653726 and parameters: {'criterion': 'poisson', 'max_depth': 10, 'min_samples_split': 2, 'min_samples_leaf': 14, 'min_weight_fraction_leaf': 0.003004502782021799, 'max_features': None, 'max_leaf_nodes': None, 'min_impurity_decrease': 0.003256647190245786, 'ccp_alpha': 0.009951097801552542}. Best is trial 35 with value: 3559337417.6457253.\n",
      "[I 2025-03-06 00:52:20,240] Trial 45 finished with value: 3515929687.1764264 and parameters: {'criterion': 'poisson', 'max_depth': None, 'min_samples_split': 2, 'min_samples_leaf': 14, 'min_weight_fraction_leaf': 0.0023025053125545992, 'max_features': None, 'max_leaf_nodes': None, 'min_impurity_decrease': 0.003919288981487082, 'ccp_alpha': 0.008872330704082292}. Best is trial 45 with value: 3515929687.1764264.\n",
      "[I 2025-03-06 00:52:20,341] Trial 46 finished with value: 3427713739.073849 and parameters: {'criterion': 'poisson', 'max_depth': None, 'min_samples_split': 3, 'min_samples_leaf': 14, 'min_weight_fraction_leaf': 0.0010486073438520898, 'max_features': None, 'max_leaf_nodes': None, 'min_impurity_decrease': 0.003939138411628309, 'ccp_alpha': 0.007846834068330765}. Best is trial 46 with value: 3427713739.073849.\n",
      "[I 2025-03-06 00:52:20,401] Trial 47 finished with value: 4627136453.0803995 and parameters: {'criterion': 'poisson', 'max_depth': None, 'min_samples_split': 3, 'min_samples_leaf': 20, 'min_weight_fraction_leaf': 0.002224321206630615, 'max_features': 'log2', 'max_leaf_nodes': 100, 'min_impurity_decrease': 0.005384968182135427, 'ccp_alpha': 0.005908235208144981}. Best is trial 46 with value: 3427713739.073849.\n",
      "[I 2025-03-06 00:52:20,493] Trial 48 finished with value: 3710726014.6893544 and parameters: {'criterion': 'poisson', 'max_depth': None, 'min_samples_split': 3, 'min_samples_leaf': 1, 'min_weight_fraction_leaf': 0.003952715005596662, 'max_features': None, 'max_leaf_nodes': None, 'min_impurity_decrease': 0.003868846356527109, 'ccp_alpha': 0.008582948437898134}. Best is trial 46 with value: 3427713739.073849.\n",
      "[I 2025-03-06 00:52:20,542] Trial 49 finished with value: 4891825257.802716 and parameters: {'criterion': 'poisson', 'max_depth': None, 'min_samples_split': 3, 'min_samples_leaf': 14, 'min_weight_fraction_leaf': 0.007173035707671218, 'max_features': 'sqrt', 'max_leaf_nodes': 150, 'min_impurity_decrease': 0.00601636052775625, 'ccp_alpha': 0.006815603029813081}. Best is trial 46 with value: 3427713739.073849.\n",
      "[I 2025-03-06 00:52:20,643] Trial 50 finished with value: 3427713739.073849 and parameters: {'criterion': 'poisson', 'max_depth': None, 'min_samples_split': 3, 'min_samples_leaf': 14, 'min_weight_fraction_leaf': 0.0005999964204824219, 'max_features': None, 'max_leaf_nodes': None, 'min_impurity_decrease': 0.006748862078368004, 'ccp_alpha': 0.008548995993031617}. Best is trial 46 with value: 3427713739.073849.\n",
      "[I 2025-03-06 00:52:20,746] Trial 51 finished with value: 3427713739.073849 and parameters: {'criterion': 'poisson', 'max_depth': None, 'min_samples_split': 3, 'min_samples_leaf': 14, 'min_weight_fraction_leaf': 0.0005589171514540558, 'max_features': None, 'max_leaf_nodes': None, 'min_impurity_decrease': 0.0072651424886593045, 'ccp_alpha': 0.008385755578206021}. Best is trial 46 with value: 3427713739.073849.\n",
      "[I 2025-03-06 00:52:20,849] Trial 52 finished with value: 3427713739.073849 and parameters: {'criterion': 'poisson', 'max_depth': None, 'min_samples_split': 3, 'min_samples_leaf': 14, 'min_weight_fraction_leaf': 0.0006046147395211824, 'max_features': None, 'max_leaf_nodes': None, 'min_impurity_decrease': 0.007367161047467088, 'ccp_alpha': 0.007946943341704904}. Best is trial 46 with value: 3427713739.073849.\n",
      "[I 2025-03-06 00:52:20,952] Trial 53 finished with value: 3427713739.073849 and parameters: {'criterion': 'poisson', 'max_depth': None, 'min_samples_split': 3, 'min_samples_leaf': 14, 'min_weight_fraction_leaf': 0.0005748787011045941, 'max_features': None, 'max_leaf_nodes': None, 'min_impurity_decrease': 0.007266010881929326, 'ccp_alpha': 0.008361374948211873}. Best is trial 46 with value: 3427713739.073849.\n",
      "[I 2025-03-06 00:52:21,059] Trial 54 finished with value: 3427713739.073849 and parameters: {'criterion': 'poisson', 'max_depth': None, 'min_samples_split': 3, 'min_samples_leaf': 14, 'min_weight_fraction_leaf': 0.0006852446836302234, 'max_features': None, 'max_leaf_nodes': None, 'min_impurity_decrease': 0.00765116811941154, 'ccp_alpha': 0.008252048804135662}. Best is trial 46 with value: 3427713739.073849.\n",
      "[I 2025-03-06 00:52:21,161] Trial 55 finished with value: 3427713739.073849 and parameters: {'criterion': 'poisson', 'max_depth': None, 'min_samples_split': 3, 'min_samples_leaf': 14, 'min_weight_fraction_leaf': 0.0006071245696910185, 'max_features': None, 'max_leaf_nodes': None, 'min_impurity_decrease': 0.007848358142742486, 'ccp_alpha': 0.00756132448686777}. Best is trial 46 with value: 3427713739.073849.\n",
      "[I 2025-03-06 00:52:21,264] Trial 56 finished with value: 3427713739.073849 and parameters: {'criterion': 'poisson', 'max_depth': None, 'min_samples_split': 3, 'min_samples_leaf': 14, 'min_weight_fraction_leaf': 0.0007755908088537145, 'max_features': None, 'max_leaf_nodes': None, 'min_impurity_decrease': 0.006994446366868598, 'ccp_alpha': 0.004852174530353762}. Best is trial 46 with value: 3427713739.073849.\n",
      "[I 2025-03-06 00:52:21,365] Trial 57 finished with value: 3461475522.5792694 and parameters: {'criterion': 'poisson', 'max_depth': None, 'min_samples_split': 3, 'min_samples_leaf': 14, 'min_weight_fraction_leaf': 0.0016187893427831203, 'max_features': None, 'max_leaf_nodes': None, 'min_impurity_decrease': 0.009044454288006251, 'ccp_alpha': 0.009795299150932512}. Best is trial 46 with value: 3427713739.073849.\n",
      "[I 2025-03-06 00:52:21,468] Trial 58 finished with value: 3427713739.073849 and parameters: {'criterion': 'poisson', 'max_depth': None, 'min_samples_split': 3, 'min_samples_leaf': 14, 'min_weight_fraction_leaf': 0.00043822180963638157, 'max_features': None, 'max_leaf_nodes': None, 'min_impurity_decrease': 0.006954896618222048, 'ccp_alpha': 0.007751293650960238}. Best is trial 46 with value: 3427713739.073849.\n",
      "[I 2025-03-06 00:52:22,782] Trial 59 finished with value: 4378825106.223536 and parameters: {'criterion': 'absolute_error', 'max_depth': None, 'min_samples_split': 3, 'min_samples_leaf': 1, 'min_weight_fraction_leaf': 0.0019396049955677933, 'max_features': 'sqrt', 'max_leaf_nodes': None, 'min_impurity_decrease': 0.007827472678587064, 'ccp_alpha': 0.006319994745000536}. Best is trial 46 with value: 3427713739.073849.\n",
      "[I 2025-03-06 00:52:22,875] Trial 60 finished with value: 3625425115.778055 and parameters: {'criterion': 'poisson', 'max_depth': None, 'min_samples_split': 3, 'min_samples_leaf': 14, 'min_weight_fraction_leaf': 0.000986790627402332, 'max_features': None, 'max_leaf_nodes': 150, 'min_impurity_decrease': 0.00841607563568329, 'ccp_alpha': 0.008204813260495054}. Best is trial 46 with value: 3427713739.073849.\n",
      "[I 2025-03-06 00:52:22,978] Trial 61 finished with value: 3427705884.6115246 and parameters: {'criterion': 'poisson', 'max_depth': None, 'min_samples_split': 3, 'min_samples_leaf': 14, 'min_weight_fraction_leaf': 0.0006183032829960676, 'max_features': None, 'max_leaf_nodes': None, 'min_impurity_decrease': 0.007587075042333047, 'ccp_alpha': 0.009357482261580388}. Best is trial 61 with value: 3427705884.6115246.\n",
      "[I 2025-03-06 00:52:23,082] Trial 62 finished with value: 3427705884.6115246 and parameters: {'criterion': 'poisson', 'max_depth': None, 'min_samples_split': 3, 'min_samples_leaf': 14, 'min_weight_fraction_leaf': 5.4506827425074376e-06, 'max_features': None, 'max_leaf_nodes': None, 'min_impurity_decrease': 0.00659838154554788, 'ccp_alpha': 0.009267382051106112}. Best is trial 61 with value: 3427705884.6115246.\n",
      "[I 2025-03-06 00:52:23,184] Trial 63 finished with value: 3427705884.6115246 and parameters: {'criterion': 'poisson', 'max_depth': None, 'min_samples_split': 3, 'min_samples_leaf': 14, 'min_weight_fraction_leaf': 0.00032845455075862805, 'max_features': None, 'max_leaf_nodes': None, 'min_impurity_decrease': 0.006477050271794653, 'ccp_alpha': 0.009745308055900324}. Best is trial 61 with value: 3427705884.6115246.\n",
      "[I 2025-03-06 00:52:23,288] Trial 64 finished with value: 3427705884.6115246 and parameters: {'criterion': 'poisson', 'max_depth': None, 'min_samples_split': 3, 'min_samples_leaf': 14, 'min_weight_fraction_leaf': 4.951539351807211e-05, 'max_features': None, 'max_leaf_nodes': None, 'min_impurity_decrease': 0.0066104383072211415, 'ccp_alpha': 0.009343798358875575}. Best is trial 61 with value: 3427705884.6115246.\n",
      "[I 2025-03-06 00:52:23,391] Trial 65 finished with value: 3427705884.6115246 and parameters: {'criterion': 'poisson', 'max_depth': None, 'min_samples_split': 3, 'min_samples_leaf': 14, 'min_weight_fraction_leaf': 9.491558677039366e-05, 'max_features': None, 'max_leaf_nodes': None, 'min_impurity_decrease': 0.006538190465886428, 'ccp_alpha': 0.009442280261426392}. Best is trial 61 with value: 3427705884.6115246.\n",
      "[I 2025-03-06 00:52:23,493] Trial 66 finished with value: 3427705884.6115246 and parameters: {'criterion': 'poisson', 'max_depth': None, 'min_samples_split': 3, 'min_samples_leaf': 14, 'min_weight_fraction_leaf': 8.261375498823788e-05, 'max_features': None, 'max_leaf_nodes': None, 'min_impurity_decrease': 0.0064060069547719825, 'ccp_alpha': 0.009529498533602979}. Best is trial 61 with value: 3427705884.6115246.\n",
      "[I 2025-03-06 00:52:26,059] Trial 67 finished with value: 3772187324.091006 and parameters: {'criterion': 'absolute_error', 'max_depth': None, 'min_samples_split': 3, 'min_samples_leaf': 20, 'min_weight_fraction_leaf': 2.6292720790380613e-05, 'max_features': None, 'max_leaf_nodes': None, 'min_impurity_decrease': 0.006415237820921776, 'ccp_alpha': 0.009304757805438723}. Best is trial 61 with value: 3427705884.6115246.\n",
      "[I 2025-03-06 00:52:26,163] Trial 68 finished with value: 3427705884.6115246 and parameters: {'criterion': 'poisson', 'max_depth': None, 'min_samples_split': 3, 'min_samples_leaf': 14, 'min_weight_fraction_leaf': 0.0002482964137872115, 'max_features': None, 'max_leaf_nodes': None, 'min_impurity_decrease': 0.0061596422350128025, 'ccp_alpha': 0.010615752623788393}. Best is trial 61 with value: 3427705884.6115246.\n",
      "[I 2025-03-06 00:52:26,223] Trial 69 finished with value: 4580758795.393035 and parameters: {'criterion': 'poisson', 'max_depth': None, 'min_samples_split': 3, 'min_samples_leaf': 14, 'min_weight_fraction_leaf': 0.00028487188536991195, 'max_features': 'log2', 'max_leaf_nodes': 100, 'min_impurity_decrease': 0.006094797412771584, 'ccp_alpha': 0.010602997179474119}. Best is trial 61 with value: 3427705884.6115246.\n",
      "[I 2025-03-06 00:52:26,324] Trial 70 finished with value: 3427705884.6115246 and parameters: {'criterion': 'poisson', 'max_depth': None, 'min_samples_split': 3, 'min_samples_leaf': 14, 'min_weight_fraction_leaf': 4.8170029620395466e-05, 'max_features': None, 'max_leaf_nodes': None, 'min_impurity_decrease': 0.006533541165999135, 'ccp_alpha': 0.011895758023186525}. Best is trial 61 with value: 3427705884.6115246.\n",
      "[I 2025-03-06 00:52:26,425] Trial 71 finished with value: 3427705884.6115246 and parameters: {'criterion': 'poisson', 'max_depth': None, 'min_samples_split': 3, 'min_samples_leaf': 14, 'min_weight_fraction_leaf': 0.00022398498224478493, 'max_features': None, 'max_leaf_nodes': None, 'min_impurity_decrease': 0.006733389818651265, 'ccp_alpha': 0.01200226062318097}. Best is trial 61 with value: 3427705884.6115246.\n",
      "[I 2025-03-06 00:52:26,529] Trial 72 finished with value: 3427705884.6115246 and parameters: {'criterion': 'poisson', 'max_depth': None, 'min_samples_split': 3, 'min_samples_leaf': 14, 'min_weight_fraction_leaf': 0.0002477045886345083, 'max_features': None, 'max_leaf_nodes': None, 'min_impurity_decrease': 0.0058056867065514805, 'ccp_alpha': 0.010629229983634369}. Best is trial 61 with value: 3427705884.6115246.\n",
      "[I 2025-03-06 00:52:26,631] Trial 73 finished with value: 3427705884.6115246 and parameters: {'criterion': 'poisson', 'max_depth': None, 'min_samples_split': 3, 'min_samples_leaf': 14, 'min_weight_fraction_leaf': 6.415569075712678e-05, 'max_features': None, 'max_leaf_nodes': None, 'min_impurity_decrease': 0.006256005570120373, 'ccp_alpha': 0.009318572690806543}. Best is trial 61 with value: 3427705884.6115246.\n",
      "[I 2025-03-06 00:52:26,733] Trial 74 finished with value: 3427705884.6115246 and parameters: {'criterion': 'poisson', 'max_depth': None, 'min_samples_split': 3, 'min_samples_leaf': 14, 'min_weight_fraction_leaf': 1.1932160089895259e-05, 'max_features': None, 'max_leaf_nodes': None, 'min_impurity_decrease': 0.006560464236183317, 'ccp_alpha': 0.011753717301974893}. Best is trial 61 with value: 3427705884.6115246.\n",
      "[I 2025-03-06 00:52:26,835] Trial 75 finished with value: 3427705884.6115246 and parameters: {'criterion': 'poisson', 'max_depth': None, 'min_samples_split': 3, 'min_samples_leaf': 14, 'min_weight_fraction_leaf': 0.0008859199750712022, 'max_features': None, 'max_leaf_nodes': None, 'min_impurity_decrease': 0.0053385776558137294, 'ccp_alpha': 0.012747316612433123}. Best is trial 61 with value: 3427705884.6115246.\n",
      "[I 2025-03-06 00:52:26,895] Trial 76 finished with value: 4431057932.0230665 and parameters: {'criterion': 'poisson', 'max_depth': None, 'min_samples_split': 3, 'min_samples_leaf': 14, 'min_weight_fraction_leaf': 0.001537283078096715, 'max_features': 'sqrt', 'max_leaf_nodes': 150, 'min_impurity_decrease': 0.005642705433432377, 'ccp_alpha': 0.010518747632336234}. Best is trial 61 with value: 3427705884.6115246.\n",
      "[I 2025-03-06 00:52:27,019] Trial 77 finished with value: 4240909374.3933644 and parameters: {'criterion': 'poisson', 'max_depth': None, 'min_samples_split': 3, 'min_samples_leaf': 1, 'min_weight_fraction_leaf': 0.00027193501694062355, 'max_features': None, 'max_leaf_nodes': None, 'min_impurity_decrease': 0.007514511611099119, 'ccp_alpha': 0.009383661905957253}. Best is trial 61 with value: 3427705884.6115246.\n",
      "[I 2025-03-06 00:52:27,100] Trial 78 finished with value: 3830565000.2040963 and parameters: {'criterion': 'poisson', 'max_depth': None, 'min_samples_split': 3, 'min_samples_leaf': 14, 'min_weight_fraction_leaf': 0.004900584016613628, 'max_features': None, 'max_leaf_nodes': None, 'min_impurity_decrease': 0.006710770287599559, 'ccp_alpha': 0.013387748118872528}. Best is trial 61 with value: 3427705884.6115246.\n",
      "[I 2025-03-06 00:52:29,631] Trial 79 finished with value: 3675483983.2162127 and parameters: {'criterion': 'absolute_error', 'max_depth': None, 'min_samples_split': 3, 'min_samples_leaf': 14, 'min_weight_fraction_leaf': 0.0013329505811772325, 'max_features': None, 'max_leaf_nodes': None, 'min_impurity_decrease': 0.008092276739484545, 'ccp_alpha': 0.0101727543163795}. Best is trial 61 with value: 3427705884.6115246.\n",
      "[I 2025-03-06 00:52:29,723] Trial 80 finished with value: 3506660596.7755437 and parameters: {'criterion': 'poisson', 'max_depth': None, 'min_samples_split': 3, 'min_samples_leaf': 20, 'min_weight_fraction_leaf': 0.0008288596425796942, 'max_features': None, 'max_leaf_nodes': None, 'min_impurity_decrease': 0.006148837720425563, 'ccp_alpha': 0.00698142133583066}. Best is trial 61 with value: 3427705884.6115246.\n",
      "[I 2025-03-06 00:52:29,828] Trial 81 finished with value: 3427705884.6115246 and parameters: {'criterion': 'poisson', 'max_depth': None, 'min_samples_split': 3, 'min_samples_leaf': 14, 'min_weight_fraction_leaf': 0.0003363348333038838, 'max_features': None, 'max_leaf_nodes': None, 'min_impurity_decrease': 0.0067464103110211684, 'ccp_alpha': 0.011391845680427769}. Best is trial 61 with value: 3427705884.6115246.\n",
      "[I 2025-03-06 00:52:29,928] Trial 82 finished with value: 3427705884.6115246 and parameters: {'criterion': 'poisson', 'max_depth': None, 'min_samples_split': 3, 'min_samples_leaf': 14, 'min_weight_fraction_leaf': 0.00029612368123415326, 'max_features': None, 'max_leaf_nodes': None, 'min_impurity_decrease': 0.006319876560194677, 'ccp_alpha': 0.01179070103649599}. Best is trial 61 with value: 3427705884.6115246.\n",
      "[I 2025-03-06 00:52:30,020] Trial 83 finished with value: 3427705884.6115246 and parameters: {'criterion': 'poisson', 'max_depth': None, 'min_samples_split': 3, 'min_samples_leaf': 14, 'min_weight_fraction_leaf': 1.7642968441003827e-05, 'max_features': None, 'max_leaf_nodes': None, 'min_impurity_decrease': 0.006568571116055677, 'ccp_alpha': 0.012021997195005723}. Best is trial 61 with value: 3427705884.6115246.\n",
      "[I 2025-03-06 00:52:30,112] Trial 84 finished with value: 3427705884.6115246 and parameters: {'criterion': 'poisson', 'max_depth': None, 'min_samples_split': 3, 'min_samples_leaf': 14, 'min_weight_fraction_leaf': 0.0011109760141223687, 'max_features': None, 'max_leaf_nodes': None, 'min_impurity_decrease': 0.006952202792007846, 'ccp_alpha': 0.012337699901084194}. Best is trial 61 with value: 3427705884.6115246.\n",
      "[I 2025-03-06 00:52:30,215] Trial 85 finished with value: 3637995990.2610345 and parameters: {'criterion': 'squared_error', 'max_depth': None, 'min_samples_split': 3, 'min_samples_leaf': 14, 'min_weight_fraction_leaf': 0.00036400603641208656, 'max_features': None, 'max_leaf_nodes': None, 'min_impurity_decrease': 0.005709817562764023, 'ccp_alpha': 0.010773986695629395}. Best is trial 61 with value: 3427705884.6115246.\n",
      "[I 2025-03-06 00:52:30,275] Trial 86 finished with value: 4580758795.393035 and parameters: {'criterion': 'poisson', 'max_depth': None, 'min_samples_split': 3, 'min_samples_leaf': 14, 'min_weight_fraction_leaf': 0.0008465557942080929, 'max_features': 'log2', 'max_leaf_nodes': 100, 'min_impurity_decrease': 0.005236104317874919, 'ccp_alpha': 0.009764355716232754}. Best is trial 61 with value: 3427705884.6115246.\n",
      "[I 2025-03-06 00:52:30,378] Trial 87 finished with value: 3427705884.6115246 and parameters: {'criterion': 'poisson', 'max_depth': None, 'min_samples_split': 3, 'min_samples_leaf': 14, 'min_weight_fraction_leaf': 0.0002599287130877691, 'max_features': None, 'max_leaf_nodes': None, 'min_impurity_decrease': 0.0064948393854972405, 'ccp_alpha': 0.009233603041115982}. Best is trial 61 with value: 3427705884.6115246.\n",
      "[I 2025-03-06 00:52:30,470] Trial 88 finished with value: 3486177887.792544 and parameters: {'criterion': 'poisson', 'max_depth': None, 'min_samples_split': 3, 'min_samples_leaf': 14, 'min_weight_fraction_leaf': 0.0016825802701716428, 'max_features': None, 'max_leaf_nodes': None, 'min_impurity_decrease': 0.005947738121650655, 'ccp_alpha': 0.013187576945243074}. Best is trial 61 with value: 3427705884.6115246.\n",
      "[I 2025-03-06 00:52:30,572] Trial 89 finished with value: 3427705884.6115246 and parameters: {'criterion': 'poisson', 'max_depth': None, 'min_samples_split': 3, 'min_samples_leaf': 14, 'min_weight_fraction_leaf': 0.0012729868117973156, 'max_features': None, 'max_leaf_nodes': None, 'min_impurity_decrease': 0.007157954910607351, 'ccp_alpha': 0.014309011165863049}. Best is trial 61 with value: 3427705884.6115246.\n",
      "[I 2025-03-06 00:52:30,632] Trial 90 finished with value: 4235654684.814757 and parameters: {'criterion': 'poisson', 'max_depth': None, 'min_samples_split': 3, 'min_samples_leaf': 1, 'min_weight_fraction_leaf': 0.0007354475562607283, 'max_features': 'sqrt', 'max_leaf_nodes': None, 'min_impurity_decrease': 0.00749769965049176, 'ccp_alpha': 0.010932290594595176}. Best is trial 61 with value: 3427705884.6115246.\n",
      "[I 2025-03-06 00:52:30,735] Trial 91 finished with value: 3427705884.6115246 and parameters: {'criterion': 'poisson', 'max_depth': None, 'min_samples_split': 3, 'min_samples_leaf': 14, 'min_weight_fraction_leaf': 0.0002470096345000459, 'max_features': None, 'max_leaf_nodes': None, 'min_impurity_decrease': 0.0058068515386410485, 'ccp_alpha': 0.010072839753120313}. Best is trial 61 with value: 3427705884.6115246.\n",
      "[I 2025-03-06 00:52:30,839] Trial 92 finished with value: 3427713739.073849 and parameters: {'criterion': 'poisson', 'max_depth': None, 'min_samples_split': 3, 'min_samples_leaf': 14, 'min_weight_fraction_leaf': 0.0005077369013657592, 'max_features': None, 'max_leaf_nodes': None, 'min_impurity_decrease': 0.006803303166375206, 'ccp_alpha': 0.008930661199018336}. Best is trial 61 with value: 3427705884.6115246.\n",
      "[I 2025-03-06 00:52:30,931] Trial 93 finished with value: 3427705884.6115246 and parameters: {'criterion': 'poisson', 'max_depth': None, 'min_samples_split': 3, 'min_samples_leaf': 14, 'min_weight_fraction_leaf': 0.0001808387330595103, 'max_features': None, 'max_leaf_nodes': None, 'min_impurity_decrease': 0.006213383046390813, 'ccp_alpha': 0.010504245672531333}. Best is trial 61 with value: 3427705884.6115246.\n",
      "[I 2025-03-06 00:52:31,033] Trial 94 finished with value: 3427705884.6115246 and parameters: {'criterion': 'poisson', 'max_depth': None, 'min_samples_split': 3, 'min_samples_leaf': 14, 'min_weight_fraction_leaf': 0.0010181805763114734, 'max_features': None, 'max_leaf_nodes': None, 'min_impurity_decrease': 0.0051870779125904164, 'ccp_alpha': 0.012410364586649235}. Best is trial 61 with value: 3427705884.6115246.\n",
      "[I 2025-03-06 00:52:31,134] Trial 95 finished with value: 3427705884.6115246 and parameters: {'criterion': 'poisson', 'max_depth': None, 'min_samples_split': 3, 'min_samples_leaf': 14, 'min_weight_fraction_leaf': 0.00044484693116184727, 'max_features': None, 'max_leaf_nodes': None, 'min_impurity_decrease': 0.004809847048987006, 'ccp_alpha': 0.011549725757376792}. Best is trial 61 with value: 3427705884.6115246.\n",
      "[I 2025-03-06 00:52:31,228] Trial 96 finished with value: 3625425115.778055 and parameters: {'criterion': 'poisson', 'max_depth': None, 'min_samples_split': 3, 'min_samples_leaf': 14, 'min_weight_fraction_leaf': 2.7532478117469586e-06, 'max_features': None, 'max_leaf_nodes': 150, 'min_impurity_decrease': 0.005908475967073625, 'ccp_alpha': 0.009776236719020262}. Best is trial 61 with value: 3427705884.6115246.\n",
      "[I 2025-03-06 00:52:31,312] Trial 97 finished with value: 4244285332.12079 and parameters: {'criterion': 'squared_error', 'max_depth': None, 'min_samples_split': 3, 'min_samples_leaf': 14, 'min_weight_fraction_leaf': 0.009477965268049518, 'max_features': None, 'max_leaf_nodes': None, 'min_impurity_decrease': 0.005615979820530947, 'ccp_alpha': 0.011092223531115525}. Best is trial 61 with value: 3427705884.6115246.\n",
      "[I 2025-03-06 00:52:31,395] Trial 98 finished with value: 3993913964.5323257 and parameters: {'criterion': 'poisson', 'max_depth': None, 'min_samples_split': 3, 'min_samples_leaf': 14, 'min_weight_fraction_leaf': 0.00702958657105643, 'max_features': None, 'max_leaf_nodes': None, 'min_impurity_decrease': 0.006461860729236598, 'ccp_alpha': 0.009038441895982342}. Best is trial 61 with value: 3427705884.6115246.\n",
      "[I 2025-03-06 00:52:33,905] Trial 99 finished with value: 3772187324.091006 and parameters: {'criterion': 'absolute_error', 'max_depth': None, 'min_samples_split': 3, 'min_samples_leaf': 20, 'min_weight_fraction_leaf': 0.0007138336390502366, 'max_features': None, 'max_leaf_nodes': None, 'min_impurity_decrease': 0.006867137945076138, 'ccp_alpha': 0.010348177607340128}. Best is trial 61 with value: 3427705884.6115246.\n"
     ]
    },
    {
     "name": "stdout",
     "output_type": "stream",
     "text": [
      "Best score: 3427705884.6115246\n",
      "Best parameters: {'criterion': 'poisson', 'max_depth': None, 'min_samples_split': 3, 'min_samples_leaf': 14, 'min_weight_fraction_leaf': 0.0006183032829960676, 'max_features': None, 'max_leaf_nodes': None, 'min_impurity_decrease': 0.007587075042333047, 'ccp_alpha': 0.009357482261580388}\n"
     ]
    }
   ],
   "source": [
    "def objective(trial):\n",
    "    # For ease of comparison, these were kept similar to values for used GridSearch above.\n",
    "    # You are welcome to experiment further.\n",
    "    params = {\n",
    "        'criterion': trial.suggest_categorical('criterion', ['squared_error', 'friedman_mse', 'absolute_error', 'poisson']),\n",
    "        'max_depth': trial.suggest_categorical('max_depth', [None, 10]),\n",
    "        'min_samples_split': trial.suggest_int('min_samples_split', 2, 3),\n",
    "        'min_samples_leaf': trial.suggest_categorical('min_samples_leaf', [1, 14, 20]),\n",
    "        'min_weight_fraction_leaf': trial.suggest_float('min_weight_fraction_leaf', 0.0, 0.01),\n",
    "        'max_features': trial.suggest_categorical('max_features', [None, 'sqrt', 'log2']),\n",
    "        'max_leaf_nodes': trial.suggest_categorical('max_leaf_nodes', [None, 100, 150]),\n",
    "        'min_impurity_decrease': trial.suggest_float('min_impurity_decrease', 0.0, 0.01),\n",
    "        'ccp_alpha': trial.suggest_float('ccp_alpha', 0.0, 0.02)\n",
    "    }\n",
    "\n",
    "    # Create a Decision Tree Regressor with parameters to be tuned\n",
    "    model = DecisionTreeRegressor(random_state=42, **params)\n",
    "    # Use cross-validation to evaluate the model\n",
    "    scores = cross_val_score(model, X_train, y_train,\n",
    "                             cv=3, scoring='neg_mean_squared_error', n_jobs=-1)\n",
    "    # Since scores are negative mean squared error, we negate it to get positive MSE\n",
    "    mse = -scores.mean()\n",
    "    return mse\n",
    "\n",
    "\n",
    "# Create a study object that will find the hyperparameters that minimize the objective\n",
    "study = optuna.create_study(direction='minimize')\n",
    "# You can adjust the number of trials here\n",
    "study.optimize(objective, n_trials=100)\n",
    "\n",
    "# Fetch the best parameters and the best score achieved\n",
    "best_params = study.best_params\n",
    "best_score = study.best_value\n",
    "\n",
    "print(\"Best score:\", best_score)\n",
    "print(\"Best parameters:\", best_params)"
   ]
  }
 ],
 "metadata": {
  "kernelspec": {
   "display_name": "AI-ML-Bootcamp-24-25",
   "language": "python",
   "name": "python3"
  },
  "language_info": {
   "codemirror_mode": {
    "name": "ipython",
    "version": 3
   },
   "file_extension": ".py",
   "mimetype": "text/x-python",
   "name": "python",
   "nbconvert_exporter": "python",
   "pygments_lexer": "ipython3",
   "version": "3.12.4"
  }
 },
 "nbformat": 4,
 "nbformat_minor": 2
}
